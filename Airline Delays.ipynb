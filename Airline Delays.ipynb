{
 "cells": [
  {
   "cell_type": "markdown",
   "metadata": {},
   "source": [
    "# Predicting Flight Delays\n",
    "\n",
    "We have a large data set (7 million points) of flight arrivals in 2008. Can we predict how much a flight will be delayed before it takes off? Let's take a look.\n",
    "\n",
    "Note that this notebook has been run partially with a fraction (0.01) of the data set and partially with a larger percentage to get the final results."
   ]
  },
  {
   "cell_type": "code",
   "execution_count": 1,
   "metadata": {
    "collapsed": true
   },
   "outputs": [],
   "source": [
    "import numpy as np\n",
    "import pandas as pd\n",
    "import matplotlib.pyplot as plt\n",
    "import seaborn as sns\n",
    "import datetime\n",
    "\n",
    "%matplotlib inline\n",
    "sns.set_style('white')"
   ]
  },
  {
   "cell_type": "markdown",
   "metadata": {},
   "source": [
    "Using large fractions ( > 0.3 ) of the data set kills my kernal, so I've done what I can with a smaller fraction."
   ]
  },
  {
   "cell_type": "code",
   "execution_count": 2,
   "metadata": {},
   "outputs": [
    {
     "data": {
      "text/plain": [
       "2102918"
      ]
     },
     "execution_count": 2,
     "metadata": {},
     "output_type": "execute_result"
    }
   ],
   "source": [
    "raw_data = pd.read_csv('2008.csv').sample(frac=.3)\n",
    "len(raw_data)"
   ]
  },
  {
   "cell_type": "code",
   "execution_count": 3,
   "metadata": {},
   "outputs": [
    {
     "data": {
      "text/html": [
       "<div>\n",
       "<style>\n",
       "    .dataframe thead tr:only-child th {\n",
       "        text-align: right;\n",
       "    }\n",
       "\n",
       "    .dataframe thead th {\n",
       "        text-align: left;\n",
       "    }\n",
       "\n",
       "    .dataframe tbody tr th {\n",
       "        vertical-align: top;\n",
       "    }\n",
       "</style>\n",
       "<table border=\"1\" class=\"dataframe\">\n",
       "  <thead>\n",
       "    <tr style=\"text-align: right;\">\n",
       "      <th></th>\n",
       "      <th>Year</th>\n",
       "      <th>Month</th>\n",
       "      <th>DayofMonth</th>\n",
       "      <th>DayOfWeek</th>\n",
       "      <th>DepTime</th>\n",
       "      <th>CRSDepTime</th>\n",
       "      <th>ArrTime</th>\n",
       "      <th>CRSArrTime</th>\n",
       "      <th>UniqueCarrier</th>\n",
       "      <th>FlightNum</th>\n",
       "      <th>...</th>\n",
       "      <th>TaxiIn</th>\n",
       "      <th>TaxiOut</th>\n",
       "      <th>Cancelled</th>\n",
       "      <th>CancellationCode</th>\n",
       "      <th>Diverted</th>\n",
       "      <th>CarrierDelay</th>\n",
       "      <th>WeatherDelay</th>\n",
       "      <th>NASDelay</th>\n",
       "      <th>SecurityDelay</th>\n",
       "      <th>LateAircraftDelay</th>\n",
       "    </tr>\n",
       "  </thead>\n",
       "  <tbody>\n",
       "    <tr>\n",
       "      <th>0</th>\n",
       "      <td>2008</td>\n",
       "      <td>4</td>\n",
       "      <td>30</td>\n",
       "      <td>3</td>\n",
       "      <td>844.0</td>\n",
       "      <td>845</td>\n",
       "      <td>1021.0</td>\n",
       "      <td>1017</td>\n",
       "      <td>F9</td>\n",
       "      <td>403</td>\n",
       "      <td>...</td>\n",
       "      <td>12.0</td>\n",
       "      <td>12.0</td>\n",
       "      <td>0</td>\n",
       "      <td>NaN</td>\n",
       "      <td>0</td>\n",
       "      <td>NaN</td>\n",
       "      <td>NaN</td>\n",
       "      <td>NaN</td>\n",
       "      <td>NaN</td>\n",
       "      <td>NaN</td>\n",
       "    </tr>\n",
       "    <tr>\n",
       "      <th>1</th>\n",
       "      <td>2008</td>\n",
       "      <td>1</td>\n",
       "      <td>5</td>\n",
       "      <td>6</td>\n",
       "      <td>1348.0</td>\n",
       "      <td>1355</td>\n",
       "      <td>1548.0</td>\n",
       "      <td>1555</td>\n",
       "      <td>DL</td>\n",
       "      <td>24</td>\n",
       "      <td>...</td>\n",
       "      <td>11.0</td>\n",
       "      <td>15.0</td>\n",
       "      <td>0</td>\n",
       "      <td>NaN</td>\n",
       "      <td>0</td>\n",
       "      <td>NaN</td>\n",
       "      <td>NaN</td>\n",
       "      <td>NaN</td>\n",
       "      <td>NaN</td>\n",
       "      <td>NaN</td>\n",
       "    </tr>\n",
       "    <tr>\n",
       "      <th>2</th>\n",
       "      <td>2008</td>\n",
       "      <td>2</td>\n",
       "      <td>26</td>\n",
       "      <td>2</td>\n",
       "      <td>2039.0</td>\n",
       "      <td>2010</td>\n",
       "      <td>19.0</td>\n",
       "      <td>2325</td>\n",
       "      <td>B6</td>\n",
       "      <td>459</td>\n",
       "      <td>...</td>\n",
       "      <td>4.0</td>\n",
       "      <td>16.0</td>\n",
       "      <td>0</td>\n",
       "      <td>NaN</td>\n",
       "      <td>0</td>\n",
       "      <td>0.0</td>\n",
       "      <td>0.0</td>\n",
       "      <td>25.0</td>\n",
       "      <td>0.0</td>\n",
       "      <td>29.0</td>\n",
       "    </tr>\n",
       "    <tr>\n",
       "      <th>3</th>\n",
       "      <td>2008</td>\n",
       "      <td>5</td>\n",
       "      <td>15</td>\n",
       "      <td>4</td>\n",
       "      <td>850.0</td>\n",
       "      <td>853</td>\n",
       "      <td>1025.0</td>\n",
       "      <td>1015</td>\n",
       "      <td>NW</td>\n",
       "      <td>238</td>\n",
       "      <td>...</td>\n",
       "      <td>8.0</td>\n",
       "      <td>22.0</td>\n",
       "      <td>0</td>\n",
       "      <td>NaN</td>\n",
       "      <td>0</td>\n",
       "      <td>NaN</td>\n",
       "      <td>NaN</td>\n",
       "      <td>NaN</td>\n",
       "      <td>NaN</td>\n",
       "      <td>NaN</td>\n",
       "    </tr>\n",
       "    <tr>\n",
       "      <th>4</th>\n",
       "      <td>2008</td>\n",
       "      <td>4</td>\n",
       "      <td>14</td>\n",
       "      <td>1</td>\n",
       "      <td>949.0</td>\n",
       "      <td>955</td>\n",
       "      <td>1105.0</td>\n",
       "      <td>1104</td>\n",
       "      <td>NW</td>\n",
       "      <td>627</td>\n",
       "      <td>...</td>\n",
       "      <td>19.0</td>\n",
       "      <td>13.0</td>\n",
       "      <td>0</td>\n",
       "      <td>NaN</td>\n",
       "      <td>0</td>\n",
       "      <td>NaN</td>\n",
       "      <td>NaN</td>\n",
       "      <td>NaN</td>\n",
       "      <td>NaN</td>\n",
       "      <td>NaN</td>\n",
       "    </tr>\n",
       "  </tbody>\n",
       "</table>\n",
       "<p>5 rows × 29 columns</p>\n",
       "</div>"
      ],
      "text/plain": [
       "   Year  Month  DayofMonth  DayOfWeek  DepTime  CRSDepTime  ArrTime  \\\n",
       "0  2008      4          30          3    844.0         845   1021.0   \n",
       "1  2008      1           5          6   1348.0        1355   1548.0   \n",
       "2  2008      2          26          2   2039.0        2010     19.0   \n",
       "3  2008      5          15          4    850.0         853   1025.0   \n",
       "4  2008      4          14          1    949.0         955   1105.0   \n",
       "\n",
       "   CRSArrTime UniqueCarrier  FlightNum        ...         TaxiIn  TaxiOut  \\\n",
       "0        1017            F9        403        ...           12.0     12.0   \n",
       "1        1555            DL         24        ...           11.0     15.0   \n",
       "2        2325            B6        459        ...            4.0     16.0   \n",
       "3        1015            NW        238        ...            8.0     22.0   \n",
       "4        1104            NW        627        ...           19.0     13.0   \n",
       "\n",
       "   Cancelled  CancellationCode  Diverted  CarrierDelay WeatherDelay NASDelay  \\\n",
       "0          0               NaN         0           NaN          NaN      NaN   \n",
       "1          0               NaN         0           NaN          NaN      NaN   \n",
       "2          0               NaN         0           0.0          0.0     25.0   \n",
       "3          0               NaN         0           NaN          NaN      NaN   \n",
       "4          0               NaN         0           NaN          NaN      NaN   \n",
       "\n",
       "   SecurityDelay  LateAircraftDelay  \n",
       "0            NaN                NaN  \n",
       "1            NaN                NaN  \n",
       "2            0.0               29.0  \n",
       "3            NaN                NaN  \n",
       "4            NaN                NaN  \n",
       "\n",
       "[5 rows x 29 columns]"
      ]
     },
     "execution_count": 3,
     "metadata": {},
     "output_type": "execute_result"
    }
   ],
   "source": [
    "data_clean = raw_data.reset_index(drop=True)\n",
    "data_clean.head()"
   ]
  },
  {
   "cell_type": "markdown",
   "metadata": {},
   "source": [
    "First of all, I'm going to convert Year, Month, and DayofMonth to DayOfYear. This should capture holidays better than the features separately."
   ]
  },
  {
   "cell_type": "code",
   "execution_count": 4,
   "metadata": {
    "collapsed": true
   },
   "outputs": [],
   "source": [
    "data_clean['DayOfYear'] = [datetime.datetime(\n",
    "    data_clean.loc[row, 'Year'], \n",
    "    data_clean.loc[row, 'Month'], \n",
    "    data_clean.loc[row, 'DayofMonth']).timetuple().tm_yday for row in range(len(raw_data))]"
   ]
  },
  {
   "cell_type": "code",
   "execution_count": 5,
   "metadata": {},
   "outputs": [
    {
     "data": {
      "text/plain": [
       "0    121\n",
       "1      5\n",
       "2     57\n",
       "3    136\n",
       "4    105\n",
       "Name: DayOfYear, dtype: int64"
      ]
     },
     "execution_count": 5,
     "metadata": {},
     "output_type": "execute_result"
    }
   ],
   "source": [
    "data_clean['DayOfYear'].head()"
   ]
  },
  {
   "cell_type": "code",
   "execution_count": 6,
   "metadata": {},
   "outputs": [
    {
     "data": {
      "text/html": [
       "<div>\n",
       "<style>\n",
       "    .dataframe thead tr:only-child th {\n",
       "        text-align: right;\n",
       "    }\n",
       "\n",
       "    .dataframe thead th {\n",
       "        text-align: left;\n",
       "    }\n",
       "\n",
       "    .dataframe tbody tr th {\n",
       "        vertical-align: top;\n",
       "    }\n",
       "</style>\n",
       "<table border=\"1\" class=\"dataframe\">\n",
       "  <thead>\n",
       "    <tr style=\"text-align: right;\">\n",
       "      <th></th>\n",
       "      <th>DayOfWeek</th>\n",
       "      <th>DepTime</th>\n",
       "      <th>CRSDepTime</th>\n",
       "      <th>ArrTime</th>\n",
       "      <th>CRSArrTime</th>\n",
       "      <th>UniqueCarrier</th>\n",
       "      <th>FlightNum</th>\n",
       "      <th>TailNum</th>\n",
       "      <th>ActualElapsedTime</th>\n",
       "      <th>CRSElapsedTime</th>\n",
       "      <th>...</th>\n",
       "      <th>TaxiOut</th>\n",
       "      <th>Cancelled</th>\n",
       "      <th>CancellationCode</th>\n",
       "      <th>Diverted</th>\n",
       "      <th>CarrierDelay</th>\n",
       "      <th>WeatherDelay</th>\n",
       "      <th>NASDelay</th>\n",
       "      <th>SecurityDelay</th>\n",
       "      <th>LateAircraftDelay</th>\n",
       "      <th>DayOfYear</th>\n",
       "    </tr>\n",
       "  </thead>\n",
       "  <tbody>\n",
       "    <tr>\n",
       "      <th>0</th>\n",
       "      <td>3</td>\n",
       "      <td>844.0</td>\n",
       "      <td>845</td>\n",
       "      <td>1021.0</td>\n",
       "      <td>1017</td>\n",
       "      <td>F9</td>\n",
       "      <td>403</td>\n",
       "      <td>N947FR</td>\n",
       "      <td>157.0</td>\n",
       "      <td>152.0</td>\n",
       "      <td>...</td>\n",
       "      <td>12.0</td>\n",
       "      <td>0</td>\n",
       "      <td>NaN</td>\n",
       "      <td>0</td>\n",
       "      <td>NaN</td>\n",
       "      <td>NaN</td>\n",
       "      <td>NaN</td>\n",
       "      <td>NaN</td>\n",
       "      <td>NaN</td>\n",
       "      <td>121</td>\n",
       "    </tr>\n",
       "    <tr>\n",
       "      <th>1</th>\n",
       "      <td>6</td>\n",
       "      <td>1348.0</td>\n",
       "      <td>1355</td>\n",
       "      <td>1548.0</td>\n",
       "      <td>1555</td>\n",
       "      <td>DL</td>\n",
       "      <td>24</td>\n",
       "      <td>N979DL</td>\n",
       "      <td>120.0</td>\n",
       "      <td>120.0</td>\n",
       "      <td>...</td>\n",
       "      <td>15.0</td>\n",
       "      <td>0</td>\n",
       "      <td>NaN</td>\n",
       "      <td>0</td>\n",
       "      <td>NaN</td>\n",
       "      <td>NaN</td>\n",
       "      <td>NaN</td>\n",
       "      <td>NaN</td>\n",
       "      <td>NaN</td>\n",
       "      <td>5</td>\n",
       "    </tr>\n",
       "    <tr>\n",
       "      <th>2</th>\n",
       "      <td>2</td>\n",
       "      <td>2039.0</td>\n",
       "      <td>2010</td>\n",
       "      <td>19.0</td>\n",
       "      <td>2325</td>\n",
       "      <td>B6</td>\n",
       "      <td>459</td>\n",
       "      <td>N589JB</td>\n",
       "      <td>220.0</td>\n",
       "      <td>195.0</td>\n",
       "      <td>...</td>\n",
       "      <td>16.0</td>\n",
       "      <td>0</td>\n",
       "      <td>NaN</td>\n",
       "      <td>0</td>\n",
       "      <td>0.0</td>\n",
       "      <td>0.0</td>\n",
       "      <td>25.0</td>\n",
       "      <td>0.0</td>\n",
       "      <td>29.0</td>\n",
       "      <td>57</td>\n",
       "    </tr>\n",
       "    <tr>\n",
       "      <th>3</th>\n",
       "      <td>4</td>\n",
       "      <td>850.0</td>\n",
       "      <td>853</td>\n",
       "      <td>1025.0</td>\n",
       "      <td>1015</td>\n",
       "      <td>NW</td>\n",
       "      <td>238</td>\n",
       "      <td>N333NW</td>\n",
       "      <td>95.0</td>\n",
       "      <td>82.0</td>\n",
       "      <td>...</td>\n",
       "      <td>22.0</td>\n",
       "      <td>0</td>\n",
       "      <td>NaN</td>\n",
       "      <td>0</td>\n",
       "      <td>NaN</td>\n",
       "      <td>NaN</td>\n",
       "      <td>NaN</td>\n",
       "      <td>NaN</td>\n",
       "      <td>NaN</td>\n",
       "      <td>136</td>\n",
       "    </tr>\n",
       "    <tr>\n",
       "      <th>4</th>\n",
       "      <td>1</td>\n",
       "      <td>949.0</td>\n",
       "      <td>955</td>\n",
       "      <td>1105.0</td>\n",
       "      <td>1104</td>\n",
       "      <td>NW</td>\n",
       "      <td>627</td>\n",
       "      <td>N332NB</td>\n",
       "      <td>76.0</td>\n",
       "      <td>69.0</td>\n",
       "      <td>...</td>\n",
       "      <td>13.0</td>\n",
       "      <td>0</td>\n",
       "      <td>NaN</td>\n",
       "      <td>0</td>\n",
       "      <td>NaN</td>\n",
       "      <td>NaN</td>\n",
       "      <td>NaN</td>\n",
       "      <td>NaN</td>\n",
       "      <td>NaN</td>\n",
       "      <td>105</td>\n",
       "    </tr>\n",
       "  </tbody>\n",
       "</table>\n",
       "<p>5 rows × 27 columns</p>\n",
       "</div>"
      ],
      "text/plain": [
       "   DayOfWeek  DepTime  CRSDepTime  ArrTime  CRSArrTime UniqueCarrier  \\\n",
       "0          3    844.0         845   1021.0        1017            F9   \n",
       "1          6   1348.0        1355   1548.0        1555            DL   \n",
       "2          2   2039.0        2010     19.0        2325            B6   \n",
       "3          4    850.0         853   1025.0        1015            NW   \n",
       "4          1    949.0         955   1105.0        1104            NW   \n",
       "\n",
       "   FlightNum TailNum  ActualElapsedTime  CRSElapsedTime    ...     TaxiOut  \\\n",
       "0        403  N947FR              157.0           152.0    ...        12.0   \n",
       "1         24  N979DL              120.0           120.0    ...        15.0   \n",
       "2        459  N589JB              220.0           195.0    ...        16.0   \n",
       "3        238  N333NW               95.0            82.0    ...        22.0   \n",
       "4        627  N332NB               76.0            69.0    ...        13.0   \n",
       "\n",
       "   Cancelled  CancellationCode Diverted CarrierDelay  WeatherDelay  NASDelay  \\\n",
       "0          0               NaN        0          NaN           NaN       NaN   \n",
       "1          0               NaN        0          NaN           NaN       NaN   \n",
       "2          0               NaN        0          0.0           0.0      25.0   \n",
       "3          0               NaN        0          NaN           NaN       NaN   \n",
       "4          0               NaN        0          NaN           NaN       NaN   \n",
       "\n",
       "   SecurityDelay  LateAircraftDelay DayOfYear  \n",
       "0            NaN                NaN       121  \n",
       "1            NaN                NaN         5  \n",
       "2            0.0               29.0        57  \n",
       "3            NaN                NaN       136  \n",
       "4            NaN                NaN       105  \n",
       "\n",
       "[5 rows x 27 columns]"
      ]
     },
     "execution_count": 6,
     "metadata": {},
     "output_type": "execute_result"
    }
   ],
   "source": [
    "data_clean.drop(['Year', 'Month', 'DayofMonth'], axis=1, inplace=True)\n",
    "data_clean.head()"
   ]
  },
  {
   "cell_type": "code",
   "execution_count": 7,
   "metadata": {},
   "outputs": [
    {
     "data": {
      "text/plain": [
       "Index(['DayOfWeek', 'DepTime', 'CRSDepTime', 'ArrTime', 'CRSArrTime',\n",
       "       'UniqueCarrier', 'FlightNum', 'TailNum', 'ActualElapsedTime',\n",
       "       'CRSElapsedTime', 'AirTime', 'ArrDelay', 'DepDelay', 'Origin', 'Dest',\n",
       "       'Distance', 'TaxiIn', 'TaxiOut', 'Cancelled', 'CancellationCode',\n",
       "       'Diverted', 'CarrierDelay', 'WeatherDelay', 'NASDelay', 'SecurityDelay',\n",
       "       'LateAircraftDelay', 'DayOfYear'],\n",
       "      dtype='object')"
      ]
     },
     "execution_count": 7,
     "metadata": {},
     "output_type": "execute_result"
    }
   ],
   "source": [
    "data_clean.columns"
   ]
  },
  {
   "cell_type": "markdown",
   "metadata": {},
   "source": [
    "What are we actually trying to predict with this data set? \n",
    "\n",
    "**Will a flight be at least 30 minutes late?**\n",
    "\n",
    "The variable for this is \"ArrDelay\", and we'll have to convert it to binary.\n",
    "\n",
    "Great, but that also means there's a lot of data in there that we can't actually use. Specifically, CarrierDelay through LateAircraftDelay are all a breakdown of WHY we're late. They contain the output variable, and can't be used predictively. Same with ArrTime, AirTime, TaxiIn, and ActualElapsedTime. Cancelled, Diverted, and TaxiOut are sketchy because they aren't known ahead of time. Similarly, DepDelay and DepTime are only known once the flight takes off. If our goal is to predict BEFORE a flight leaves the ground, then these are out as well. Let's see what we're left with."
   ]
  },
  {
   "cell_type": "code",
   "execution_count": 8,
   "metadata": {
    "collapsed": true
   },
   "outputs": [],
   "source": [
    "data_clean.drop(['ArrTime', 'ActualElapsedTime', 'AirTime', \n",
    "                 'DepDelay', 'TaxiIn', 'TaxiOut', 'Cancelled', 'CancellationCode', 'Diverted', \n",
    "                 'CarrierDelay', 'WeatherDelay', 'NASDelay', 'SecurityDelay',\n",
    "                 'LateAircraftDelay'], axis=1, inplace=True)"
   ]
  },
  {
   "cell_type": "markdown",
   "metadata": {},
   "source": [
    "**NOTE: After running the whole analysis without \"DEPTIME\" multiple times, it showed that our fit was going to be terrible. I've included that variable in the latest run through the notebook, which substantially improves our results, as it should. Now we're predicting lateness of the flight immediately AFTER takeoff.**"
   ]
  },
  {
   "cell_type": "code",
   "execution_count": 9,
   "metadata": {},
   "outputs": [
    {
     "data": {
      "text/plain": [
       "Index(['DayOfWeek', 'DepTime', 'CRSDepTime', 'CRSArrTime', 'UniqueCarrier',\n",
       "       'FlightNum', 'TailNum', 'CRSElapsedTime', 'ArrDelay', 'Origin', 'Dest',\n",
       "       'Distance', 'DayOfYear'],\n",
       "      dtype='object')"
      ]
     },
     "execution_count": 9,
     "metadata": {},
     "output_type": "execute_result"
    }
   ],
   "source": [
    "data_clean.columns"
   ]
  },
  {
   "cell_type": "markdown",
   "metadata": {},
   "source": [
    "We should be able to safely dropna() now that most of the offending columns are gone."
   ]
  },
  {
   "cell_type": "code",
   "execution_count": 10,
   "metadata": {},
   "outputs": [
    {
     "data": {
      "text/html": [
       "<div>\n",
       "<style>\n",
       "    .dataframe thead tr:only-child th {\n",
       "        text-align: right;\n",
       "    }\n",
       "\n",
       "    .dataframe thead th {\n",
       "        text-align: left;\n",
       "    }\n",
       "\n",
       "    .dataframe tbody tr th {\n",
       "        vertical-align: top;\n",
       "    }\n",
       "</style>\n",
       "<table border=\"1\" class=\"dataframe\">\n",
       "  <thead>\n",
       "    <tr style=\"text-align: right;\">\n",
       "      <th></th>\n",
       "      <th>DayOfWeek</th>\n",
       "      <th>DepTime</th>\n",
       "      <th>CRSDepTime</th>\n",
       "      <th>CRSArrTime</th>\n",
       "      <th>FlightNum</th>\n",
       "      <th>CRSElapsedTime</th>\n",
       "      <th>ArrDelay</th>\n",
       "      <th>Distance</th>\n",
       "      <th>DayOfYear</th>\n",
       "    </tr>\n",
       "  </thead>\n",
       "  <tbody>\n",
       "    <tr>\n",
       "      <th>count</th>\n",
       "      <td>2.056499e+06</td>\n",
       "      <td>2.056499e+06</td>\n",
       "      <td>2.056499e+06</td>\n",
       "      <td>2.056499e+06</td>\n",
       "      <td>2.056499e+06</td>\n",
       "      <td>2.056499e+06</td>\n",
       "      <td>2.056499e+06</td>\n",
       "      <td>2.056499e+06</td>\n",
       "      <td>2.056499e+06</td>\n",
       "    </tr>\n",
       "    <tr>\n",
       "      <th>mean</th>\n",
       "      <td>3.926540e+00</td>\n",
       "      <td>1.333566e+03</td>\n",
       "      <td>1.324961e+03</td>\n",
       "      <td>1.493532e+03</td>\n",
       "      <td>2.211488e+03</td>\n",
       "      <td>1.290515e+02</td>\n",
       "      <td>8.144056e+00</td>\n",
       "      <td>7.284976e+02</td>\n",
       "      <td>1.797412e+02</td>\n",
       "    </tr>\n",
       "    <tr>\n",
       "      <th>std</th>\n",
       "      <td>1.989331e+00</td>\n",
       "      <td>4.781868e+02</td>\n",
       "      <td>4.643845e+02</td>\n",
       "      <td>4.827513e+02</td>\n",
       "      <td>1.955954e+03</td>\n",
       "      <td>6.950122e+01</td>\n",
       "      <td>3.844851e+01</td>\n",
       "      <td>5.628880e+02</td>\n",
       "      <td>1.040277e+02</td>\n",
       "    </tr>\n",
       "    <tr>\n",
       "      <th>min</th>\n",
       "      <td>1.000000e+00</td>\n",
       "      <td>1.000000e+00</td>\n",
       "      <td>1.000000e+00</td>\n",
       "      <td>0.000000e+00</td>\n",
       "      <td>1.000000e+00</td>\n",
       "      <td>-1.410000e+02</td>\n",
       "      <td>-1.290000e+02</td>\n",
       "      <td>1.100000e+01</td>\n",
       "      <td>1.000000e+00</td>\n",
       "    </tr>\n",
       "    <tr>\n",
       "      <th>25%</th>\n",
       "      <td>2.000000e+00</td>\n",
       "      <td>9.280000e+02</td>\n",
       "      <td>9.250000e+02</td>\n",
       "      <td>1.115000e+03</td>\n",
       "      <td>6.180000e+02</td>\n",
       "      <td>8.000000e+01</td>\n",
       "      <td>-1.000000e+01</td>\n",
       "      <td>3.260000e+02</td>\n",
       "      <td>9.100000e+01</td>\n",
       "    </tr>\n",
       "    <tr>\n",
       "      <th>50%</th>\n",
       "      <td>4.000000e+00</td>\n",
       "      <td>1.325000e+03</td>\n",
       "      <td>1.317000e+03</td>\n",
       "      <td>1.515000e+03</td>\n",
       "      <td>1.562000e+03</td>\n",
       "      <td>1.110000e+02</td>\n",
       "      <td>-2.000000e+00</td>\n",
       "      <td>5.810000e+02</td>\n",
       "      <td>1.780000e+02</td>\n",
       "    </tr>\n",
       "    <tr>\n",
       "      <th>75%</th>\n",
       "      <td>6.000000e+00</td>\n",
       "      <td>1.728000e+03</td>\n",
       "      <td>1.715000e+03</td>\n",
       "      <td>1.905000e+03</td>\n",
       "      <td>3.492000e+03</td>\n",
       "      <td>1.590000e+02</td>\n",
       "      <td>1.200000e+01</td>\n",
       "      <td>9.540000e+02</td>\n",
       "      <td>2.680000e+02</td>\n",
       "    </tr>\n",
       "    <tr>\n",
       "      <th>max</th>\n",
       "      <td>7.000000e+00</td>\n",
       "      <td>2.400000e+03</td>\n",
       "      <td>2.359000e+03</td>\n",
       "      <td>2.359000e+03</td>\n",
       "      <td>9.741000e+03</td>\n",
       "      <td>6.600000e+02</td>\n",
       "      <td>1.417000e+03</td>\n",
       "      <td>4.962000e+03</td>\n",
       "      <td>3.660000e+02</td>\n",
       "    </tr>\n",
       "  </tbody>\n",
       "</table>\n",
       "</div>"
      ],
      "text/plain": [
       "          DayOfWeek       DepTime    CRSDepTime    CRSArrTime     FlightNum  \\\n",
       "count  2.056499e+06  2.056499e+06  2.056499e+06  2.056499e+06  2.056499e+06   \n",
       "mean   3.926540e+00  1.333566e+03  1.324961e+03  1.493532e+03  2.211488e+03   \n",
       "std    1.989331e+00  4.781868e+02  4.643845e+02  4.827513e+02  1.955954e+03   \n",
       "min    1.000000e+00  1.000000e+00  1.000000e+00  0.000000e+00  1.000000e+00   \n",
       "25%    2.000000e+00  9.280000e+02  9.250000e+02  1.115000e+03  6.180000e+02   \n",
       "50%    4.000000e+00  1.325000e+03  1.317000e+03  1.515000e+03  1.562000e+03   \n",
       "75%    6.000000e+00  1.728000e+03  1.715000e+03  1.905000e+03  3.492000e+03   \n",
       "max    7.000000e+00  2.400000e+03  2.359000e+03  2.359000e+03  9.741000e+03   \n",
       "\n",
       "       CRSElapsedTime      ArrDelay      Distance     DayOfYear  \n",
       "count    2.056499e+06  2.056499e+06  2.056499e+06  2.056499e+06  \n",
       "mean     1.290515e+02  8.144056e+00  7.284976e+02  1.797412e+02  \n",
       "std      6.950122e+01  3.844851e+01  5.628880e+02  1.040277e+02  \n",
       "min     -1.410000e+02 -1.290000e+02  1.100000e+01  1.000000e+00  \n",
       "25%      8.000000e+01 -1.000000e+01  3.260000e+02  9.100000e+01  \n",
       "50%      1.110000e+02 -2.000000e+00  5.810000e+02  1.780000e+02  \n",
       "75%      1.590000e+02  1.200000e+01  9.540000e+02  2.680000e+02  \n",
       "max      6.600000e+02  1.417000e+03  4.962000e+03  3.660000e+02  "
      ]
     },
     "execution_count": 10,
     "metadata": {},
     "output_type": "execute_result"
    }
   ],
   "source": [
    "data_clean.dropna(inplace=True)\n",
    "data_clean.describe()"
   ]
  },
  {
   "cell_type": "code",
   "execution_count": 11,
   "metadata": {},
   "outputs": [
    {
     "data": {
      "text/plain": [
       "(2056499, 13)"
      ]
     },
     "execution_count": 11,
     "metadata": {},
     "output_type": "execute_result"
    }
   ],
   "source": [
    "data_clean.shape"
   ]
  },
  {
   "cell_type": "code",
   "execution_count": 12,
   "metadata": {},
   "outputs": [
    {
     "data": {
      "image/png": "[encoded data removed]",
      "text/plain": [
       "<matplotlib.figure.Figure at 0x1a4770ae80>"
      ]
     },
     "metadata": {},
     "output_type": "display_data"
    }
   ],
   "source": [
    "plt.hist(data_clean.ArrDelay, bins=20)\n",
    "plt.show()"
   ]
  },
  {
   "cell_type": "code",
   "execution_count": 13,
   "metadata": {},
   "outputs": [
    {
     "data": {
      "text/plain": [
       "count    2.056499e+06\n",
       "mean     8.144056e+00\n",
       "std      3.844851e+01\n",
       "min     -1.290000e+02\n",
       "25%     -1.000000e+01\n",
       "50%     -2.000000e+00\n",
       "75%      1.200000e+01\n",
       "max      1.417000e+03\n",
       "Name: ArrDelay, dtype: float64"
      ]
     },
     "execution_count": 13,
     "metadata": {},
     "output_type": "execute_result"
    }
   ],
   "source": [
    "data_clean.ArrDelay.describe()"
   ]
  },
  {
   "cell_type": "code",
   "execution_count": 14,
   "metadata": {},
   "outputs": [
    {
     "data": {
      "text/plain": [
       "Index(['DayOfWeek', 'DepTime', 'CRSDepTime', 'CRSArrTime', 'UniqueCarrier',\n",
       "       'FlightNum', 'TailNum', 'CRSElapsedTime', 'ArrDelay', 'Origin', 'Dest',\n",
       "       'Distance', 'DayOfYear', 'IsLate'],\n",
       "      dtype='object')"
      ]
     },
     "execution_count": 14,
     "metadata": {},
     "output_type": "execute_result"
    }
   ],
   "source": [
    "data_clean['IsLate'] = np.where(data_clean.ArrDelay>=30, 1, 0)\n",
    "data_clean.IsLate.sum(), len(data_clean)\n",
    "data_clean.columns"
   ]
  },
  {
   "cell_type": "markdown",
   "metadata": {},
   "source": [
    "We'll be dealing with imbalanced classes here -- only about 13% of flights are delayed at least 30 minutes.\n",
    "\n",
    "FlightNum and TailNum are categorical variables, so let's remove them for now. We're not going to make dummies for every single plane (although it might be interesting if we had the processing power)."
   ]
  },
  {
   "cell_type": "code",
   "execution_count": 15,
   "metadata": {
    "collapsed": true
   },
   "outputs": [],
   "source": [
    "data_clean.drop(['FlightNum', 'TailNum'], axis=1, inplace=True)"
   ]
  },
  {
   "cell_type": "code",
   "execution_count": 16,
   "metadata": {},
   "outputs": [
    {
     "data": {
      "text/plain": [
       "array(['F9', 'DL', 'B6', 'NW', 'XE', 'UA', 'AS', 'WN', 'MQ', 'OO', 'YV',\n",
       "       'FL', 'AA', 'CO', 'EV', 'OH', 'US', '9E', 'HA', 'AQ'], dtype=object)"
      ]
     },
     "execution_count": 16,
     "metadata": {},
     "output_type": "execute_result"
    }
   ],
   "source": [
    "data_clean.UniqueCarrier.unique()"
   ]
  },
  {
   "cell_type": "markdown",
   "metadata": {},
   "source": [
    "This one we can make dummies for. Also Origin and Dest (although this will give us a lot of features!). We'll be sure to run feature selection before we run our models."
   ]
  },
  {
   "cell_type": "code",
   "execution_count": 17,
   "metadata": {
    "collapsed": true
   },
   "outputs": [],
   "source": [
    "data_clean = pd.get_dummies(data_clean)"
   ]
  },
  {
   "cell_type": "code",
   "execution_count": 18,
   "metadata": {
    "collapsed": true
   },
   "outputs": [],
   "source": [
    "from sklearn.utils import resample"
   ]
  },
  {
   "cell_type": "code",
   "execution_count": 19,
   "metadata": {},
   "outputs": [
    {
     "data": {
      "text/plain": [
       "((444304, 634), (411299, 634))"
      ]
     },
     "execution_count": 19,
     "metadata": {},
     "output_type": "execute_result"
    }
   ],
   "source": [
    "# Data is already shuffled. Create Test Set and a Resampled Training Set.\n",
    "# Because we're bumping up against processor capacity, we'll downsample the common class\n",
    "# rather than upsampling the uncommon as we normally would. This preserves more unique data.\n",
    "\n",
    "test_frac = 0.2\n",
    "test_size = int(test_frac*len(data_clean))\n",
    "\n",
    "data_test = data_clean[:test_size]\n",
    "\n",
    "data_train = data_clean[test_size:]\n",
    "train_pos = data_train[data_train.IsLate==1]\n",
    "train_neg = data_train[data_train.IsLate==0]\n",
    "train_neg = resample(train_neg, n_samples=len(train_pos))\n",
    "data_train = pd.concat([train_neg, train_pos]).sample(frac=1)\n",
    "\n",
    "data_train.shape, data_test.shape"
   ]
  },
  {
   "cell_type": "code",
   "execution_count": 20,
   "metadata": {
    "collapsed": true
   },
   "outputs": [],
   "source": [
    "X_train = data_train.loc[:, ~data_train.columns.isin(['ArrDelay', 'IsLate'])]\n",
    "Y_train = data_train['IsLate']\n",
    "\n",
    "X_test = data_test.loc[:, ~data_test.columns.isin(['ArrDelay', 'IsLate'])]\n",
    "Y_test = data_test['IsLate']"
   ]
  },
  {
   "cell_type": "code",
   "execution_count": 21,
   "metadata": {
    "collapsed": true
   },
   "outputs": [],
   "source": [
    "from sklearn.linear_model import LogisticRegression\n",
    "from sklearn.neighbors import KNeighborsClassifier\n",
    "from sklearn.tree import DecisionTreeClassifier\n",
    "from sklearn.ensemble import RandomForestClassifier, GradientBoostingClassifier\n",
    "from sklearn.svm import SVC\n",
    "\n",
    "from sklearn.metrics import confusion_matrix, auc, precision_recall_curve, average_precision_score\n",
    "from sklearn.model_selection import cross_val_score, GridSearchCV\n",
    "\n",
    "from sklearn.decomposition import PCA\n",
    "from sklearn.feature_selection import SelectKBest, RFE"
   ]
  },
  {
   "cell_type": "code",
   "execution_count": 22,
   "metadata": {
    "collapsed": true
   },
   "outputs": [],
   "source": [
    "def auprc(Y, Y_pred):\n",
    "    precision, recall, thresholds = precision_recall_curve(Y, Y_pred)\n",
    "    return auc(precision, recall)"
   ]
  },
  {
   "cell_type": "markdown",
   "metadata": {},
   "source": [
    "Let's start by trying all the models, and then move on to feature selection and gridsearches, etc."
   ]
  },
  {
   "cell_type": "code",
   "execution_count": 31,
   "metadata": {},
   "outputs": [
    {
     "name": "stdout",
     "output_type": "stream",
     "text": [
      "0.795887614233\n"
     ]
    },
    {
     "data": {
      "text/plain": [
       "array([[14350,  3441],\n",
       "       [  758,  2023]])"
      ]
     },
     "execution_count": 31,
     "metadata": {},
     "output_type": "execute_result"
    }
   ],
   "source": [
    "lgr = LogisticRegression(penalty='l2')\n",
    "lgr.fit(X_train,Y_train)\n",
    "print(lgr.score(X_test,Y_test))\n",
    "Y_pred = lgr.predict(X_test)\n",
    "confusion_matrix(Y_test, Y_pred)"
   ]
  },
  {
   "cell_type": "code",
   "execution_count": 32,
   "metadata": {},
   "outputs": [
    {
     "name": "stdout",
     "output_type": "stream",
     "text": [
      "0.784853198522\n"
     ]
    },
    {
     "data": {
      "text/plain": [
       "array([[14184,  3607],\n",
       "       [  819,  1962]])"
      ]
     },
     "execution_count": 32,
     "metadata": {},
     "output_type": "execute_result"
    }
   ],
   "source": [
    "las = LogisticRegression(penalty='l1')\n",
    "las.fit(X_train,Y_train)\n",
    "print(las.score(X_test,Y_test))\n",
    "Y_pred = las.predict(X_test)\n",
    "confusion_matrix(Y_test, Y_pred)"
   ]
  },
  {
   "cell_type": "code",
   "execution_count": 33,
   "metadata": {},
   "outputs": [
    {
     "name": "stdout",
     "output_type": "stream",
     "text": [
      "0.879593622399\n"
     ]
    },
    {
     "data": {
      "text/plain": [
       "array([[16277,  1514],\n",
       "       [  963,  1818]])"
      ]
     },
     "execution_count": 33,
     "metadata": {},
     "output_type": "execute_result"
    }
   ],
   "source": [
    "knc = KNeighborsClassifier(n_neighbors=4)\n",
    "knc.fit(X_train,Y_train)\n",
    "print(knc.score(X_test,Y_test))\n",
    "Y_pred = knc.predict(X_test)\n",
    "confusion_matrix(Y_test, Y_pred)"
   ]
  },
  {
   "cell_type": "code",
   "execution_count": 34,
   "metadata": {},
   "outputs": [
    {
     "name": "stdout",
     "output_type": "stream",
     "text": [
      "0.568977250632\n"
     ]
    },
    {
     "data": {
      "text/plain": [
       "array([[9967, 7824],\n",
       "       [1043, 1738]])"
      ]
     },
     "execution_count": 34,
     "metadata": {},
     "output_type": "execute_result"
    }
   ],
   "source": [
    "dtc = DecisionTreeClassifier(max_depth=20, max_features='sqrt')\n",
    "dtc.fit(X_train,Y_train)\n",
    "print(dtc.score(X_test,Y_test))\n",
    "Y_pred = dtc.predict(X_test)\n",
    "confusion_matrix(Y_test, Y_pred)"
   ]
  },
  {
   "cell_type": "code",
   "execution_count": 30,
   "metadata": {},
   "outputs": [
    {
     "name": "stdout",
     "output_type": "stream",
     "text": [
      "0.880468598094\n"
     ]
    },
    {
     "data": {
      "text/plain": [
       "array([[17383,   408],\n",
       "       [ 2051,   730]])"
      ]
     },
     "execution_count": 30,
     "metadata": {},
     "output_type": "execute_result"
    }
   ],
   "source": [
    "rfc = RandomForestClassifier(n_estimators=50)\n",
    "rfc.fit(X_train,Y_train)\n",
    "print(rfc.score(X_test,Y_test))\n",
    "Y_pred = rfc.predict(X_test)\n",
    "confusion_matrix(Y_test, Y_pred)"
   ]
  },
  {
   "cell_type": "code",
   "execution_count": 52,
   "metadata": {},
   "outputs": [
    {
     "name": "stdout",
     "output_type": "stream",
     "text": [
      "0.632954976511\n"
     ]
    },
    {
     "data": {
      "text/plain": [
       "array([[18606, 11050],\n",
       "       [ 1529,  3086]])"
      ]
     },
     "execution_count": 52,
     "metadata": {},
     "output_type": "execute_result"
    }
   ],
   "source": [
    "gbc = GradientBoostingClassifier(n_estimators=100, max_depth=3)\n",
    "gbc.fit(X_train,Y_train)\n",
    "print(gbc.score(X_test,Y_test))\n",
    "Y_pred = gbc.predict(X_test)\n",
    "confusion_matrix(Y_test, Y_pred)"
   ]
  },
  {
   "cell_type": "code",
   "execution_count": null,
   "metadata": {
    "collapsed": true
   },
   "outputs": [],
   "source": [
    "# This one takes a long time -- beware when using a large fraction of the data set!\n",
    "svc = SVC(C=1)\n",
    "svc.fit(X_train,Y_train)\n",
    "print(las.score(X_test,Y_test))\n",
    "Y_pred = las.predict(X_test)\n",
    "confusion_matrix(Y_test, Y_pred)"
   ]
  },
  {
   "cell_type": "markdown",
   "metadata": {},
   "source": [
    "These classifiers are working okay -- KNeighbors actually seems to be working best, however we're still only predicting 2/3 of the late arrivals while misclassifying 3x as many negative examples as we are getting right."
   ]
  },
  {
   "cell_type": "markdown",
   "metadata": {
    "collapsed": true
   },
   "source": [
    "Try other feature selection: Random Forest, RFE\n",
    "Gridsearch RFC and GBC and DTC\n",
    "Cross Val for models\n",
    "Try model with DepTime"
   ]
  },
  {
   "cell_type": "markdown",
   "metadata": {},
   "source": [
    "## Feature Selection\n",
    "\n",
    "Now with some feature selection. We'll try PCA, SelectKBest, RFE, and Random Forest importances on a couple models to see how they compare."
   ]
  },
  {
   "cell_type": "code",
   "execution_count": 49,
   "metadata": {
    "collapsed": true
   },
   "outputs": [],
   "source": [
    "pca = PCA(n_components=50)\n",
    "pca.fit(X_train)\n",
    "X_train_pca = pca.transform(X_train)\n",
    "X_test_pca = pca.transform(X_test)"
   ]
  },
  {
   "cell_type": "code",
   "execution_count": 23,
   "metadata": {},
   "outputs": [
    {
     "name": "stderr",
     "output_type": "stream",
     "text": [
      "/Users/maxcalabro/anaconda3/lib/python3.6/site-packages/sklearn/feature_selection/univariate_selection.py:113: UserWarning: Features [164 330 331 541 593] are constant.\n",
      "  UserWarning)\n",
      "/Users/maxcalabro/anaconda3/lib/python3.6/site-packages/sklearn/feature_selection/univariate_selection.py:114: RuntimeWarning: invalid value encountered in true_divide\n",
      "  f = msb / msw\n"
     ]
    }
   ],
   "source": [
    "skb = SelectKBest(k=50)\n",
    "skb.fit(X_train, Y_train)\n",
    "X_train_skb = skb.transform(X_train)\n",
    "X_test_skb = skb.transform(X_test)"
   ]
  },
  {
   "cell_type": "code",
   "execution_count": 44,
   "metadata": {
    "collapsed": true
   },
   "outputs": [],
   "source": [
    "rfe = RFE(estimator=dtc, n_features_to_select=50)\n",
    "rfe.fit(X_train, Y_train)\n",
    "X_train_rfe = rfe.transform(X_train)\n",
    "X_test_rfe = rfe.transform(X_test)"
   ]
  },
  {
   "cell_type": "code",
   "execution_count": 35,
   "metadata": {},
   "outputs": [
    {
     "data": {
      "image/png": "[encoded data removed]",
      "text/plain": [
       "<matplotlib.figure.Figure at 0x1a5c9f5898>"
      ]
     },
     "metadata": {},
     "output_type": "display_data"
    }
   ],
   "source": [
    "importances = rfc.feature_importances_\n",
    "indices = np.argsort(importances)[::-1]\n",
    "top_indices = indices[:100]\n",
    "\n",
    "# Plot the feature importances of the forest\n",
    "plt.figure(figsize=(14, 4))\n",
    "plt.title(\"Top {} Feature Importances\".format(len(top_indices)))\n",
    "plt.bar(range(len(top_indices)), importances[top_indices],\n",
    "       color=\"r\", align=\"center\")\n",
    "plt.xlim([-1, len(top_indices)])\n",
    "plt.ylabel('% Variance Described')\n",
    "plt.show()"
   ]
  },
  {
   "cell_type": "code",
   "execution_count": 36,
   "metadata": {},
   "outputs": [
    {
     "name": "stdout",
     "output_type": "stream",
     "text": [
      "Variance explained with 5 features: 0.5587145054985474\n",
      "Variance explained with 10 features: 0.6727736118156504\n",
      "Variance explained with 20 features: 0.7100649050963206\n",
      "Variance explained with 50 features: 0.7923335219020688\n",
      "Variance explained with 100 features: 0.878118146701283\n",
      "Variance explained with 200 features: 0.9531306590623553\n",
      "Variance explained with 500 features: 0.9986587962249636\n",
      "Total Features: 619\n"
     ]
    }
   ],
   "source": [
    "for n_idx in [5, 10, 20, 50, 100, 200, 500]:\n",
    "    print('Variance explained with {} features: {}'.format(n_idx, importances[indices[:n_idx]].sum()))\n",
    "print('Total Features: ' + str(len(indices)))"
   ]
  },
  {
   "cell_type": "markdown",
   "metadata": {},
   "source": [
    "The first 5 features explain a large amount of the variance in the data set, however the long tail of features (Orig, Dest, and Carrier code) is not negligible. We really should include 200 features to get a full picture of the data set."
   ]
  },
  {
   "cell_type": "code",
   "execution_count": 37,
   "metadata": {},
   "outputs": [
    {
     "name": "stdout",
     "output_type": "stream",
     "text": [
      "(82714, 50) (20572, 50)\n",
      "(82714, 200) (20572, 200)\n"
     ]
    }
   ],
   "source": [
    "n_indices = 50\n",
    "X_train_50 = X_train.loc[:, X_train.columns[indices[:n_indices]]]\n",
    "X_test_50 = X_test.loc[:, X_train.columns[indices[:n_indices]]]\n",
    "print(X_train_50.shape, X_test_50.shape)\n",
    "\n",
    "n_indices = 200\n",
    "X_train_200 = X_train.loc[:, X_train.columns[indices[:n_indices]]]\n",
    "X_test_200 = X_test.loc[:, X_train.columns[indices[:n_indices]]]\n",
    "print(X_train_200.shape, X_test_200.shape)"
   ]
  },
  {
   "cell_type": "markdown",
   "metadata": {
    "collapsed": true
   },
   "source": [
    "To recap, our new feature-selected training sets are: X_train_pca, X_train_skb, X_train_rfe, X_train_50, and X_train_200. Let's see how the compare to each other on a simple linear model."
   ]
  },
  {
   "cell_type": "code",
   "execution_count": 50,
   "metadata": {},
   "outputs": [
    {
     "name": "stdout",
     "output_type": "stream",
     "text": [
      "Full feature set:\n",
      "0.626277372263\n",
      "[[11173  6634]\n",
      " [ 1046  1697]]\n",
      "PCA w/50 components:\n",
      "0.615717761557\n",
      "[[10921  6886]\n",
      " [ 1011  1732]]\n",
      "Select K Best w/50 features:\n",
      "0.620291970803\n",
      "[[11005  6802]\n",
      " [ 1001  1742]]\n",
      "RFE w/50 features:\n",
      "0.619367396594\n",
      "[[10980  6827]\n",
      " [  995  1748]]\n",
      "Random Forest w/50 features:\n",
      "0.616739659367\n",
      "[[10948  6859]\n",
      " [ 1017  1726]]\n",
      "Random Forest w/200 features:\n",
      "0.624379562044\n",
      "[[11129  6678]\n",
      " [ 1041  1702]]\n"
     ]
    }
   ],
   "source": [
    "lgr.fit(X_train,Y_train)\n",
    "print('Full feature set:')\n",
    "print(lgr.score(X_test,Y_test))\n",
    "Y_pred = lgr.predict(X_test)\n",
    "print(confusion_matrix(Y_test, Y_pred))\n",
    "\n",
    "lgr.fit(X_train_pca,Y_train)\n",
    "print('PCA w/50 components:')\n",
    "print(lgr.score(X_test_pca,Y_test))\n",
    "Y_pred = lgr.predict(X_test_pca)\n",
    "print(confusion_matrix(Y_test, Y_pred))\n",
    "\n",
    "lgr.fit(X_train_skb,Y_train)\n",
    "print('Select K Best w/50 features:')\n",
    "print(lgr.score(X_test_skb,Y_test))\n",
    "Y_pred = lgr.predict(X_test_skb)\n",
    "print(confusion_matrix(Y_test, Y_pred))\n",
    "\n",
    "lgr.fit(X_train_rfe,Y_train)\n",
    "print('RFE w/50 features:')\n",
    "print(lgr.score(X_test_rfe,Y_test))\n",
    "Y_pred = lgr.predict(X_test_rfe)\n",
    "print(confusion_matrix(Y_test, Y_pred))\n",
    "\n",
    "lgr.fit(X_train_50,Y_train)\n",
    "print('Random Forest w/50 features:')\n",
    "print(lgr.score(X_test_50,Y_test))\n",
    "Y_pred = lgr.predict(X_test_50)\n",
    "print(confusion_matrix(Y_test, Y_pred))\n",
    "\n",
    "lgr.fit(X_train_200,Y_train)\n",
    "print('Random Forest w/200 features:')\n",
    "print(lgr.score(X_test_200,Y_test))\n",
    "Y_pred = lgr.predict(X_test_200)\n",
    "print(confusion_matrix(Y_test, Y_pred))"
   ]
  },
  {
   "cell_type": "markdown",
   "metadata": {},
   "source": [
    "If we've only got computational power to run with 50 features, SKB is our top choice. Running RFC with 200 features, on the otherhand, gets us within 0.002 accuracy of the full model. Let's use the smaller feature set to find our gridsearch parameters, then run it once on the full set to get the best possible result.\n",
    "\n",
    "## Grid Search for best results"
   ]
  },
  {
   "cell_type": "code",
   "execution_count": 66,
   "metadata": {},
   "outputs": [
    {
     "data": {
      "text/plain": [
       "GridSearchCV(cv=None, error_score='raise',\n",
       "       estimator=DecisionTreeClassifier(class_weight=None, criterion='gini', max_depth=None,\n",
       "            max_features=None, max_leaf_nodes=None,\n",
       "            min_impurity_decrease=0.0, min_impurity_split=None,\n",
       "            min_samples_leaf=1, min_samples_split=2,\n",
       "            min_weight_fraction_leaf=0.0, presort=False, random_state=None,\n",
       "            splitter='best'),\n",
       "       fit_params=None, iid=True, n_jobs=1,\n",
       "       param_grid={'max_depth': [8, 32, 64], 'max_features': [10, 'sqrt', None], 'min_samples_split': [2, 8]},\n",
       "       pre_dispatch='2*n_jobs', refit=True, return_train_score=True,\n",
       "       scoring='average_precision', verbose=0)"
      ]
     },
     "execution_count": 66,
     "metadata": {},
     "output_type": "execute_result"
    }
   ],
   "source": [
    "dtc_params = {'max_depth':[8, 32, 64],\n",
    "              'max_features':[10, 'sqrt', None],\n",
    "              'min_samples_split':[2, 8]}\n",
    "dtc_grid = GridSearchCV(DecisionTreeClassifier(), param_grid=dtc_params, scoring='average_precision')\n",
    "dtc_grid.fit(X_train_skb, Y_train)"
   ]
  },
  {
   "cell_type": "code",
   "execution_count": 67,
   "metadata": {},
   "outputs": [
    {
     "name": "stdout",
     "output_type": "stream",
     "text": [
      "0.853980847258\n",
      "{'max_depth': 64, 'max_features': 'sqrt', 'min_samples_split': 2}\n"
     ]
    }
   ],
   "source": [
    "print(dtc_grid.best_score_)\n",
    "print(dtc_grid.best_params_)"
   ]
  },
  {
   "cell_type": "code",
   "execution_count": 70,
   "metadata": {},
   "outputs": [
    {
     "name": "stdout",
     "output_type": "stream",
     "text": [
      "[[14514  3293]\n",
      " [ 1936   807]]\n",
      "0.152117090989\n"
     ]
    }
   ],
   "source": [
    "dtc = DecisionTreeClassifier(max_depth=64, max_features='sqrt', min_samples_split=2)\n",
    "dtc.fit(X_train, Y_train)\n",
    "Y_pred = dtc.predict(X_test)\n",
    "print(confusion_matrix(Y_test, Y_pred))\n",
    "print(average_precision_score(Y_test, Y_pred))"
   ]
  },
  {
   "cell_type": "code",
   "execution_count": 55,
   "metadata": {},
   "outputs": [
    {
     "data": {
      "text/plain": [
       "GridSearchCV(cv=None, error_score='raise',\n",
       "       estimator=RandomForestClassifier(bootstrap=True, class_weight=None, criterion='gini',\n",
       "            max_depth=None, max_features='auto', max_leaf_nodes=None,\n",
       "            min_impurity_decrease=0.0, min_impurity_split=None,\n",
       "            min_samples_leaf=1, min_samples_split=2,\n",
       "            min_weight_fraction_leaf=0.0, n_estimators=10, n_jobs=1,\n",
       "            oob_score=False, random_state=None, verbose=0,\n",
       "            warm_start=False),\n",
       "       fit_params=None, iid=True, n_jobs=1,\n",
       "       param_grid={'max_depth': [32, 64, None], 'n_estimators': [64, 128], 'min_samples_split': [2, 8, 32]},\n",
       "       pre_dispatch='2*n_jobs', refit=True, return_train_score=True,\n",
       "       scoring=None, verbose=0)"
      ]
     },
     "execution_count": 55,
     "metadata": {},
     "output_type": "execute_result"
    }
   ],
   "source": [
    "rfc_params = {'max_depth':[32, 64, None],\n",
    "              'n_estimators':[64, 128],\n",
    "              'min_samples_split':[2, 8, 32]}\n",
    "rfc_grid = GridSearchCV(RandomForestClassifier(), param_grid=rfc_params)\n",
    "rfc_grid.fit(X_train_skb, Y_train)"
   ]
  },
  {
   "cell_type": "code",
   "execution_count": 56,
   "metadata": {},
   "outputs": [
    {
     "name": "stdout",
     "output_type": "stream",
     "text": [
      "0.963276089828\n",
      "{'max_depth': 64, 'min_samples_split': 2, 'n_estimators': 128}\n"
     ]
    }
   ],
   "source": [
    "print(rfc_grid.best_score_)\n",
    "print(rfc_grid.best_params_)"
   ]
  },
  {
   "cell_type": "markdown",
   "metadata": {},
   "source": [
    "Sadly, our model is maximizing its accuracy by making fewer predictions and taking advantage of the class imbalance. We might need to use AUPRC instead of 'score'. "
   ]
  },
  {
   "cell_type": "code",
   "execution_count": null,
   "metadata": {
    "collapsed": true
   },
   "outputs": [],
   "source": [
    "gbc_params = {'max_depth':[8, 32],\n",
    "              'n_estimators':[50, 100],\n",
    "              'learning_rate':[0.1, 0.3]}\n",
    "gbc_grid = GridSearchCV(GradientBoostingClassifier(), param_grid=gbc_params, scoring='average_precision')\n",
    "gbc_grid.fit(X_train_skb, Y_train)"
   ]
  },
  {
   "cell_type": "code",
   "execution_count": null,
   "metadata": {
    "collapsed": true
   },
   "outputs": [],
   "source": [
    "print(gbc_grid.best_score_)\n",
    "print(gbc_grid.best_params_)"
   ]
  },
  {
   "cell_type": "markdown",
   "metadata": {},
   "source": [
    "Here's our best model, run with all the data:"
   ]
  },
  {
   "cell_type": "code",
   "execution_count": 23,
   "metadata": {},
   "outputs": [
    {
     "name": "stdout",
     "output_type": "stream",
     "text": [
      "[[293198  62341]\n",
      " [  9990  45770]]\n",
      "0.371800394722\n"
     ]
    }
   ],
   "source": [
    "rfc = RandomForestClassifier(max_depth=64, min_samples_split=2, n_estimators=128)\n",
    "rfc.fit(X_train, Y_train)\n",
    "Y_pred = rfc.predict(X_test)\n",
    "print(confusion_matrix(Y_test, Y_pred))\n",
    "print(average_precision_score(Y_test, Y_pred))"
   ]
  },
  {
   "cell_type": "code",
   "execution_count": 24,
   "metadata": {},
   "outputs": [
    {
     "name": "stdout",
     "output_type": "stream",
     "text": [
      "0.498674219808\n"
     ]
    }
   ],
   "source": [
    "print(auprc(Y_test, Y_pred))"
   ]
  },
  {
   "cell_type": "code",
   "execution_count": 25,
   "metadata": {},
   "outputs": [
    {
     "data": {
      "text/plain": [
       "0.82414010245587754"
      ]
     },
     "execution_count": 25,
     "metadata": {},
     "output_type": "execute_result"
    }
   ],
   "source": [
    "rfc.score(X_test, Y_test)"
   ]
  },
  {
   "cell_type": "markdown",
   "metadata": {
    "collapsed": true
   },
   "source": [
    "## Conclusion\n",
    "\n",
    "We've predicted whether a flight will be late with some accuracy (AUPRC = 0.50, average precision = 0.37), but not as much as I would have hoped for. Additionally, we did really badly (average precision < 0.15) before we added the actual departure time back into the model. I would argue that using this feature is \"cheating\" and takes away most of the value of our model. Now we're stuck predicting arrival time only once the flight has taken off -- a substantally less robust solution. Additionally, before framing this as a classification problem, I tried it as regression and failed miserably.\n",
    "\n",
    "Although we have a large number of examples in our data set, we only have one year of data. This means we may be highly sensitive to specific weather patterns, airport construction, and other one-time events that may have skewed the data in some way.\n",
    "\n",
    "It may be that we did poorly on prediction because there is not much prediction that can be done. Afterall, airline delays are often caused by mechanical delays, staffing issues, and other variables that were not captured in the data set. After removing all the variables that aren't known until the flight is in the air or actually lands, all we're left with is a barebones schedule -- a schedule that airlines have specifically designed to be able to stick to without delays.\n",
    "\n",
    "An interesting direction to go from here may not be true prediction of delay, but rather deeper examination of how our features affect delays. Which airports have the most delays? What time of day or year is the worst to fly? There is a lot of interesting information to be drawn from this data set, but pure prediction may not be it."
   ]
  },
  {
   "cell_type": "code",
   "execution_count": null,
   "metadata": {
    "collapsed": true
   },
   "outputs": [],
   "source": []
  }
 ],
 "metadata": {
  "kernelspec": {
   "display_name": "Python 3",
   "language": "python",
   "name": "python3"
  },
  "language_info": {
   "codemirror_mode": {
    "name": "ipython",
    "version": 3
   },
   "file_extension": ".py",
   "mimetype": "text/x-python",
   "name": "python",
   "nbconvert_exporter": "python",
   "pygments_lexer": "ipython3",
   "version": "3.6.2"
  }
 },
 "nbformat": 4,
 "nbformat_minor": 2
}
