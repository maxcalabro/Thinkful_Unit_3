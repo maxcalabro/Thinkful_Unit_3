{
 "cells": [
  {
   "cell_type": "markdown",
   "metadata": {},
   "source": [
    "# Predicting Flight Delays\n",
    "\n",
    "We have a large data set (7 million points) of flight arrivals in 2008. Can we predict how much a flight will be delayed before it takes off? Let's take a look."
   ]
  },
  {
   "cell_type": "code",
   "execution_count": 1,
   "metadata": {
    "collapsed": true
   },
   "outputs": [],
   "source": [
    "import numpy as np\n",
    "import pandas as pd\n",
    "import matplotlib.pyplot as plt\n",
    "import seaborn as sns\n",
    "import scipy\n",
    "import datetime\n",
    "\n",
    "%matplotlib inline\n",
    "sns.set_style('white')"
   ]
  },
  {
   "cell_type": "code",
   "execution_count": 2,
   "metadata": {},
   "outputs": [
    {
     "data": {
      "text/plain": [
       "7009728"
      ]
     },
     "execution_count": 2,
     "metadata": {},
     "output_type": "execute_result"
    }
   ],
   "source": [
    "raw_data = pd.read_csv('2008.csv').sample(frac=1)\n",
    "len(raw_data)"
   ]
  },
  {
   "cell_type": "code",
   "execution_count": 3,
   "metadata": {},
   "outputs": [
    {
     "data": {
      "text/html": [
       "<div>\n",
       "<style>\n",
       "    .dataframe thead tr:only-child th {\n",
       "        text-align: right;\n",
       "    }\n",
       "\n",
       "    .dataframe thead th {\n",
       "        text-align: left;\n",
       "    }\n",
       "\n",
       "    .dataframe tbody tr th {\n",
       "        vertical-align: top;\n",
       "    }\n",
       "</style>\n",
       "<table border=\"1\" class=\"dataframe\">\n",
       "  <thead>\n",
       "    <tr style=\"text-align: right;\">\n",
       "      <th></th>\n",
       "      <th>Year</th>\n",
       "      <th>Month</th>\n",
       "      <th>DayofMonth</th>\n",
       "      <th>DayOfWeek</th>\n",
       "      <th>DepTime</th>\n",
       "      <th>CRSDepTime</th>\n",
       "      <th>ArrTime</th>\n",
       "      <th>CRSArrTime</th>\n",
       "      <th>UniqueCarrier</th>\n",
       "      <th>FlightNum</th>\n",
       "      <th>...</th>\n",
       "      <th>TaxiIn</th>\n",
       "      <th>TaxiOut</th>\n",
       "      <th>Cancelled</th>\n",
       "      <th>CancellationCode</th>\n",
       "      <th>Diverted</th>\n",
       "      <th>CarrierDelay</th>\n",
       "      <th>WeatherDelay</th>\n",
       "      <th>NASDelay</th>\n",
       "      <th>SecurityDelay</th>\n",
       "      <th>LateAircraftDelay</th>\n",
       "    </tr>\n",
       "  </thead>\n",
       "  <tbody>\n",
       "    <tr>\n",
       "      <th>0</th>\n",
       "      <td>2008</td>\n",
       "      <td>8</td>\n",
       "      <td>25</td>\n",
       "      <td>1</td>\n",
       "      <td>1557.0</td>\n",
       "      <td>1600</td>\n",
       "      <td>1633.0</td>\n",
       "      <td>1640</td>\n",
       "      <td>AA</td>\n",
       "      <td>1685</td>\n",
       "      <td>...</td>\n",
       "      <td>3.0</td>\n",
       "      <td>17.0</td>\n",
       "      <td>0</td>\n",
       "      <td>NaN</td>\n",
       "      <td>0</td>\n",
       "      <td>NaN</td>\n",
       "      <td>NaN</td>\n",
       "      <td>NaN</td>\n",
       "      <td>NaN</td>\n",
       "      <td>NaN</td>\n",
       "    </tr>\n",
       "    <tr>\n",
       "      <th>1</th>\n",
       "      <td>2008</td>\n",
       "      <td>6</td>\n",
       "      <td>11</td>\n",
       "      <td>3</td>\n",
       "      <td>1623.0</td>\n",
       "      <td>1625</td>\n",
       "      <td>1745.0</td>\n",
       "      <td>1751</td>\n",
       "      <td>NW</td>\n",
       "      <td>1559</td>\n",
       "      <td>...</td>\n",
       "      <td>6.0</td>\n",
       "      <td>14.0</td>\n",
       "      <td>0</td>\n",
       "      <td>NaN</td>\n",
       "      <td>0</td>\n",
       "      <td>NaN</td>\n",
       "      <td>NaN</td>\n",
       "      <td>NaN</td>\n",
       "      <td>NaN</td>\n",
       "      <td>NaN</td>\n",
       "    </tr>\n",
       "    <tr>\n",
       "      <th>2</th>\n",
       "      <td>2008</td>\n",
       "      <td>7</td>\n",
       "      <td>10</td>\n",
       "      <td>4</td>\n",
       "      <td>2043.0</td>\n",
       "      <td>2040</td>\n",
       "      <td>2244.0</td>\n",
       "      <td>2245</td>\n",
       "      <td>WN</td>\n",
       "      <td>1669</td>\n",
       "      <td>...</td>\n",
       "      <td>2.0</td>\n",
       "      <td>11.0</td>\n",
       "      <td>0</td>\n",
       "      <td>NaN</td>\n",
       "      <td>0</td>\n",
       "      <td>NaN</td>\n",
       "      <td>NaN</td>\n",
       "      <td>NaN</td>\n",
       "      <td>NaN</td>\n",
       "      <td>NaN</td>\n",
       "    </tr>\n",
       "    <tr>\n",
       "      <th>3</th>\n",
       "      <td>2008</td>\n",
       "      <td>5</td>\n",
       "      <td>25</td>\n",
       "      <td>7</td>\n",
       "      <td>611.0</td>\n",
       "      <td>615</td>\n",
       "      <td>709.0</td>\n",
       "      <td>710</td>\n",
       "      <td>AA</td>\n",
       "      <td>1256</td>\n",
       "      <td>...</td>\n",
       "      <td>5.0</td>\n",
       "      <td>12.0</td>\n",
       "      <td>0</td>\n",
       "      <td>NaN</td>\n",
       "      <td>0</td>\n",
       "      <td>NaN</td>\n",
       "      <td>NaN</td>\n",
       "      <td>NaN</td>\n",
       "      <td>NaN</td>\n",
       "      <td>NaN</td>\n",
       "    </tr>\n",
       "    <tr>\n",
       "      <th>4</th>\n",
       "      <td>2008</td>\n",
       "      <td>3</td>\n",
       "      <td>24</td>\n",
       "      <td>1</td>\n",
       "      <td>1614.0</td>\n",
       "      <td>1610</td>\n",
       "      <td>1805.0</td>\n",
       "      <td>1802</td>\n",
       "      <td>DL</td>\n",
       "      <td>1484</td>\n",
       "      <td>...</td>\n",
       "      <td>11.0</td>\n",
       "      <td>23.0</td>\n",
       "      <td>0</td>\n",
       "      <td>NaN</td>\n",
       "      <td>0</td>\n",
       "      <td>NaN</td>\n",
       "      <td>NaN</td>\n",
       "      <td>NaN</td>\n",
       "      <td>NaN</td>\n",
       "      <td>NaN</td>\n",
       "    </tr>\n",
       "  </tbody>\n",
       "</table>\n",
       "<p>5 rows × 29 columns</p>\n",
       "</div>"
      ],
      "text/plain": [
       "   Year  Month  DayofMonth  DayOfWeek  DepTime  CRSDepTime  ArrTime  \\\n",
       "0  2008      8          25          1   1557.0        1600   1633.0   \n",
       "1  2008      6          11          3   1623.0        1625   1745.0   \n",
       "2  2008      7          10          4   2043.0        2040   2244.0   \n",
       "3  2008      5          25          7    611.0         615    709.0   \n",
       "4  2008      3          24          1   1614.0        1610   1805.0   \n",
       "\n",
       "   CRSArrTime UniqueCarrier  FlightNum        ...         TaxiIn  TaxiOut  \\\n",
       "0        1640            AA       1685        ...            3.0     17.0   \n",
       "1        1751            NW       1559        ...            6.0     14.0   \n",
       "2        2245            WN       1669        ...            2.0     11.0   \n",
       "3         710            AA       1256        ...            5.0     12.0   \n",
       "4        1802            DL       1484        ...           11.0     23.0   \n",
       "\n",
       "   Cancelled  CancellationCode  Diverted  CarrierDelay WeatherDelay NASDelay  \\\n",
       "0          0               NaN         0           NaN          NaN      NaN   \n",
       "1          0               NaN         0           NaN          NaN      NaN   \n",
       "2          0               NaN         0           NaN          NaN      NaN   \n",
       "3          0               NaN         0           NaN          NaN      NaN   \n",
       "4          0               NaN         0           NaN          NaN      NaN   \n",
       "\n",
       "   SecurityDelay  LateAircraftDelay  \n",
       "0            NaN                NaN  \n",
       "1            NaN                NaN  \n",
       "2            NaN                NaN  \n",
       "3            NaN                NaN  \n",
       "4            NaN                NaN  \n",
       "\n",
       "[5 rows x 29 columns]"
      ]
     },
     "execution_count": 3,
     "metadata": {},
     "output_type": "execute_result"
    }
   ],
   "source": [
    "data_clean = raw_data.reset_index(drop=True)\n",
    "data_clean.head()"
   ]
  },
  {
   "cell_type": "markdown",
   "metadata": {},
   "source": [
    "First of all, I'm going to convert Year, Month, and DayofMonth to DayOfYear. This should capture holidays better than the features separately."
   ]
  },
  {
   "cell_type": "code",
   "execution_count": 4,
   "metadata": {
    "collapsed": true
   },
   "outputs": [],
   "source": [
    "data_clean['DayOfYear'] = [datetime.datetime(\n",
    "    data_clean.loc[row, 'Year'], \n",
    "    data_clean.loc[row, 'Month'], \n",
    "    data_clean.loc[row, 'DayofMonth']).timetuple().tm_yday for row in range(len(raw_data))]"
   ]
  },
  {
   "cell_type": "code",
   "execution_count": 5,
   "metadata": {},
   "outputs": [
    {
     "data": {
      "text/plain": [
       "0    238\n",
       "1    163\n",
       "2    192\n",
       "3    146\n",
       "4     84\n",
       "Name: DayOfYear, dtype: int64"
      ]
     },
     "execution_count": 5,
     "metadata": {},
     "output_type": "execute_result"
    }
   ],
   "source": [
    "data_clean['DayOfYear'].head()"
   ]
  },
  {
   "cell_type": "code",
   "execution_count": 6,
   "metadata": {},
   "outputs": [
    {
     "data": {
      "text/html": [
       "<div>\n",
       "<style>\n",
       "    .dataframe thead tr:only-child th {\n",
       "        text-align: right;\n",
       "    }\n",
       "\n",
       "    .dataframe thead th {\n",
       "        text-align: left;\n",
       "    }\n",
       "\n",
       "    .dataframe tbody tr th {\n",
       "        vertical-align: top;\n",
       "    }\n",
       "</style>\n",
       "<table border=\"1\" class=\"dataframe\">\n",
       "  <thead>\n",
       "    <tr style=\"text-align: right;\">\n",
       "      <th></th>\n",
       "      <th>DayOfWeek</th>\n",
       "      <th>DepTime</th>\n",
       "      <th>CRSDepTime</th>\n",
       "      <th>ArrTime</th>\n",
       "      <th>CRSArrTime</th>\n",
       "      <th>UniqueCarrier</th>\n",
       "      <th>FlightNum</th>\n",
       "      <th>TailNum</th>\n",
       "      <th>ActualElapsedTime</th>\n",
       "      <th>CRSElapsedTime</th>\n",
       "      <th>...</th>\n",
       "      <th>TaxiOut</th>\n",
       "      <th>Cancelled</th>\n",
       "      <th>CancellationCode</th>\n",
       "      <th>Diverted</th>\n",
       "      <th>CarrierDelay</th>\n",
       "      <th>WeatherDelay</th>\n",
       "      <th>NASDelay</th>\n",
       "      <th>SecurityDelay</th>\n",
       "      <th>LateAircraftDelay</th>\n",
       "      <th>DayOfYear</th>\n",
       "    </tr>\n",
       "  </thead>\n",
       "  <tbody>\n",
       "    <tr>\n",
       "      <th>0</th>\n",
       "      <td>1</td>\n",
       "      <td>1557.0</td>\n",
       "      <td>1600</td>\n",
       "      <td>1633.0</td>\n",
       "      <td>1640</td>\n",
       "      <td>AA</td>\n",
       "      <td>1685</td>\n",
       "      <td>N555AA</td>\n",
       "      <td>96.0</td>\n",
       "      <td>100.0</td>\n",
       "      <td>...</td>\n",
       "      <td>17.0</td>\n",
       "      <td>0</td>\n",
       "      <td>NaN</td>\n",
       "      <td>0</td>\n",
       "      <td>NaN</td>\n",
       "      <td>NaN</td>\n",
       "      <td>NaN</td>\n",
       "      <td>NaN</td>\n",
       "      <td>NaN</td>\n",
       "      <td>238</td>\n",
       "    </tr>\n",
       "    <tr>\n",
       "      <th>1</th>\n",
       "      <td>3</td>\n",
       "      <td>1623.0</td>\n",
       "      <td>1625</td>\n",
       "      <td>1745.0</td>\n",
       "      <td>1751</td>\n",
       "      <td>NW</td>\n",
       "      <td>1559</td>\n",
       "      <td>N752NW</td>\n",
       "      <td>82.0</td>\n",
       "      <td>86.0</td>\n",
       "      <td>...</td>\n",
       "      <td>14.0</td>\n",
       "      <td>0</td>\n",
       "      <td>NaN</td>\n",
       "      <td>0</td>\n",
       "      <td>NaN</td>\n",
       "      <td>NaN</td>\n",
       "      <td>NaN</td>\n",
       "      <td>NaN</td>\n",
       "      <td>NaN</td>\n",
       "      <td>163</td>\n",
       "    </tr>\n",
       "    <tr>\n",
       "      <th>2</th>\n",
       "      <td>4</td>\n",
       "      <td>2043.0</td>\n",
       "      <td>2040</td>\n",
       "      <td>2244.0</td>\n",
       "      <td>2245</td>\n",
       "      <td>WN</td>\n",
       "      <td>1669</td>\n",
       "      <td>N522SW</td>\n",
       "      <td>61.0</td>\n",
       "      <td>65.0</td>\n",
       "      <td>...</td>\n",
       "      <td>11.0</td>\n",
       "      <td>0</td>\n",
       "      <td>NaN</td>\n",
       "      <td>0</td>\n",
       "      <td>NaN</td>\n",
       "      <td>NaN</td>\n",
       "      <td>NaN</td>\n",
       "      <td>NaN</td>\n",
       "      <td>NaN</td>\n",
       "      <td>192</td>\n",
       "    </tr>\n",
       "    <tr>\n",
       "      <th>3</th>\n",
       "      <td>7</td>\n",
       "      <td>611.0</td>\n",
       "      <td>615</td>\n",
       "      <td>709.0</td>\n",
       "      <td>710</td>\n",
       "      <td>AA</td>\n",
       "      <td>1256</td>\n",
       "      <td>N3AUAA</td>\n",
       "      <td>58.0</td>\n",
       "      <td>55.0</td>\n",
       "      <td>...</td>\n",
       "      <td>12.0</td>\n",
       "      <td>0</td>\n",
       "      <td>NaN</td>\n",
       "      <td>0</td>\n",
       "      <td>NaN</td>\n",
       "      <td>NaN</td>\n",
       "      <td>NaN</td>\n",
       "      <td>NaN</td>\n",
       "      <td>NaN</td>\n",
       "      <td>146</td>\n",
       "    </tr>\n",
       "    <tr>\n",
       "      <th>4</th>\n",
       "      <td>1</td>\n",
       "      <td>1614.0</td>\n",
       "      <td>1610</td>\n",
       "      <td>1805.0</td>\n",
       "      <td>1802</td>\n",
       "      <td>DL</td>\n",
       "      <td>1484</td>\n",
       "      <td>N669DN</td>\n",
       "      <td>111.0</td>\n",
       "      <td>112.0</td>\n",
       "      <td>...</td>\n",
       "      <td>23.0</td>\n",
       "      <td>0</td>\n",
       "      <td>NaN</td>\n",
       "      <td>0</td>\n",
       "      <td>NaN</td>\n",
       "      <td>NaN</td>\n",
       "      <td>NaN</td>\n",
       "      <td>NaN</td>\n",
       "      <td>NaN</td>\n",
       "      <td>84</td>\n",
       "    </tr>\n",
       "  </tbody>\n",
       "</table>\n",
       "<p>5 rows × 27 columns</p>\n",
       "</div>"
      ],
      "text/plain": [
       "   DayOfWeek  DepTime  CRSDepTime  ArrTime  CRSArrTime UniqueCarrier  \\\n",
       "0          1   1557.0        1600   1633.0        1640            AA   \n",
       "1          3   1623.0        1625   1745.0        1751            NW   \n",
       "2          4   2043.0        2040   2244.0        2245            WN   \n",
       "3          7    611.0         615    709.0         710            AA   \n",
       "4          1   1614.0        1610   1805.0        1802            DL   \n",
       "\n",
       "   FlightNum TailNum  ActualElapsedTime  CRSElapsedTime    ...     TaxiOut  \\\n",
       "0       1685  N555AA               96.0           100.0    ...        17.0   \n",
       "1       1559  N752NW               82.0            86.0    ...        14.0   \n",
       "2       1669  N522SW               61.0            65.0    ...        11.0   \n",
       "3       1256  N3AUAA               58.0            55.0    ...        12.0   \n",
       "4       1484  N669DN              111.0           112.0    ...        23.0   \n",
       "\n",
       "   Cancelled  CancellationCode Diverted CarrierDelay  WeatherDelay  NASDelay  \\\n",
       "0          0               NaN        0          NaN           NaN       NaN   \n",
       "1          0               NaN        0          NaN           NaN       NaN   \n",
       "2          0               NaN        0          NaN           NaN       NaN   \n",
       "3          0               NaN        0          NaN           NaN       NaN   \n",
       "4          0               NaN        0          NaN           NaN       NaN   \n",
       "\n",
       "   SecurityDelay  LateAircraftDelay DayOfYear  \n",
       "0            NaN                NaN       238  \n",
       "1            NaN                NaN       163  \n",
       "2            NaN                NaN       192  \n",
       "3            NaN                NaN       146  \n",
       "4            NaN                NaN        84  \n",
       "\n",
       "[5 rows x 27 columns]"
      ]
     },
     "execution_count": 6,
     "metadata": {},
     "output_type": "execute_result"
    }
   ],
   "source": [
    "data_clean.drop(['Year', 'Month', 'DayofMonth'], axis=1, inplace=True)\n",
    "data_clean.head()"
   ]
  },
  {
   "cell_type": "code",
   "execution_count": 7,
   "metadata": {},
   "outputs": [
    {
     "data": {
      "text/plain": [
       "Index(['DayOfWeek', 'DepTime', 'CRSDepTime', 'ArrTime', 'CRSArrTime',\n",
       "       'UniqueCarrier', 'FlightNum', 'TailNum', 'ActualElapsedTime',\n",
       "       'CRSElapsedTime', 'AirTime', 'ArrDelay', 'DepDelay', 'Origin', 'Dest',\n",
       "       'Distance', 'TaxiIn', 'TaxiOut', 'Cancelled', 'CancellationCode',\n",
       "       'Diverted', 'CarrierDelay', 'WeatherDelay', 'NASDelay', 'SecurityDelay',\n",
       "       'LateAircraftDelay', 'DayOfYear'],\n",
       "      dtype='object')"
      ]
     },
     "execution_count": 7,
     "metadata": {},
     "output_type": "execute_result"
    }
   ],
   "source": [
    "data_clean.columns"
   ]
  },
  {
   "cell_type": "markdown",
   "metadata": {},
   "source": [
    "What are we actually trying to predict with this data set? \n",
    "\n",
    "**Will a flight be at least 30 minutes late?**\n",
    "\n",
    "The variable for this is \"ArrDelay\", and we'll have to convert it to binary.\n",
    "\n",
    "Great, but that also means there's a lot of data in there that we can't actually use. Specifically, CarrierDelay through LateAircraftDelay are all a breakdown of WHY we're late. They contain the output variable, and can't be used predictively. Same with ArrTime, AirTime, TaxiIn, and ActualElapsedTime. Cancelled, Diverted, and TaxiOut are sketchy because they aren't known ahead of time. Similarly, DepDelay and DepTime are only known once the flight takes off. If our goal is to predict BEFORE a flight leaves the ground, then these are out as well. Let's see what we're left with."
   ]
  },
  {
   "cell_type": "code",
   "execution_count": 8,
   "metadata": {
    "collapsed": true
   },
   "outputs": [],
   "source": [
    "data_clean.drop(['DepTime', 'ArrTime', 'ActualElapsedTime', 'AirTime', \n",
    "                 'DepDelay', 'TaxiIn', 'TaxiOut', 'Cancelled', 'CancellationCode', 'Diverted', \n",
    "                 'CarrierDelay', 'WeatherDelay', 'NASDelay', 'SecurityDelay',\n",
    "                 'LateAircraftDelay'], axis=1, inplace=True)"
   ]
  },
  {
   "cell_type": "code",
   "execution_count": 9,
   "metadata": {},
   "outputs": [
    {
     "data": {
      "text/plain": [
       "Index(['DayOfWeek', 'CRSDepTime', 'CRSArrTime', 'UniqueCarrier', 'FlightNum',\n",
       "       'TailNum', 'CRSElapsedTime', 'ArrDelay', 'Origin', 'Dest', 'Distance',\n",
       "       'DayOfYear'],\n",
       "      dtype='object')"
      ]
     },
     "execution_count": 9,
     "metadata": {},
     "output_type": "execute_result"
    }
   ],
   "source": [
    "data_clean.columns"
   ]
  },
  {
   "cell_type": "markdown",
   "metadata": {},
   "source": [
    "We should be able to safely dropna() now that most of the offending columns are gone."
   ]
  },
  {
   "cell_type": "code",
   "execution_count": 10,
   "metadata": {},
   "outputs": [
    {
     "data": {
      "text/html": [
       "<div>\n",
       "<style>\n",
       "    .dataframe thead tr:only-child th {\n",
       "        text-align: right;\n",
       "    }\n",
       "\n",
       "    .dataframe thead th {\n",
       "        text-align: left;\n",
       "    }\n",
       "\n",
       "    .dataframe tbody tr th {\n",
       "        vertical-align: top;\n",
       "    }\n",
       "</style>\n",
       "<table border=\"1\" class=\"dataframe\">\n",
       "  <thead>\n",
       "    <tr style=\"text-align: right;\">\n",
       "      <th></th>\n",
       "      <th>DayOfWeek</th>\n",
       "      <th>CRSDepTime</th>\n",
       "      <th>CRSArrTime</th>\n",
       "      <th>FlightNum</th>\n",
       "      <th>CRSElapsedTime</th>\n",
       "      <th>ArrDelay</th>\n",
       "      <th>Distance</th>\n",
       "      <th>DayOfYear</th>\n",
       "    </tr>\n",
       "  </thead>\n",
       "  <tbody>\n",
       "    <tr>\n",
       "      <th>count</th>\n",
       "      <td>6.855024e+06</td>\n",
       "      <td>6.855024e+06</td>\n",
       "      <td>6.855024e+06</td>\n",
       "      <td>6.855024e+06</td>\n",
       "      <td>6.855024e+06</td>\n",
       "      <td>6.855024e+06</td>\n",
       "      <td>6.855024e+06</td>\n",
       "      <td>6.855024e+06</td>\n",
       "    </tr>\n",
       "    <tr>\n",
       "      <th>mean</th>\n",
       "      <td>3.925802e+00</td>\n",
       "      <td>1.325037e+03</td>\n",
       "      <td>1.493715e+03</td>\n",
       "      <td>2.212505e+03</td>\n",
       "      <td>1.290778e+02</td>\n",
       "      <td>8.168407e+00</td>\n",
       "      <td>7.287441e+02</td>\n",
       "      <td>1.796551e+02</td>\n",
       "    </tr>\n",
       "    <tr>\n",
       "      <th>std</th>\n",
       "      <td>1.988459e+00</td>\n",
       "      <td>4.643130e+02</td>\n",
       "      <td>4.826643e+02</td>\n",
       "      <td>1.956435e+03</td>\n",
       "      <td>6.953273e+01</td>\n",
       "      <td>3.850179e+01</td>\n",
       "      <td>5.632449e+02</td>\n",
       "      <td>1.039973e+02</td>\n",
       "    </tr>\n",
       "    <tr>\n",
       "      <th>min</th>\n",
       "      <td>1.000000e+00</td>\n",
       "      <td>0.000000e+00</td>\n",
       "      <td>0.000000e+00</td>\n",
       "      <td>1.000000e+00</td>\n",
       "      <td>-1.410000e+02</td>\n",
       "      <td>-5.190000e+02</td>\n",
       "      <td>1.100000e+01</td>\n",
       "      <td>1.000000e+00</td>\n",
       "    </tr>\n",
       "    <tr>\n",
       "      <th>25%</th>\n",
       "      <td>2.000000e+00</td>\n",
       "      <td>9.250000e+02</td>\n",
       "      <td>1.115000e+03</td>\n",
       "      <td>6.180000e+02</td>\n",
       "      <td>8.000000e+01</td>\n",
       "      <td>-1.000000e+01</td>\n",
       "      <td>3.260000e+02</td>\n",
       "      <td>9.100000e+01</td>\n",
       "    </tr>\n",
       "    <tr>\n",
       "      <th>50%</th>\n",
       "      <td>4.000000e+00</td>\n",
       "      <td>1.317000e+03</td>\n",
       "      <td>1.515000e+03</td>\n",
       "      <td>1.563000e+03</td>\n",
       "      <td>1.110000e+02</td>\n",
       "      <td>-2.000000e+00</td>\n",
       "      <td>5.810000e+02</td>\n",
       "      <td>1.780000e+02</td>\n",
       "    </tr>\n",
       "    <tr>\n",
       "      <th>75%</th>\n",
       "      <td>6.000000e+00</td>\n",
       "      <td>1.715000e+03</td>\n",
       "      <td>1.905000e+03</td>\n",
       "      <td>3.494000e+03</td>\n",
       "      <td>1.590000e+02</td>\n",
       "      <td>1.200000e+01</td>\n",
       "      <td>9.540000e+02</td>\n",
       "      <td>2.680000e+02</td>\n",
       "    </tr>\n",
       "    <tr>\n",
       "      <th>max</th>\n",
       "      <td>7.000000e+00</td>\n",
       "      <td>2.359000e+03</td>\n",
       "      <td>2.359000e+03</td>\n",
       "      <td>9.741000e+03</td>\n",
       "      <td>6.600000e+02</td>\n",
       "      <td>2.461000e+03</td>\n",
       "      <td>4.962000e+03</td>\n",
       "      <td>3.660000e+02</td>\n",
       "    </tr>\n",
       "  </tbody>\n",
       "</table>\n",
       "</div>"
      ],
      "text/plain": [
       "          DayOfWeek    CRSDepTime    CRSArrTime     FlightNum  CRSElapsedTime  \\\n",
       "count  6.855024e+06  6.855024e+06  6.855024e+06  6.855024e+06    6.855024e+06   \n",
       "mean   3.925802e+00  1.325037e+03  1.493715e+03  2.212505e+03    1.290778e+02   \n",
       "std    1.988459e+00  4.643130e+02  4.826643e+02  1.956435e+03    6.953273e+01   \n",
       "min    1.000000e+00  0.000000e+00  0.000000e+00  1.000000e+00   -1.410000e+02   \n",
       "25%    2.000000e+00  9.250000e+02  1.115000e+03  6.180000e+02    8.000000e+01   \n",
       "50%    4.000000e+00  1.317000e+03  1.515000e+03  1.563000e+03    1.110000e+02   \n",
       "75%    6.000000e+00  1.715000e+03  1.905000e+03  3.494000e+03    1.590000e+02   \n",
       "max    7.000000e+00  2.359000e+03  2.359000e+03  9.741000e+03    6.600000e+02   \n",
       "\n",
       "           ArrDelay      Distance     DayOfYear  \n",
       "count  6.855024e+06  6.855024e+06  6.855024e+06  \n",
       "mean   8.168407e+00  7.287441e+02  1.796551e+02  \n",
       "std    3.850179e+01  5.632449e+02  1.039973e+02  \n",
       "min   -5.190000e+02  1.100000e+01  1.000000e+00  \n",
       "25%   -1.000000e+01  3.260000e+02  9.100000e+01  \n",
       "50%   -2.000000e+00  5.810000e+02  1.780000e+02  \n",
       "75%    1.200000e+01  9.540000e+02  2.680000e+02  \n",
       "max    2.461000e+03  4.962000e+03  3.660000e+02  "
      ]
     },
     "execution_count": 10,
     "metadata": {},
     "output_type": "execute_result"
    }
   ],
   "source": [
    "data_clean.dropna(inplace=True)\n",
    "data_clean.describe()"
   ]
  },
  {
   "cell_type": "code",
   "execution_count": 11,
   "metadata": {},
   "outputs": [
    {
     "data": {
      "text/plain": [
       "(6855024, 12)"
      ]
     },
     "execution_count": 11,
     "metadata": {},
     "output_type": "execute_result"
    }
   ],
   "source": [
    "data_clean.shape"
   ]
  },
  {
   "cell_type": "code",
   "execution_count": 12,
   "metadata": {},
   "outputs": [
    {
     "data": {
      "image/png": "[encoded data removed]",
      "text/plain": [
       "<matplotlib.figure.Figure at 0x1a5a4efd68>"
      ]
     },
     "metadata": {},
     "output_type": "display_data"
    }
   ],
   "source": [
    "plt.hist(data_clean.ArrDelay, bins=20)\n",
    "plt.show()"
   ]
  },
  {
   "cell_type": "code",
   "execution_count": 13,
   "metadata": {},
   "outputs": [
    {
     "data": {
      "text/plain": [
       "count    6.855024e+06\n",
       "mean     8.168407e+00\n",
       "std      3.850179e+01\n",
       "min     -5.190000e+02\n",
       "25%     -1.000000e+01\n",
       "50%     -2.000000e+00\n",
       "75%      1.200000e+01\n",
       "max      2.461000e+03\n",
       "Name: ArrDelay, dtype: float64"
      ]
     },
     "execution_count": 13,
     "metadata": {},
     "output_type": "execute_result"
    }
   ],
   "source": [
    "data_clean.ArrDelay.describe()"
   ]
  },
  {
   "cell_type": "code",
   "execution_count": 14,
   "metadata": {},
   "outputs": [
    {
     "data": {
      "text/plain": [
       "(927413, 6855024)"
      ]
     },
     "execution_count": 14,
     "metadata": {},
     "output_type": "execute_result"
    }
   ],
   "source": [
    "data_clean['IsLate'] = np.where(data_clean.ArrDelay>=30, 1, 0)\n",
    "data_clean.IsLate.sum(), len(data_clean)"
   ]
  },
  {
   "cell_type": "markdown",
   "metadata": {},
   "source": [
    "We'll be dealing with imbalanced classes here -- only about 13% of flights are delayed at least 30 minutes.\n",
    "\n",
    "FlightNum and TailNum are categorical variables, so let's remove them for now. We're not going to make dummies for every single plane (although it might be interesting if we had the processing power)."
   ]
  },
  {
   "cell_type": "code",
   "execution_count": 15,
   "metadata": {
    "collapsed": true
   },
   "outputs": [],
   "source": [
    "data_clean.drop(['FlightNum', 'TailNum'], axis=1, inplace=True)"
   ]
  },
  {
   "cell_type": "code",
   "execution_count": 16,
   "metadata": {},
   "outputs": [
    {
     "data": {
      "text/plain": [
       "array(['AA', 'NW', 'WN', 'DL', 'US', 'EV', 'OO', 'MQ', 'F9', 'FL', 'YV',\n",
       "       'XE', 'AS', 'UA', 'HA', '9E', 'B6', 'OH', 'CO', 'AQ'], dtype=object)"
      ]
     },
     "execution_count": 16,
     "metadata": {},
     "output_type": "execute_result"
    }
   ],
   "source": [
    "data_clean.UniqueCarrier.unique()"
   ]
  },
  {
   "cell_type": "markdown",
   "metadata": {},
   "source": [
    "This one we can make dummies for. Also Origin and Dest (although this will give us a lot of features!). We'll be sure to run feature selection before we run our models."
   ]
  },
  {
   "cell_type": "code",
   "execution_count": 17,
   "metadata": {
    "collapsed": true
   },
   "outputs": [],
   "source": [
    "data_clean = pd.get_dummies(data_clean)"
   ]
  },
  {
   "cell_type": "code",
   "execution_count": 18,
   "metadata": {
    "collapsed": true
   },
   "outputs": [],
   "source": [
    "from sklearn.utils import resample"
   ]
  },
  {
   "cell_type": "code",
   "execution_count": 19,
   "metadata": {},
   "outputs": [
    {
     "data": {
      "text/plain": [
       "((1761564, 633), (342751, 633))"
      ]
     },
     "execution_count": 19,
     "metadata": {},
     "output_type": "execute_result"
    }
   ],
   "source": [
    "# Data is already shuffled. Create Test Set and a Resampled Training Set.\n",
    "\n",
    "test_frac = 0.05\n",
    "test_size = int(test_frac*len(data_clean))\n",
    "\n",
    "data_test = data_clean[:test_size]\n",
    "\n",
    "data_train = data_clean[test_size:]\n",
    "train_pos = data_train[data_train.IsLate==1]\n",
    "train_neg = data_train[data_train.IsLate==0]\n",
    "train_neg = resample(train_neg, n_samples=len(train_pos))\n",
    "data_train = pd.concat([train_neg, train_pos]).sample(frac=1)\n",
    "\n",
    "data_train.shape, data_test.shape"
   ]
  },
  {
   "cell_type": "code",
   "execution_count": 20,
   "metadata": {
    "collapsed": true
   },
   "outputs": [],
   "source": [
    "X_train = data_train.loc[:, ~data_train.columns.isin(['ArrDelay', 'IsLate'])]\n",
    "Y_train = data_train['IsLate']\n",
    "\n",
    "X_test = data_test.loc[:, ~data_test.columns.isin(['ArrDelay', 'IsLate'])]\n",
    "Y_test = data_test['IsLate']"
   ]
  },
  {
   "cell_type": "code",
   "execution_count": 21,
   "metadata": {
    "collapsed": true
   },
   "outputs": [],
   "source": [
    "from sklearn.decomposition import PCA\n",
    "from sklearn.feature_selection import SelectKBest, RFE"
   ]
  },
  {
   "cell_type": "code",
   "execution_count": 22,
   "metadata": {},
   "outputs": [
    {
     "name": "stderr",
     "output_type": "stream",
     "text": [
      "/Users/maxcalabro/anaconda3/lib/python3.6/site-packages/sklearn/feature_selection/univariate_selection.py:113: UserWarning: Features [314] are constant.\n",
      "  UserWarning)\n",
      "/Users/maxcalabro/anaconda3/lib/python3.6/site-packages/sklearn/feature_selection/univariate_selection.py:114: RuntimeWarning: invalid value encountered in true_divide\n",
      "  f = msb / msw\n"
     ]
    }
   ],
   "source": [
    "skb = SelectKBest(k=50)\n",
    "skb.fit(X_train, Y_train)\n",
    "X_train_skb = skb.transform(X_train)\n",
    "X_test_skb = skb.transform(X_test)"
   ]
  },
  {
   "cell_type": "code",
   "execution_count": 23,
   "metadata": {},
   "outputs": [
    {
     "name": "stdout",
     "output_type": "stream",
     "text": [
      "The history saving thread hit an unexpected error (OperationalError('unable to open database file',)).History will not be written to the database.\n"
     ]
    }
   ],
   "source": [
    "from sklearn.linear_model import LogisticRegression\n",
    "from sklearn.neighbors import KNeighborsClassifier\n",
    "from sklearn.tree import DecisionTreeClassifier\n",
    "from sklearn.ensemble import RandomForestClassifier, GradientBoostingClassifier\n",
    "from sklearn.svm import SVC\n",
    "\n",
    "from sklearn.metrics import confusion_matrix\n",
    "from sklearn.model_selection import cross_val_score"
   ]
  },
  {
   "cell_type": "code",
   "execution_count": 24,
   "metadata": {},
   "outputs": [
    {
     "name": "stdout",
     "output_type": "stream",
     "text": [
      "0.615265892733\n"
     ]
    },
    {
     "data": {
      "text/plain": [
       "array([[182021, 114099],\n",
       "       [ 17769,  28862]])"
      ]
     },
     "execution_count": 24,
     "metadata": {},
     "output_type": "execute_result"
    }
   ],
   "source": [
    "lgr = LogisticRegression(penalty='l2')\n",
    "lgr.fit(X_train_skb,Y_train)\n",
    "print(lgr.score(X_test_skb,Y_test))\n",
    "Y_pred = lgr.predict(X_test_skb)\n",
    "confusion_matrix(Y_test, Y_pred)"
   ]
  },
  {
   "cell_type": "code",
   "execution_count": 48,
   "metadata": {},
   "outputs": [
    {
     "name": "stdout",
     "output_type": "stream",
     "text": [
      "0.613025590149\n"
     ]
    },
    {
     "data": {
      "text/plain": [
       "array([[18183, 11473],\n",
       "       [ 1789,  2826]])"
      ]
     },
     "execution_count": 48,
     "metadata": {},
     "output_type": "execute_result"
    }
   ],
   "source": [
    "las = LogisticRegression(penalty='l1')\n",
    "las.fit(X_train_skb,Y_train)\n",
    "print(las.score(X_test_skb,Y_test))\n",
    "Y_pred = las.predict(X_test_skb)\n",
    "confusion_matrix(Y_test, Y_pred)"
   ]
  },
  {
   "cell_type": "code",
   "execution_count": 59,
   "metadata": {},
   "outputs": [
    {
     "name": "stdout",
     "output_type": "stream",
     "text": [
      "0.672346882204\n"
     ]
    },
    {
     "data": {
      "text/plain": [
       "array([[21105,  8551],\n",
       "       [ 2678,  1937]])"
      ]
     },
     "execution_count": 59,
     "metadata": {},
     "output_type": "execute_result"
    }
   ],
   "source": [
    "knc = KNeighborsClassifier(n_neighbors=4)\n",
    "knc.fit(X_train_skb,Y_train)\n",
    "print(knc.score(X_test_skb,Y_test))\n",
    "Y_pred = knc.predict(X_test_skb)\n",
    "confusion_matrix(Y_test, Y_pred)"
   ]
  },
  {
   "cell_type": "code",
   "execution_count": 50,
   "metadata": {},
   "outputs": [
    {
     "name": "stdout",
     "output_type": "stream",
     "text": [
      "0.575997198798\n"
     ]
    },
    {
     "data": {
      "text/plain": [
       "array([[16801, 12855],\n",
       "       [ 1676,  2939]])"
      ]
     },
     "execution_count": 50,
     "metadata": {},
     "output_type": "execute_result"
    }
   ],
   "source": [
    "dtc = DecisionTreeClassifier(max_depth=20, max_features=4)\n",
    "dtc.fit(X_train_skb,Y_train)\n",
    "print(dtc.score(X_test_skb,Y_test))\n",
    "Y_pred = dtc.predict(X_test_skb)\n",
    "confusion_matrix(Y_test, Y_pred)"
   ]
  },
  {
   "cell_type": "code",
   "execution_count": 25,
   "metadata": {},
   "outputs": [
    {
     "name": "stdout",
     "output_type": "stream",
     "text": [
      "0.659315363048\n"
     ]
    },
    {
     "data": {
      "text/plain": [
       "array([[194898, 101222],\n",
       "       [ 15548,  31083]])"
      ]
     },
     "execution_count": 25,
     "metadata": {},
     "output_type": "execute_result"
    }
   ],
   "source": [
    "rfc = RandomForestClassifier(n_estimators=30, max_depth=20)\n",
    "rfc.fit(X_train_skb,Y_train)\n",
    "print(rfc.score(X_test_skb,Y_test))\n",
    "Y_pred = rfc.predict(X_test_skb)\n",
    "confusion_matrix(Y_test, Y_pred)"
   ]
  },
  {
   "cell_type": "code",
   "execution_count": 52,
   "metadata": {},
   "outputs": [
    {
     "name": "stdout",
     "output_type": "stream",
     "text": [
      "0.632954976511\n"
     ]
    },
    {
     "data": {
      "text/plain": [
       "array([[18606, 11050],\n",
       "       [ 1529,  3086]])"
      ]
     },
     "execution_count": 52,
     "metadata": {},
     "output_type": "execute_result"
    }
   ],
   "source": [
    "gbc = GradientBoostingClassifier(n_estimators=100, max_depth=3)\n",
    "gbc.fit(X_train_skb,Y_train)\n",
    "print(gbc.score(X_test_skb,Y_test))\n",
    "Y_pred = gbc.predict(X_test_skb)\n",
    "confusion_matrix(Y_test, Y_pred)"
   ]
  },
  {
   "cell_type": "code",
   "execution_count": null,
   "metadata": {
    "collapsed": true
   },
   "outputs": [],
   "source": [
    "# This one takes a long time -- beware when using a large fraction of the data set!\n",
    "svc = SVC(C=1)\n",
    "svc.fit(X_train_skb,Y_train)\n",
    "print(las.score(X_test_skb,Y_test))\n",
    "Y_pred = las.predict(X_test_skb)\n",
    "confusion_matrix(Y_test, Y_pred)"
   ]
  },
  {
   "cell_type": "markdown",
   "metadata": {},
   "source": [
    "These classifiers are working okay -- KNeighbors actually seems to be working best, however we're still only predicting 2/3 of the late arrivals while misclassifying 3x as many negative examples as we are getting right."
   ]
  },
  {
   "cell_type": "code",
   "execution_count": null,
   "metadata": {
    "collapsed": true
   },
   "outputs": [],
   "source": []
  }
 ],
 "metadata": {
  "kernelspec": {
   "display_name": "Python 3",
   "language": "python",
   "name": "python3"
  },
  "language_info": {
   "codemirror_mode": {
    "name": "ipython",
    "version": 3
   },
   "file_extension": ".py",
   "mimetype": "text/x-python",
   "name": "python",
   "nbconvert_exporter": "python",
   "pygments_lexer": "ipython3",
   "version": "3.6.2"
  }
 },
 "nbformat": 4,
 "nbformat_minor": 2
}
