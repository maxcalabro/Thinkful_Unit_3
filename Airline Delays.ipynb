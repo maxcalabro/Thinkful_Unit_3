{
 "cells": [
  {
   "cell_type": "markdown",
   "metadata": {},
   "source": [
    "# Predicting Flight Delays\n",
    "\n",
    "We have a large data set (7 million points) of flight arrivals in 2008. Can we predict how much a flight will be delayed before it takes off? Let's take a look."
   ]
  },
  {
   "cell_type": "code",
   "execution_count": 1,
   "metadata": {
    "collapsed": true
   },
   "outputs": [],
   "source": [
    "import numpy as np\n",
    "import pandas as pd\n",
    "import matplotlib.pyplot as plt\n",
    "import seaborn as sns\n",
    "import scipy\n",
    "import datetime\n",
    "\n",
    "%matplotlib inline\n",
    "sns.set_style('white')"
   ]
  },
  {
   "cell_type": "code",
   "execution_count": 119,
   "metadata": {},
   "outputs": [
    {
     "data": {
      "text/plain": [
       "700973"
      ]
     },
     "execution_count": 119,
     "metadata": {},
     "output_type": "execute_result"
    }
   ],
   "source": [
    "raw_data = pd.read_csv('2008.csv').sample(frac=0.1)\n",
    "len(raw_data)"
   ]
  },
  {
   "cell_type": "code",
   "execution_count": 120,
   "metadata": {},
   "outputs": [
    {
     "data": {
      "text/html": [
       "<div>\n",
       "<style>\n",
       "    .dataframe thead tr:only-child th {\n",
       "        text-align: right;\n",
       "    }\n",
       "\n",
       "    .dataframe thead th {\n",
       "        text-align: left;\n",
       "    }\n",
       "\n",
       "    .dataframe tbody tr th {\n",
       "        vertical-align: top;\n",
       "    }\n",
       "</style>\n",
       "<table border=\"1\" class=\"dataframe\">\n",
       "  <thead>\n",
       "    <tr style=\"text-align: right;\">\n",
       "      <th></th>\n",
       "      <th>Year</th>\n",
       "      <th>Month</th>\n",
       "      <th>DayofMonth</th>\n",
       "      <th>DayOfWeek</th>\n",
       "      <th>DepTime</th>\n",
       "      <th>CRSDepTime</th>\n",
       "      <th>ArrTime</th>\n",
       "      <th>CRSArrTime</th>\n",
       "      <th>UniqueCarrier</th>\n",
       "      <th>FlightNum</th>\n",
       "      <th>...</th>\n",
       "      <th>TaxiIn</th>\n",
       "      <th>TaxiOut</th>\n",
       "      <th>Cancelled</th>\n",
       "      <th>CancellationCode</th>\n",
       "      <th>Diverted</th>\n",
       "      <th>CarrierDelay</th>\n",
       "      <th>WeatherDelay</th>\n",
       "      <th>NASDelay</th>\n",
       "      <th>SecurityDelay</th>\n",
       "      <th>LateAircraftDelay</th>\n",
       "    </tr>\n",
       "  </thead>\n",
       "  <tbody>\n",
       "    <tr>\n",
       "      <th>0</th>\n",
       "      <td>2008</td>\n",
       "      <td>8</td>\n",
       "      <td>26</td>\n",
       "      <td>2</td>\n",
       "      <td>1935.0</td>\n",
       "      <td>1900</td>\n",
       "      <td>2245.0</td>\n",
       "      <td>2215</td>\n",
       "      <td>F9</td>\n",
       "      <td>372</td>\n",
       "      <td>...</td>\n",
       "      <td>5.0</td>\n",
       "      <td>13.0</td>\n",
       "      <td>0</td>\n",
       "      <td>NaN</td>\n",
       "      <td>0</td>\n",
       "      <td>0.0</td>\n",
       "      <td>0.0</td>\n",
       "      <td>0.0</td>\n",
       "      <td>0.0</td>\n",
       "      <td>30.0</td>\n",
       "    </tr>\n",
       "    <tr>\n",
       "      <th>1</th>\n",
       "      <td>2008</td>\n",
       "      <td>1</td>\n",
       "      <td>26</td>\n",
       "      <td>6</td>\n",
       "      <td>1222.0</td>\n",
       "      <td>1200</td>\n",
       "      <td>1356.0</td>\n",
       "      <td>1335</td>\n",
       "      <td>AA</td>\n",
       "      <td>1102</td>\n",
       "      <td>...</td>\n",
       "      <td>6.0</td>\n",
       "      <td>9.0</td>\n",
       "      <td>0</td>\n",
       "      <td>NaN</td>\n",
       "      <td>0</td>\n",
       "      <td>7.0</td>\n",
       "      <td>0.0</td>\n",
       "      <td>0.0</td>\n",
       "      <td>0.0</td>\n",
       "      <td>14.0</td>\n",
       "    </tr>\n",
       "    <tr>\n",
       "      <th>2</th>\n",
       "      <td>2008</td>\n",
       "      <td>3</td>\n",
       "      <td>26</td>\n",
       "      <td>3</td>\n",
       "      <td>1930.0</td>\n",
       "      <td>1936</td>\n",
       "      <td>2105.0</td>\n",
       "      <td>2116</td>\n",
       "      <td>OH</td>\n",
       "      <td>5231</td>\n",
       "      <td>...</td>\n",
       "      <td>20.0</td>\n",
       "      <td>9.0</td>\n",
       "      <td>0</td>\n",
       "      <td>NaN</td>\n",
       "      <td>0</td>\n",
       "      <td>NaN</td>\n",
       "      <td>NaN</td>\n",
       "      <td>NaN</td>\n",
       "      <td>NaN</td>\n",
       "      <td>NaN</td>\n",
       "    </tr>\n",
       "    <tr>\n",
       "      <th>3</th>\n",
       "      <td>2008</td>\n",
       "      <td>11</td>\n",
       "      <td>10</td>\n",
       "      <td>1</td>\n",
       "      <td>1457.0</td>\n",
       "      <td>1438</td>\n",
       "      <td>1826.0</td>\n",
       "      <td>1811</td>\n",
       "      <td>FL</td>\n",
       "      <td>677</td>\n",
       "      <td>...</td>\n",
       "      <td>7.0</td>\n",
       "      <td>8.0</td>\n",
       "      <td>0</td>\n",
       "      <td>NaN</td>\n",
       "      <td>0</td>\n",
       "      <td>0.0</td>\n",
       "      <td>0.0</td>\n",
       "      <td>0.0</td>\n",
       "      <td>0.0</td>\n",
       "      <td>15.0</td>\n",
       "    </tr>\n",
       "    <tr>\n",
       "      <th>4</th>\n",
       "      <td>2008</td>\n",
       "      <td>12</td>\n",
       "      <td>7</td>\n",
       "      <td>7</td>\n",
       "      <td>1459.0</td>\n",
       "      <td>1500</td>\n",
       "      <td>1743.0</td>\n",
       "      <td>1810</td>\n",
       "      <td>AA</td>\n",
       "      <td>2371</td>\n",
       "      <td>...</td>\n",
       "      <td>9.0</td>\n",
       "      <td>13.0</td>\n",
       "      <td>0</td>\n",
       "      <td>NaN</td>\n",
       "      <td>0</td>\n",
       "      <td>NaN</td>\n",
       "      <td>NaN</td>\n",
       "      <td>NaN</td>\n",
       "      <td>NaN</td>\n",
       "      <td>NaN</td>\n",
       "    </tr>\n",
       "  </tbody>\n",
       "</table>\n",
       "<p>5 rows × 29 columns</p>\n",
       "</div>"
      ],
      "text/plain": [
       "   Year  Month  DayofMonth  DayOfWeek  DepTime  CRSDepTime  ArrTime  \\\n",
       "0  2008      8          26          2   1935.0        1900   2245.0   \n",
       "1  2008      1          26          6   1222.0        1200   1356.0   \n",
       "2  2008      3          26          3   1930.0        1936   2105.0   \n",
       "3  2008     11          10          1   1457.0        1438   1826.0   \n",
       "4  2008     12           7          7   1459.0        1500   1743.0   \n",
       "\n",
       "   CRSArrTime UniqueCarrier  FlightNum        ...         TaxiIn  TaxiOut  \\\n",
       "0        2215            F9        372        ...            5.0     13.0   \n",
       "1        1335            AA       1102        ...            6.0      9.0   \n",
       "2        2116            OH       5231        ...           20.0      9.0   \n",
       "3        1811            FL        677        ...            7.0      8.0   \n",
       "4        1810            AA       2371        ...            9.0     13.0   \n",
       "\n",
       "   Cancelled  CancellationCode  Diverted  CarrierDelay WeatherDelay NASDelay  \\\n",
       "0          0               NaN         0           0.0          0.0      0.0   \n",
       "1          0               NaN         0           7.0          0.0      0.0   \n",
       "2          0               NaN         0           NaN          NaN      NaN   \n",
       "3          0               NaN         0           0.0          0.0      0.0   \n",
       "4          0               NaN         0           NaN          NaN      NaN   \n",
       "\n",
       "   SecurityDelay  LateAircraftDelay  \n",
       "0            0.0               30.0  \n",
       "1            0.0               14.0  \n",
       "2            NaN                NaN  \n",
       "3            0.0               15.0  \n",
       "4            NaN                NaN  \n",
       "\n",
       "[5 rows x 29 columns]"
      ]
     },
     "execution_count": 120,
     "metadata": {},
     "output_type": "execute_result"
    }
   ],
   "source": [
    "data_clean = raw_data.reset_index(drop=True)\n",
    "data_clean.head()"
   ]
  },
  {
   "cell_type": "markdown",
   "metadata": {},
   "source": [
    "First of all, I'm going to convert Year, Month, and DayofMonth to DayOfYear. This should capture holidays better than the features separately."
   ]
  },
  {
   "cell_type": "code",
   "execution_count": 121,
   "metadata": {},
   "outputs": [],
   "source": [
    "data_clean['DayOfYear'] = [datetime.datetime(\n",
    "    data_clean.loc[row, 'Year'], \n",
    "    data_clean.loc[row, 'Month'], \n",
    "    data_clean.loc[row, 'DayofMonth']).timetuple().tm_yday for row in range(len(raw_data))]"
   ]
  },
  {
   "cell_type": "code",
   "execution_count": 122,
   "metadata": {},
   "outputs": [
    {
     "data": {
      "text/plain": [
       "0    239\n",
       "1     26\n",
       "2     86\n",
       "3    315\n",
       "4    342\n",
       "Name: DayOfYear, dtype: int64"
      ]
     },
     "execution_count": 122,
     "metadata": {},
     "output_type": "execute_result"
    }
   ],
   "source": [
    "data_clean['DayOfYear'].head()"
   ]
  },
  {
   "cell_type": "code",
   "execution_count": 123,
   "metadata": {},
   "outputs": [
    {
     "data": {
      "text/html": [
       "<div>\n",
       "<style>\n",
       "    .dataframe thead tr:only-child th {\n",
       "        text-align: right;\n",
       "    }\n",
       "\n",
       "    .dataframe thead th {\n",
       "        text-align: left;\n",
       "    }\n",
       "\n",
       "    .dataframe tbody tr th {\n",
       "        vertical-align: top;\n",
       "    }\n",
       "</style>\n",
       "<table border=\"1\" class=\"dataframe\">\n",
       "  <thead>\n",
       "    <tr style=\"text-align: right;\">\n",
       "      <th></th>\n",
       "      <th>DayOfWeek</th>\n",
       "      <th>DepTime</th>\n",
       "      <th>CRSDepTime</th>\n",
       "      <th>ArrTime</th>\n",
       "      <th>CRSArrTime</th>\n",
       "      <th>UniqueCarrier</th>\n",
       "      <th>FlightNum</th>\n",
       "      <th>TailNum</th>\n",
       "      <th>ActualElapsedTime</th>\n",
       "      <th>CRSElapsedTime</th>\n",
       "      <th>...</th>\n",
       "      <th>TaxiOut</th>\n",
       "      <th>Cancelled</th>\n",
       "      <th>CancellationCode</th>\n",
       "      <th>Diverted</th>\n",
       "      <th>CarrierDelay</th>\n",
       "      <th>WeatherDelay</th>\n",
       "      <th>NASDelay</th>\n",
       "      <th>SecurityDelay</th>\n",
       "      <th>LateAircraftDelay</th>\n",
       "      <th>DayOfYear</th>\n",
       "    </tr>\n",
       "  </thead>\n",
       "  <tbody>\n",
       "    <tr>\n",
       "      <th>0</th>\n",
       "      <td>2</td>\n",
       "      <td>1935.0</td>\n",
       "      <td>1900</td>\n",
       "      <td>2245.0</td>\n",
       "      <td>2215</td>\n",
       "      <td>F9</td>\n",
       "      <td>372</td>\n",
       "      <td>N926FR</td>\n",
       "      <td>130.0</td>\n",
       "      <td>135.0</td>\n",
       "      <td>...</td>\n",
       "      <td>13.0</td>\n",
       "      <td>0</td>\n",
       "      <td>NaN</td>\n",
       "      <td>0</td>\n",
       "      <td>0.0</td>\n",
       "      <td>0.0</td>\n",
       "      <td>0.0</td>\n",
       "      <td>0.0</td>\n",
       "      <td>30.0</td>\n",
       "      <td>239</td>\n",
       "    </tr>\n",
       "    <tr>\n",
       "      <th>1</th>\n",
       "      <td>6</td>\n",
       "      <td>1222.0</td>\n",
       "      <td>1200</td>\n",
       "      <td>1356.0</td>\n",
       "      <td>1335</td>\n",
       "      <td>AA</td>\n",
       "      <td>1102</td>\n",
       "      <td>N3BFAA</td>\n",
       "      <td>94.0</td>\n",
       "      <td>95.0</td>\n",
       "      <td>...</td>\n",
       "      <td>9.0</td>\n",
       "      <td>0</td>\n",
       "      <td>NaN</td>\n",
       "      <td>0</td>\n",
       "      <td>7.0</td>\n",
       "      <td>0.0</td>\n",
       "      <td>0.0</td>\n",
       "      <td>0.0</td>\n",
       "      <td>14.0</td>\n",
       "      <td>26</td>\n",
       "    </tr>\n",
       "    <tr>\n",
       "      <th>2</th>\n",
       "      <td>3</td>\n",
       "      <td>1930.0</td>\n",
       "      <td>1936</td>\n",
       "      <td>2105.0</td>\n",
       "      <td>2116</td>\n",
       "      <td>OH</td>\n",
       "      <td>5231</td>\n",
       "      <td>N625CA</td>\n",
       "      <td>95.0</td>\n",
       "      <td>100.0</td>\n",
       "      <td>...</td>\n",
       "      <td>9.0</td>\n",
       "      <td>0</td>\n",
       "      <td>NaN</td>\n",
       "      <td>0</td>\n",
       "      <td>NaN</td>\n",
       "      <td>NaN</td>\n",
       "      <td>NaN</td>\n",
       "      <td>NaN</td>\n",
       "      <td>NaN</td>\n",
       "      <td>86</td>\n",
       "    </tr>\n",
       "    <tr>\n",
       "      <th>3</th>\n",
       "      <td>1</td>\n",
       "      <td>1457.0</td>\n",
       "      <td>1438</td>\n",
       "      <td>1826.0</td>\n",
       "      <td>1811</td>\n",
       "      <td>FL</td>\n",
       "      <td>677</td>\n",
       "      <td>N894AT</td>\n",
       "      <td>149.0</td>\n",
       "      <td>153.0</td>\n",
       "      <td>...</td>\n",
       "      <td>8.0</td>\n",
       "      <td>0</td>\n",
       "      <td>NaN</td>\n",
       "      <td>0</td>\n",
       "      <td>0.0</td>\n",
       "      <td>0.0</td>\n",
       "      <td>0.0</td>\n",
       "      <td>0.0</td>\n",
       "      <td>15.0</td>\n",
       "      <td>315</td>\n",
       "    </tr>\n",
       "    <tr>\n",
       "      <th>4</th>\n",
       "      <td>7</td>\n",
       "      <td>1459.0</td>\n",
       "      <td>1500</td>\n",
       "      <td>1743.0</td>\n",
       "      <td>1810</td>\n",
       "      <td>AA</td>\n",
       "      <td>2371</td>\n",
       "      <td>N4XBAA</td>\n",
       "      <td>224.0</td>\n",
       "      <td>250.0</td>\n",
       "      <td>...</td>\n",
       "      <td>13.0</td>\n",
       "      <td>0</td>\n",
       "      <td>NaN</td>\n",
       "      <td>0</td>\n",
       "      <td>NaN</td>\n",
       "      <td>NaN</td>\n",
       "      <td>NaN</td>\n",
       "      <td>NaN</td>\n",
       "      <td>NaN</td>\n",
       "      <td>342</td>\n",
       "    </tr>\n",
       "  </tbody>\n",
       "</table>\n",
       "<p>5 rows × 27 columns</p>\n",
       "</div>"
      ],
      "text/plain": [
       "   DayOfWeek  DepTime  CRSDepTime  ArrTime  CRSArrTime UniqueCarrier  \\\n",
       "0          2   1935.0        1900   2245.0        2215            F9   \n",
       "1          6   1222.0        1200   1356.0        1335            AA   \n",
       "2          3   1930.0        1936   2105.0        2116            OH   \n",
       "3          1   1457.0        1438   1826.0        1811            FL   \n",
       "4          7   1459.0        1500   1743.0        1810            AA   \n",
       "\n",
       "   FlightNum TailNum  ActualElapsedTime  CRSElapsedTime    ...     TaxiOut  \\\n",
       "0        372  N926FR              130.0           135.0    ...        13.0   \n",
       "1       1102  N3BFAA               94.0            95.0    ...         9.0   \n",
       "2       5231  N625CA               95.0           100.0    ...         9.0   \n",
       "3        677  N894AT              149.0           153.0    ...         8.0   \n",
       "4       2371  N4XBAA              224.0           250.0    ...        13.0   \n",
       "\n",
       "   Cancelled  CancellationCode Diverted CarrierDelay  WeatherDelay  NASDelay  \\\n",
       "0          0               NaN        0          0.0           0.0       0.0   \n",
       "1          0               NaN        0          7.0           0.0       0.0   \n",
       "2          0               NaN        0          NaN           NaN       NaN   \n",
       "3          0               NaN        0          0.0           0.0       0.0   \n",
       "4          0               NaN        0          NaN           NaN       NaN   \n",
       "\n",
       "   SecurityDelay  LateAircraftDelay DayOfYear  \n",
       "0            0.0               30.0       239  \n",
       "1            0.0               14.0        26  \n",
       "2            NaN                NaN        86  \n",
       "3            0.0               15.0       315  \n",
       "4            NaN                NaN       342  \n",
       "\n",
       "[5 rows x 27 columns]"
      ]
     },
     "execution_count": 123,
     "metadata": {},
     "output_type": "execute_result"
    }
   ],
   "source": [
    "data_clean.drop(['Year', 'Month', 'DayofMonth'], axis=1, inplace=True)\n",
    "data_clean.head()"
   ]
  },
  {
   "cell_type": "code",
   "execution_count": 124,
   "metadata": {},
   "outputs": [
    {
     "data": {
      "text/plain": [
       "Index(['DayOfWeek', 'DepTime', 'CRSDepTime', 'ArrTime', 'CRSArrTime',\n",
       "       'UniqueCarrier', 'FlightNum', 'TailNum', 'ActualElapsedTime',\n",
       "       'CRSElapsedTime', 'AirTime', 'ArrDelay', 'DepDelay', 'Origin', 'Dest',\n",
       "       'Distance', 'TaxiIn', 'TaxiOut', 'Cancelled', 'CancellationCode',\n",
       "       'Diverted', 'CarrierDelay', 'WeatherDelay', 'NASDelay', 'SecurityDelay',\n",
       "       'LateAircraftDelay', 'DayOfYear'],\n",
       "      dtype='object')"
      ]
     },
     "execution_count": 124,
     "metadata": {},
     "output_type": "execute_result"
    }
   ],
   "source": [
    "data_clean.columns"
   ]
  },
  {
   "cell_type": "markdown",
   "metadata": {},
   "source": [
    "What are we actually trying to predict with this data set? \n",
    "\n",
    "**How late will a flight be?**\n",
    "\n",
    "The variable for this is \"ArrDelay\"\n",
    "\n",
    "Great, but that also means there's a lot of data in there that we can't actually use. Specifically, CarrierDelay through LateAircraftDelay are all a breakdown of WHY we're late. They contain the output variable, and can't be used predictively. Same with ArrTime, AirTime, TaxiIn, and ActualElapsedTime. Cancelled, Diverted, and TaxiOut are sketchy because they aren't known ahead of time. Similarly, DepDelay and DepTime are only known once the flight takes off. If our goal is to predict BEFORE a flight leaves the ground, then these are out as well. Let's see what we're left with."
   ]
  },
  {
   "cell_type": "code",
   "execution_count": 125,
   "metadata": {},
   "outputs": [],
   "source": [
    "data_clean.drop(['DepTime', 'ArrTime', 'ActualElapsedTime', 'AirTime', \n",
    "                 'DepDelay', 'TaxiIn', 'TaxiOut', 'Cancelled', 'CancellationCode', 'Diverted', \n",
    "                 'CarrierDelay', 'WeatherDelay', 'NASDelay', 'SecurityDelay',\n",
    "                 'LateAircraftDelay'], axis=1, inplace=True)"
   ]
  },
  {
   "cell_type": "code",
   "execution_count": 126,
   "metadata": {},
   "outputs": [
    {
     "data": {
      "text/plain": [
       "Index(['DayOfWeek', 'CRSDepTime', 'CRSArrTime', 'UniqueCarrier', 'FlightNum',\n",
       "       'TailNum', 'CRSElapsedTime', 'ArrDelay', 'Origin', 'Dest', 'Distance',\n",
       "       'DayOfYear'],\n",
       "      dtype='object')"
      ]
     },
     "execution_count": 126,
     "metadata": {},
     "output_type": "execute_result"
    }
   ],
   "source": [
    "data_clean.columns"
   ]
  },
  {
   "cell_type": "markdown",
   "metadata": {},
   "source": [
    "We should be able to safely dropna() now that most of the offending columns are gone."
   ]
  },
  {
   "cell_type": "code",
   "execution_count": 127,
   "metadata": {},
   "outputs": [
    {
     "data": {
      "text/html": [
       "<div>\n",
       "<style>\n",
       "    .dataframe thead tr:only-child th {\n",
       "        text-align: right;\n",
       "    }\n",
       "\n",
       "    .dataframe thead th {\n",
       "        text-align: left;\n",
       "    }\n",
       "\n",
       "    .dataframe tbody tr th {\n",
       "        vertical-align: top;\n",
       "    }\n",
       "</style>\n",
       "<table border=\"1\" class=\"dataframe\">\n",
       "  <thead>\n",
       "    <tr style=\"text-align: right;\">\n",
       "      <th></th>\n",
       "      <th>DayOfWeek</th>\n",
       "      <th>CRSDepTime</th>\n",
       "      <th>CRSArrTime</th>\n",
       "      <th>FlightNum</th>\n",
       "      <th>CRSElapsedTime</th>\n",
       "      <th>ArrDelay</th>\n",
       "      <th>Distance</th>\n",
       "      <th>DayOfYear</th>\n",
       "    </tr>\n",
       "  </thead>\n",
       "  <tbody>\n",
       "    <tr>\n",
       "      <th>count</th>\n",
       "      <td>685839.000000</td>\n",
       "      <td>685839.000000</td>\n",
       "      <td>685839.000000</td>\n",
       "      <td>685839.000000</td>\n",
       "      <td>685839.000000</td>\n",
       "      <td>685839.000000</td>\n",
       "      <td>685839.000000</td>\n",
       "      <td>685839.000000</td>\n",
       "    </tr>\n",
       "    <tr>\n",
       "      <th>mean</th>\n",
       "      <td>3.928903</td>\n",
       "      <td>1324.798743</td>\n",
       "      <td>1493.729100</td>\n",
       "      <td>2214.088008</td>\n",
       "      <td>129.013694</td>\n",
       "      <td>8.169608</td>\n",
       "      <td>728.064884</td>\n",
       "      <td>179.533606</td>\n",
       "    </tr>\n",
       "    <tr>\n",
       "      <th>std</th>\n",
       "      <td>1.988370</td>\n",
       "      <td>463.989893</td>\n",
       "      <td>482.408914</td>\n",
       "      <td>1956.603901</td>\n",
       "      <td>69.382894</td>\n",
       "      <td>38.534371</td>\n",
       "      <td>561.958491</td>\n",
       "      <td>104.010013</td>\n",
       "    </tr>\n",
       "    <tr>\n",
       "      <th>min</th>\n",
       "      <td>1.000000</td>\n",
       "      <td>1.000000</td>\n",
       "      <td>0.000000</td>\n",
       "      <td>1.000000</td>\n",
       "      <td>12.000000</td>\n",
       "      <td>-86.000000</td>\n",
       "      <td>24.000000</td>\n",
       "      <td>1.000000</td>\n",
       "    </tr>\n",
       "    <tr>\n",
       "      <th>25%</th>\n",
       "      <td>2.000000</td>\n",
       "      <td>925.000000</td>\n",
       "      <td>1115.000000</td>\n",
       "      <td>620.000000</td>\n",
       "      <td>80.000000</td>\n",
       "      <td>-10.000000</td>\n",
       "      <td>328.000000</td>\n",
       "      <td>90.000000</td>\n",
       "    </tr>\n",
       "    <tr>\n",
       "      <th>50%</th>\n",
       "      <td>4.000000</td>\n",
       "      <td>1316.000000</td>\n",
       "      <td>1515.000000</td>\n",
       "      <td>1566.000000</td>\n",
       "      <td>111.000000</td>\n",
       "      <td>-2.000000</td>\n",
       "      <td>581.000000</td>\n",
       "      <td>178.000000</td>\n",
       "    </tr>\n",
       "    <tr>\n",
       "      <th>75%</th>\n",
       "      <td>6.000000</td>\n",
       "      <td>1715.000000</td>\n",
       "      <td>1905.000000</td>\n",
       "      <td>3492.000000</td>\n",
       "      <td>159.000000</td>\n",
       "      <td>12.000000</td>\n",
       "      <td>954.000000</td>\n",
       "      <td>268.000000</td>\n",
       "    </tr>\n",
       "    <tr>\n",
       "      <th>max</th>\n",
       "      <td>7.000000</td>\n",
       "      <td>2359.000000</td>\n",
       "      <td>2359.000000</td>\n",
       "      <td>9741.000000</td>\n",
       "      <td>660.000000</td>\n",
       "      <td>1290.000000</td>\n",
       "      <td>4962.000000</td>\n",
       "      <td>366.000000</td>\n",
       "    </tr>\n",
       "  </tbody>\n",
       "</table>\n",
       "</div>"
      ],
      "text/plain": [
       "           DayOfWeek     CRSDepTime     CRSArrTime      FlightNum  \\\n",
       "count  685839.000000  685839.000000  685839.000000  685839.000000   \n",
       "mean        3.928903    1324.798743    1493.729100    2214.088008   \n",
       "std         1.988370     463.989893     482.408914    1956.603901   \n",
       "min         1.000000       1.000000       0.000000       1.000000   \n",
       "25%         2.000000     925.000000    1115.000000     620.000000   \n",
       "50%         4.000000    1316.000000    1515.000000    1566.000000   \n",
       "75%         6.000000    1715.000000    1905.000000    3492.000000   \n",
       "max         7.000000    2359.000000    2359.000000    9741.000000   \n",
       "\n",
       "       CRSElapsedTime       ArrDelay       Distance      DayOfYear  \n",
       "count   685839.000000  685839.000000  685839.000000  685839.000000  \n",
       "mean       129.013694       8.169608     728.064884     179.533606  \n",
       "std         69.382894      38.534371     561.958491     104.010013  \n",
       "min         12.000000     -86.000000      24.000000       1.000000  \n",
       "25%         80.000000     -10.000000     328.000000      90.000000  \n",
       "50%        111.000000      -2.000000     581.000000     178.000000  \n",
       "75%        159.000000      12.000000     954.000000     268.000000  \n",
       "max        660.000000    1290.000000    4962.000000     366.000000  "
      ]
     },
     "execution_count": 127,
     "metadata": {},
     "output_type": "execute_result"
    }
   ],
   "source": [
    "data_clean.dropna(inplace=True)\n",
    "data_clean.describe()"
   ]
  },
  {
   "cell_type": "code",
   "execution_count": 128,
   "metadata": {},
   "outputs": [
    {
     "data": {
      "text/plain": [
       "(685839, 12)"
      ]
     },
     "execution_count": 128,
     "metadata": {},
     "output_type": "execute_result"
    }
   ],
   "source": [
    "data_clean.shape"
   ]
  },
  {
   "cell_type": "code",
   "execution_count": 129,
   "metadata": {},
   "outputs": [
    {
     "data": {
      "image/png": "[encoded data removed]",
      "text/plain": [
       "<matplotlib.figure.Figure at 0x1a91873b00>"
      ]
     },
     "metadata": {},
     "output_type": "display_data"
    }
   ],
   "source": [
    "plt.hist(data_clean.ArrDelay, bins=20)\n",
    "plt.show()"
   ]
  },
  {
   "cell_type": "code",
   "execution_count": 130,
   "metadata": {},
   "outputs": [
    {
     "data": {
      "text/plain": [
       "count    685839.000000\n",
       "mean          8.169608\n",
       "std          38.534371\n",
       "min         -86.000000\n",
       "25%         -10.000000\n",
       "50%          -2.000000\n",
       "75%          12.000000\n",
       "max        1290.000000\n",
       "Name: ArrDelay, dtype: float64"
      ]
     },
     "execution_count": 130,
     "metadata": {},
     "output_type": "execute_result"
    }
   ],
   "source": [
    "data_clean.ArrDelay.describe()"
   ]
  },
  {
   "cell_type": "markdown",
   "metadata": {},
   "source": [
    "There are some major outliers here. Let's reduce all the values over 250 minutes late to 250."
   ]
  },
  {
   "cell_type": "code",
   "execution_count": 131,
   "metadata": {},
   "outputs": [
    {
     "data": {
      "text/plain": [
       "2054"
      ]
     },
     "execution_count": 131,
     "metadata": {},
     "output_type": "execute_result"
    }
   ],
   "source": [
    "data_clean[data_clean.ArrDelay>250].ArrDelay.count()"
   ]
  },
  {
   "cell_type": "code",
   "execution_count": 132,
   "metadata": {},
   "outputs": [],
   "source": [
    "data_clean.loc[data_clean.ArrDelay>250, 'ArrDelay'] = 250"
   ]
  },
  {
   "cell_type": "code",
   "execution_count": 133,
   "metadata": {},
   "outputs": [
    {
     "data": {
      "image/png": "[encoded data removed]",
      "text/plain": [
       "<matplotlib.figure.Figure at 0x1a5701b668>"
      ]
     },
     "metadata": {},
     "output_type": "display_data"
    }
   ],
   "source": [
    "plt.hist(data_clean.ArrDelay, bins=20)\n",
    "plt.show()"
   ]
  },
  {
   "cell_type": "markdown",
   "metadata": {},
   "source": [
    "FlightNum and TailNum are categorical variables, so let's remove them for now. We're not going to make dummies for every single plane (although it might be interesting if we had the processing power)."
   ]
  },
  {
   "cell_type": "code",
   "execution_count": 134,
   "metadata": {},
   "outputs": [],
   "source": [
    "data_clean.drop(['FlightNum', 'TailNum'], axis=1, inplace=True)"
   ]
  },
  {
   "cell_type": "code",
   "execution_count": 135,
   "metadata": {},
   "outputs": [
    {
     "data": {
      "text/plain": [
       "array(['F9', 'AA', 'OH', 'FL', 'MQ', 'AS', 'DL', 'WN', 'NW', 'OO', 'XE',\n",
       "       'CO', 'YV', 'US', 'EV', '9E', 'UA', 'HA', 'AQ', 'B6'], dtype=object)"
      ]
     },
     "execution_count": 135,
     "metadata": {},
     "output_type": "execute_result"
    }
   ],
   "source": [
    "data_clean.UniqueCarrier.unique()"
   ]
  },
  {
   "cell_type": "markdown",
   "metadata": {},
   "source": [
    "This one we can make dummies for. Also Origin and Dest (although this will give us a lot of features!). We'll be sure to run feature selection before we run our models."
   ]
  },
  {
   "cell_type": "code",
   "execution_count": 136,
   "metadata": {},
   "outputs": [
    {
     "data": {
      "text/plain": [
       "(685839, 630)"
      ]
     },
     "execution_count": 136,
     "metadata": {},
     "output_type": "execute_result"
    }
   ],
   "source": [
    "pd.get_dummies(data_clean).shape"
   ]
  },
  {
   "cell_type": "code",
   "execution_count": 137,
   "metadata": {
    "collapsed": true
   },
   "outputs": [],
   "source": [
    "data_clean = pd.get_dummies(data_clean)"
   ]
  },
  {
   "cell_type": "code",
   "execution_count": 138,
   "metadata": {},
   "outputs": [
    {
     "data": {
      "text/plain": [
       "((617256, 630), (68583, 630))"
      ]
     },
     "execution_count": 138,
     "metadata": {},
     "output_type": "execute_result"
    }
   ],
   "source": [
    "# Data is already shuffled.\n",
    "\n",
    "test_frac = 0.1\n",
    "test_size = int(test_frac*len(data_clean))\n",
    "\n",
    "data_train = data_clean[test_size:]\n",
    "data_test = data_clean[:test_size]\n",
    "\n",
    "data_train.shape, data_test.shape"
   ]
  },
  {
   "cell_type": "code",
   "execution_count": 139,
   "metadata": {},
   "outputs": [],
   "source": [
    "X_train = data_train.loc[:, ~data_train.columns.isin(['ArrDelay'])]\n",
    "Y_train = data_train['ArrDelay']\n",
    "\n",
    "X_test = data_test.loc[:, ~data_test.columns.isin(['ArrDelay'])]\n",
    "Y_test = data_test['ArrDelay']"
   ]
  },
  {
   "cell_type": "code",
   "execution_count": 63,
   "metadata": {
    "collapsed": true
   },
   "outputs": [],
   "source": [
    "from sklearn.decomposition import PCA\n",
    "from sklearn.feature_selection import SelectKBest, RFE"
   ]
  },
  {
   "cell_type": "code",
   "execution_count": 140,
   "metadata": {},
   "outputs": [],
   "source": [
    "skb = SelectKBest(k=100)\n",
    "skb.fit(X_train, Y_train)\n",
    "X_train_skb = skb.transform(X_train)\n",
    "X_test_skb = skb.transform(X_test)"
   ]
  },
  {
   "cell_type": "code",
   "execution_count": 65,
   "metadata": {
    "collapsed": true
   },
   "outputs": [],
   "source": [
    "from sklearn.linear_model import LinearRegression, Ridge, Lasso\n",
    "from sklearn.neighbors import KNeighborsRegressor\n",
    "from sklearn.tree import DecisionTreeRegressor\n",
    "from sklearn.ensemble import RandomForestRegressor, GradientBoostingRegressor\n",
    "from sklearn.svm import SVR\n",
    "\n",
    "from sklearn.metrics import confusion_matrix\n",
    "from sklearn.model_selection import cross_val_score"
   ]
  },
  {
   "cell_type": "code",
   "execution_count": 141,
   "metadata": {},
   "outputs": [
    {
     "data": {
      "text/plain": [
       "0.038212150587901395"
      ]
     },
     "execution_count": 141,
     "metadata": {},
     "output_type": "execute_result"
    }
   ],
   "source": [
    "lnr = LinearRegression()\n",
    "lnr.fit(X_train_skb,Y_train)\n",
    "lnr.score(X_test_skb,Y_test)"
   ]
  },
  {
   "cell_type": "code",
   "execution_count": 80,
   "metadata": {},
   "outputs": [
    {
     "data": {
      "text/plain": [
       "0.035516250711118968"
      ]
     },
     "execution_count": 80,
     "metadata": {},
     "output_type": "execute_result"
    }
   ],
   "source": [
    "rid = Ridge(alpha=10)\n",
    "rid.fit(X_train_skb,Y_train)\n",
    "rid.score(X_test_skb,Y_test)"
   ]
  },
  {
   "cell_type": "code",
   "execution_count": 84,
   "metadata": {},
   "outputs": [
    {
     "data": {
      "text/plain": [
       "0.030297340938615355"
      ]
     },
     "execution_count": 84,
     "metadata": {},
     "output_type": "execute_result"
    }
   ],
   "source": [
    "las = Lasso(alpha=0.1)\n",
    "las.fit(X_train_skb,Y_train)\n",
    "las.score(X_test_skb,Y_test)"
   ]
  },
  {
   "cell_type": "code",
   "execution_count": 88,
   "metadata": {},
   "outputs": [
    {
     "data": {
      "text/plain": [
       "-0.25280929910042915"
      ]
     },
     "execution_count": 88,
     "metadata": {},
     "output_type": "execute_result"
    }
   ],
   "source": [
    "knr = KNeighborsRegressor(n_neighbors=3)\n",
    "knr.fit(X_train_skb,Y_train)\n",
    "knr.score(X_test_skb,Y_test)"
   ]
  },
  {
   "cell_type": "code",
   "execution_count": 93,
   "metadata": {},
   "outputs": [
    {
     "data": {
      "text/plain": [
       "0.012072647378456924"
      ]
     },
     "execution_count": 93,
     "metadata": {},
     "output_type": "execute_result"
    }
   ],
   "source": [
    "dtr = DecisionTreeRegressor(max_depth=10, max_features=4)\n",
    "dtr.fit(X_train_skb,Y_train)\n",
    "dtr.score(X_test_skb,Y_test)"
   ]
  },
  {
   "cell_type": "code",
   "execution_count": 142,
   "metadata": {},
   "outputs": [
    {
     "data": {
      "text/plain": [
       "0.10858612729414607"
      ]
     },
     "execution_count": 142,
     "metadata": {},
     "output_type": "execute_result"
    }
   ],
   "source": [
    "rfr = RandomForestRegressor(n_estimators=20, max_depth=10)\n",
    "rfr.fit(X_train_skb,Y_train)\n",
    "rfr.score(X_test_skb,Y_test)"
   ]
  },
  {
   "cell_type": "code",
   "execution_count": 100,
   "metadata": {},
   "outputs": [
    {
     "data": {
      "text/plain": [
       "0.072236996066485371"
      ]
     },
     "execution_count": 100,
     "metadata": {},
     "output_type": "execute_result"
    }
   ],
   "source": [
    "gbr = GradientBoostingRegressor(n_estimators=200, max_depth=3)\n",
    "gbr.fit(X_train_skb,Y_train)\n",
    "gbr.score(X_test_skb,Y_test)"
   ]
  },
  {
   "cell_type": "code",
   "execution_count": 101,
   "metadata": {},
   "outputs": [
    {
     "data": {
      "text/plain": [
       "-0.077917858590535349"
      ]
     },
     "execution_count": 101,
     "metadata": {},
     "output_type": "execute_result"
    }
   ],
   "source": [
    "# This one takes a long time -- beware when using a large fraction of the data set!\n",
    "#svr = SVR(C=1)\n",
    "#svr.fit(X_train_skb,Y_train)\n",
    "#svr.score(X_test_skb,Y_test)"
   ]
  },
  {
   "cell_type": "markdown",
   "metadata": {},
   "source": [
    "Yikes -- Nothing is really working on this. With 70,000 data points, I'm topping out at 0.07 R^2 on the test set.\n",
    "\n",
    "I reran the RFR model with 10x as much data -- 700,000 points. R^2 = 0.11. "
   ]
  },
  {
   "cell_type": "code",
   "execution_count": 143,
   "metadata": {},
   "outputs": [],
   "source": [
    "Y_pred = rfr.predict(X_test_skb)"
   ]
  },
  {
   "cell_type": "code",
   "execution_count": 144,
   "metadata": {},
   "outputs": [
    {
     "data": {
      "image/png": "[encoded data removed]",
      "text/plain": [
       "<matplotlib.figure.Figure at 0x1a8a566550>"
      ]
     },
     "metadata": {},
     "output_type": "display_data"
    }
   ],
   "source": [
    "plt.hist((Y_test-Y_pred), bins=20)\n",
    "plt.show()"
   ]
  },
  {
   "cell_type": "code",
   "execution_count": 147,
   "metadata": {},
   "outputs": [
    {
     "data": {
      "image/png": "[encoded data removed]",
      "text/plain": [
       "<matplotlib.figure.Figure at 0x1a56fa1c50>"
      ]
     },
     "metadata": {},
     "output_type": "display_data"
    }
   ],
   "source": [
    "plt.scatter(Y_test, Y_pred)\n",
    "plt.scatter(Y_test, Y_test)\n",
    "plt.show()"
   ]
  },
  {
   "cell_type": "markdown",
   "metadata": {},
   "source": [
    "Doesn't look so good..."
   ]
  },
  {
   "cell_type": "code",
   "execution_count": null,
   "metadata": {
    "collapsed": true
   },
   "outputs": [],
   "source": []
  }
 ],
 "metadata": {
  "kernelspec": {
   "display_name": "Python 3",
   "language": "python",
   "name": "python3"
  },
  "language_info": {
   "codemirror_mode": {
    "name": "ipython",
    "version": 3
   },
   "file_extension": ".py",
   "mimetype": "text/x-python",
   "name": "python",
   "nbconvert_exporter": "python",
   "pygments_lexer": "ipython3",
   "version": "3.6.2"
  }
 },
 "nbformat": 4,
 "nbformat_minor": 2
}
