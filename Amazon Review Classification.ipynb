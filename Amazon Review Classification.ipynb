{
 "cells": [
  {
   "cell_type": "code",
   "execution_count": 1,
   "metadata": {
    "collapsed": true
   },
   "outputs": [],
   "source": [
    "import numpy as np\n",
    "import pandas as pd\n",
    "import matplotlib.pyplot as plt\n",
    "import seaborn as sns\n",
    "import gzip\n",
    "\n",
    "%matplotlib inline\n",
    "sns.set_style('white')"
   ]
  },
  {
   "cell_type": "code",
   "execution_count": 2,
   "metadata": {
    "collapsed": true
   },
   "outputs": [],
   "source": [
    "def parse(path): \n",
    "    g = gzip.open(path, 'rb') \n",
    "    for l in g: \n",
    "        yield eval(l) \n",
    "        \n",
    "def getDF(path): \n",
    "    i = 0 \n",
    "    df = {} \n",
    "    for d in parse(path): \n",
    "        df[i] = d \n",
    "        i += 1 \n",
    "    return pd.DataFrame.from_dict(df, orient='index') "
   ]
  },
  {
   "cell_type": "code",
   "execution_count": 3,
   "metadata": {},
   "outputs": [
    {
     "data": {
      "text/plain": [
       "(64706, 9)"
      ]
     },
     "execution_count": 3,
     "metadata": {},
     "output_type": "execute_result"
    }
   ],
   "source": [
    "raw_data = getDF('reviews_Digital_Music_5.json.gz')\n",
    "raw_data.shape"
   ]
  },
  {
   "cell_type": "code",
   "execution_count": 4,
   "metadata": {},
   "outputs": [
    {
     "data": {
      "text/html": [
       "<div>\n",
       "<style>\n",
       "    .dataframe thead tr:only-child th {\n",
       "        text-align: right;\n",
       "    }\n",
       "\n",
       "    .dataframe thead th {\n",
       "        text-align: left;\n",
       "    }\n",
       "\n",
       "    .dataframe tbody tr th {\n",
       "        vertical-align: top;\n",
       "    }\n",
       "</style>\n",
       "<table border=\"1\" class=\"dataframe\">\n",
       "  <thead>\n",
       "    <tr style=\"text-align: right;\">\n",
       "      <th></th>\n",
       "      <th>reviewerID</th>\n",
       "      <th>asin</th>\n",
       "      <th>reviewerName</th>\n",
       "      <th>helpful</th>\n",
       "      <th>reviewText</th>\n",
       "      <th>overall</th>\n",
       "      <th>summary</th>\n",
       "      <th>unixReviewTime</th>\n",
       "      <th>reviewTime</th>\n",
       "    </tr>\n",
       "  </thead>\n",
       "  <tbody>\n",
       "    <tr>\n",
       "      <th>0</th>\n",
       "      <td>A3EBHHCZO6V2A4</td>\n",
       "      <td>5555991584</td>\n",
       "      <td>Amaranth \"music fan\"</td>\n",
       "      <td>[3, 3]</td>\n",
       "      <td>It's hard to believe \"Memory of Trees\" came ou...</td>\n",
       "      <td>5.0</td>\n",
       "      <td>Enya's last great album</td>\n",
       "      <td>1158019200</td>\n",
       "      <td>09 12, 2006</td>\n",
       "    </tr>\n",
       "    <tr>\n",
       "      <th>1</th>\n",
       "      <td>AZPWAXJG9OJXV</td>\n",
       "      <td>5555991584</td>\n",
       "      <td>bethtexas</td>\n",
       "      <td>[0, 0]</td>\n",
       "      <td>A clasically-styled and introverted album, Mem...</td>\n",
       "      <td>5.0</td>\n",
       "      <td>Enya at her most elegant</td>\n",
       "      <td>991526400</td>\n",
       "      <td>06 3, 2001</td>\n",
       "    </tr>\n",
       "    <tr>\n",
       "      <th>2</th>\n",
       "      <td>A38IRL0X2T4DPF</td>\n",
       "      <td>5555991584</td>\n",
       "      <td>bob turnley</td>\n",
       "      <td>[2, 2]</td>\n",
       "      <td>I never thought Enya would reach the sublime h...</td>\n",
       "      <td>5.0</td>\n",
       "      <td>The best so far</td>\n",
       "      <td>1058140800</td>\n",
       "      <td>07 14, 2003</td>\n",
       "    </tr>\n",
       "    <tr>\n",
       "      <th>3</th>\n",
       "      <td>A22IK3I6U76GX0</td>\n",
       "      <td>5555991584</td>\n",
       "      <td>Calle</td>\n",
       "      <td>[1, 1]</td>\n",
       "      <td>This is the third review of an irish album I w...</td>\n",
       "      <td>5.0</td>\n",
       "      <td>Ireland produces good music.</td>\n",
       "      <td>957312000</td>\n",
       "      <td>05 3, 2000</td>\n",
       "    </tr>\n",
       "    <tr>\n",
       "      <th>4</th>\n",
       "      <td>A1AISPOIIHTHXX</td>\n",
       "      <td>5555991584</td>\n",
       "      <td>Cloud \"...\"</td>\n",
       "      <td>[1, 1]</td>\n",
       "      <td>Enya, despite being a successful recording art...</td>\n",
       "      <td>4.0</td>\n",
       "      <td>4.5; music to dream to</td>\n",
       "      <td>1200528000</td>\n",
       "      <td>01 17, 2008</td>\n",
       "    </tr>\n",
       "  </tbody>\n",
       "</table>\n",
       "</div>"
      ],
      "text/plain": [
       "       reviewerID        asin          reviewerName helpful  \\\n",
       "0  A3EBHHCZO6V2A4  5555991584  Amaranth \"music fan\"  [3, 3]   \n",
       "1   AZPWAXJG9OJXV  5555991584             bethtexas  [0, 0]   \n",
       "2  A38IRL0X2T4DPF  5555991584           bob turnley  [2, 2]   \n",
       "3  A22IK3I6U76GX0  5555991584                 Calle  [1, 1]   \n",
       "4  A1AISPOIIHTHXX  5555991584           Cloud \"...\"  [1, 1]   \n",
       "\n",
       "                                          reviewText  overall  \\\n",
       "0  It's hard to believe \"Memory of Trees\" came ou...      5.0   \n",
       "1  A clasically-styled and introverted album, Mem...      5.0   \n",
       "2  I never thought Enya would reach the sublime h...      5.0   \n",
       "3  This is the third review of an irish album I w...      5.0   \n",
       "4  Enya, despite being a successful recording art...      4.0   \n",
       "\n",
       "                        summary  unixReviewTime   reviewTime  \n",
       "0       Enya's last great album      1158019200  09 12, 2006  \n",
       "1      Enya at her most elegant       991526400   06 3, 2001  \n",
       "2               The best so far      1058140800  07 14, 2003  \n",
       "3  Ireland produces good music.       957312000   05 3, 2000  \n",
       "4        4.5; music to dream to      1200528000  01 17, 2008  "
      ]
     },
     "execution_count": 4,
     "metadata": {},
     "output_type": "execute_result"
    }
   ],
   "source": [
    "raw_data.head()"
   ]
  },
  {
   "cell_type": "code",
   "execution_count": 5,
   "metadata": {},
   "outputs": [
    {
     "data": {
      "text/plain": [
       "count    64706.000000\n",
       "mean         4.222514\n",
       "std          1.086081\n",
       "min          1.000000\n",
       "25%          4.000000\n",
       "50%          5.000000\n",
       "75%          5.000000\n",
       "max          5.000000\n",
       "Name: overall, dtype: float64"
      ]
     },
     "execution_count": 5,
     "metadata": {},
     "output_type": "execute_result"
    }
   ],
   "source": [
    "raw_data['overall'].describe()"
   ]
  },
  {
   "cell_type": "code",
   "execution_count": 6,
   "metadata": {},
   "outputs": [
    {
     "data": {
      "text/plain": [
       "12590"
      ]
     },
     "execution_count": 6,
     "metadata": {},
     "output_type": "execute_result"
    }
   ],
   "source": [
    "(raw_data['overall']<4).sum()"
   ]
  },
  {
   "cell_type": "code",
   "execution_count": 7,
   "metadata": {
    "collapsed": true
   },
   "outputs": [],
   "source": [
    "# We'll set our classification threshold at 4: 4's and 5's will be positive, lower will be negative.\n",
    "\n",
    "raw_data['outcome_var'] = np.where(raw_data['overall']<4, 0, 1)\n",
    "data_clean = raw_data[['reviewText', 'outcome_var']]"
   ]
  },
  {
   "cell_type": "code",
   "execution_count": 8,
   "metadata": {
    "collapsed": true
   },
   "outputs": [],
   "source": [
    "from sklearn.feature_extraction.text import TfidfVectorizer\n",
    "from sklearn.decomposition import TruncatedSVD\n",
    "from sklearn.model_selection import train_test_split\n",
    "from sklearn.utils import resample"
   ]
  },
  {
   "cell_type": "code",
   "execution_count": 9,
   "metadata": {},
   "outputs": [
    {
     "name": "stdout",
     "output_type": "stream",
     "text": [
      "Training and testing shapes:\n",
      "(45294, 2) (19412, 2)\n",
      "Positive and negative outcome counts in training set:\n",
      "36453 8841\n",
      "Length of training set after resampling:\n",
      "72906\n"
     ]
    }
   ],
   "source": [
    "# Split the data into training and testing sets\n",
    "data_train, data_test = train_test_split(data_clean, test_size=0.3, random_state=100)\n",
    "print('Training and testing shapes:')\n",
    "print(data_train.shape, data_test.shape)\n",
    "print('Positive and negative outcome counts in training set:')\n",
    "print(len(data_train[data_train['outcome_var']==1]), len(data_train[data_train['outcome_var']==0]))\n",
    "\n",
    "# Resample the training data to increase the number of negative examples\n",
    "train_pos = data_train[data_train['outcome_var']==1]\n",
    "train_neg = data_train[data_train['outcome_var']==0]\n",
    "train_neg = resample(train_neg, n_samples=len(train_pos))\n",
    "data_train_resamp = pd.concat([train_pos, train_neg]).sample(frac=1)\n",
    "print('Length of training set after resampling:')\n",
    "print(len(data_train_resamp))"
   ]
  },
  {
   "cell_type": "code",
   "execution_count": 10,
   "metadata": {
    "collapsed": true
   },
   "outputs": [],
   "source": [
    "tfidf = TfidfVectorizer(lowercase=True, \n",
    "                        stop_words='english',\n",
    "                        ngram_range=(1, 1), \n",
    "                        analyzer='word', \n",
    "                        min_df=5,\n",
    "                        max_features=None, \n",
    "                        vocabulary=None, \n",
    "                        binary=False, \n",
    "                        use_idf=True)"
   ]
  },
  {
   "cell_type": "code",
   "execution_count": 11,
   "metadata": {},
   "outputs": [
    {
     "name": "stdout",
     "output_type": "stream",
     "text": [
      "X_train Shape:\n",
      "(72906, 36499)\n",
      "X_test Shape:\n",
      "(19412, 36499)\n"
     ]
    }
   ],
   "source": [
    "tfidf.fit(data_train_resamp.reviewText)\n",
    "X_train = tfidf.transform(data_train_resamp.reviewText)\n",
    "Y_train = data_train_resamp.outcome_var\n",
    "\n",
    "X_test = tfidf.transform(data_test.reviewText)\n",
    "Y_test = data_test.outcome_var\n",
    "\n",
    "print('X_train Shape:')\n",
    "print(X_train.get_shape())\n",
    "print('X_test Shape:')\n",
    "print(X_test.get_shape())"
   ]
  },
  {
   "cell_type": "code",
   "execution_count": 12,
   "metadata": {},
   "outputs": [
    {
     "name": "stdout",
     "output_type": "stream",
     "text": [
      "SVD Shape:\n",
      "(72906, 1000)\n"
     ]
    }
   ],
   "source": [
    "svd = TruncatedSVD(n_components=1000)\n",
    "svd.fit(X_train)\n",
    "X_train_svd = svd.transform(X_train)\n",
    "X_test_svd = svd.transform(X_test)\n",
    "print('SVD Shape:')\n",
    "print(X_train_svd.shape)"
   ]
  },
  {
   "cell_type": "code",
   "execution_count": 12,
   "metadata": {
    "collapsed": true
   },
   "outputs": [],
   "source": [
    "from sklearn.ensemble import RandomForestClassifier, GradientBoostingClassifier\n",
    "from sklearn.tree import DecisionTreeClassifier\n",
    "from sklearn.linear_model import LogisticRegression\n",
    "from sklearn.neighbors import KNeighborsClassifier\n",
    "from sklearn.svm import SVC\n",
    "from sklearn.naive_bayes import BernoulliNB\n",
    "\n",
    "from sklearn.model_selection import cross_val_score, GridSearchCV\n",
    "\n",
    "from sklearn.metrics import confusion_matrix, auc, precision_recall_curve"
   ]
  },
  {
   "cell_type": "code",
   "execution_count": 13,
   "metadata": {
    "collapsed": true
   },
   "outputs": [],
   "source": [
    "def auprc(Y, Y_pred):\n",
    "    precision, recall, thresholds = precision_recall_curve(Y, Y_pred)\n",
    "    return auc(precision, recall)"
   ]
  },
  {
   "cell_type": "code",
   "execution_count": 62,
   "metadata": {},
   "outputs": [
    {
     "name": "stdout",
     "output_type": "stream",
     "text": [
      "[ 0.82327527  0.8176519   0.81724043  0.82290809  0.821262  ]\n",
      "[[ 2116  1633]\n",
      " [ 4105 11558]]\n",
      "AUPRC: 0.105921957443\n"
     ]
    }
   ],
   "source": [
    "# Using full dataset -- 36000 features\n",
    "\n",
    "dtc = DecisionTreeClassifier(max_features=None, max_depth=32)\n",
    "dtc.fit(X_train, Y_train)\n",
    "Y_pred = dtc.predict(X_test)\n",
    "print(cross_val_score(dtc, X_train, Y_train, cv=5))\n",
    "print(confusion_matrix(Y_test, Y_pred))\n",
    "print('AUPRC: ' + str(auprc(Y_test, Y_pred)))"
   ]
  },
  {
   "cell_type": "code",
   "execution_count": 63,
   "metadata": {},
   "outputs": [
    {
     "name": "stdout",
     "output_type": "stream",
     "text": [
      "[ 0.8920587   0.88670964  0.8920587   0.88806584  0.89218107]\n",
      "[[ 1252  2497]\n",
      " [ 2505 13158]]\n",
      "AUPRC: 0.0979335051142\n"
     ]
    }
   ],
   "source": [
    "# Using SVD with 1000 components\n",
    "\n",
    "dtc = DecisionTreeClassifier(max_features=None, max_depth=32)\n",
    "dtc.fit(X_train_svd, Y_train)\n",
    "Y_pred = dtc.predict(X_test_svd)\n",
    "print(cross_val_score(dtc, X_train_svd, Y_train, cv=5))\n",
    "print(confusion_matrix(Y_test, Y_pred))\n",
    "print('AUPRC: ' + str(auprc(Y_test, Y_pred)))"
   ]
  },
  {
   "cell_type": "code",
   "execution_count": 60,
   "metadata": {},
   "outputs": [
    {
     "data": {
      "text/plain": [
       "GridSearchCV(cv=None, error_score='raise',\n",
       "       estimator=DecisionTreeClassifier(class_weight=None, criterion='gini', max_depth=30,\n",
       "            max_features=10, max_leaf_nodes=None,\n",
       "            min_impurity_decrease=0.0, min_impurity_split=None,\n",
       "            min_samples_leaf=1, min_samples_split=2,\n",
       "            min_weight_fraction_leaf=0.0, presort=False, random_state=None,\n",
       "            splitter='best'),\n",
       "       fit_params=None, iid=True, n_jobs=1,\n",
       "       param_grid={'max_depth': [4, 8, 16, 32], 'max_features': [4, 10, 'sqrt', None], 'min_samples_split': [2, 8, 32]},\n",
       "       pre_dispatch='2*n_jobs', refit=True, return_train_score=True,\n",
       "       scoring=None, verbose=0)"
      ]
     },
     "execution_count": 60,
     "metadata": {},
     "output_type": "execute_result"
    }
   ],
   "source": [
    "dtc_params = {'max_depth':[4, 8, 16, 32],\n",
    "              'max_features':[4, 10, 'sqrt', None],\n",
    "              'min_samples_split':[2, 8, 32]}\n",
    "dtc_grid = GridSearchCV(DecisionTreeClassifier(), param_grid=dtc_params)\n",
    "dtc_grid.fit(X_train, Y_train)"
   ]
  },
  {
   "cell_type": "code",
   "execution_count": 61,
   "metadata": {},
   "outputs": [
    {
     "name": "stdout",
     "output_type": "stream",
     "text": [
      "0.813938496146\n",
      "{'max_depth': 32, 'max_features': None, 'min_samples_split': 2}\n"
     ]
    }
   ],
   "source": [
    "print(dtc_grid.best_score_)\n",
    "print(dtc_grid.best_params_)"
   ]
  },
  {
   "cell_type": "code",
   "execution_count": 16,
   "metadata": {},
   "outputs": [
    {
     "name": "stdout",
     "output_type": "stream",
     "text": [
      "[[ 2203  1546]\n",
      " [ 1770 13893]]\n",
      "AUPRC: 0.132147723268\n"
     ]
    }
   ],
   "source": [
    "rfc = RandomForestClassifier(n_estimators=64, max_depth=32, min_samples_split=8)\n",
    "rfc.fit(X_train, Y_train)\n",
    "Y_pred = rfc.predict(X_test)\n",
    "print(confusion_matrix(Y_test, Y_pred))\n",
    "print('AUPRC: ' + str(auprc(Y_test, Y_pred)))"
   ]
  },
  {
   "cell_type": "code",
   "execution_count": 65,
   "metadata": {},
   "outputs": [
    {
     "data": {
      "text/plain": [
       "GridSearchCV(cv=None, error_score='raise',\n",
       "       estimator=RandomForestClassifier(bootstrap=True, class_weight=None, criterion='gini',\n",
       "            max_depth=20, max_features='auto', max_leaf_nodes=None,\n",
       "            min_impurity_decrease=0.0, min_impurity_split=None,\n",
       "            min_samples_leaf=1, min_samples_split=2,\n",
       "            min_weight_fraction_leaf=0.0, n_estimators=30, n_jobs=1,\n",
       "            oob_score=False, random_state=None, verbose=0,\n",
       "            warm_start=False),\n",
       "       fit_params=None, iid=True, n_jobs=1,\n",
       "       param_grid={'max_depth': [4, 8, 16, 32], 'n_estimators': [8, 16, 32, 64], 'min_samples_split': [2, 8, 32]},\n",
       "       pre_dispatch='2*n_jobs', refit=True, return_train_score=True,\n",
       "       scoring=None, verbose=0)"
      ]
     },
     "execution_count": 65,
     "metadata": {},
     "output_type": "execute_result"
    }
   ],
   "source": [
    "rfc_params = {'max_depth':[4, 8, 16, 32],\n",
    "              'n_estimators':[8, 16, 32, 64],\n",
    "              'min_samples_split':[2, 8, 32]}\n",
    "rfc_grid = GridSearchCV(RandomForestClassifier(), param_grid=rfc_params)\n",
    "rfc_grid.fit(X_train_svd, Y_train)"
   ]
  },
  {
   "cell_type": "markdown",
   "metadata": {},
   "source": [
    "Best params for RFC are: max_depth=32, min_samples_split=8, n_estimators=64. With this we're getting an AUPRC of 0.132. Confusion matrix is: \n",
    "\n",
    "[[ 2129  1620]\n",
    "\n",
    "[ 1600 14063]]\n",
    "\n",
    "So at least our true negatives are greater than false negatives or false positives! Better than most of our models..."
   ]
  },
  {
   "cell_type": "code",
   "execution_count": 66,
   "metadata": {},
   "outputs": [
    {
     "name": "stdout",
     "output_type": "stream",
     "text": [
      "0.963158039119\n",
      "{'max_depth': 32, 'min_samples_split': 8, 'n_estimators': 64}\n"
     ]
    }
   ],
   "source": [
    "print(rfc_grid.best_score_)\n",
    "print(rfc_grid.best_params_)"
   ]
  },
  {
   "cell_type": "code",
   "execution_count": 17,
   "metadata": {},
   "outputs": [
    {
     "data": {
      "image/png": "[encoded data removed]",
      "text/plain": [
       "<matplotlib.figure.Figure at 0x10cb16748>"
      ]
     },
     "metadata": {},
     "output_type": "display_data"
    }
   ],
   "source": [
    "importances = rfc.feature_importances_\n",
    "indices = np.argsort(importances)[::-1]\n",
    "top_indices = indices[:1000]\n",
    "\n",
    "# Plot the feature importances of the forest\n",
    "plt.figure(figsize=(14, 4))\n",
    "plt.title(\"Top {} Feature Importances\".format(len(top_indices)))\n",
    "plt.bar(range(len(top_indices)), importances[top_indices],\n",
    "       color=\"r\", align=\"center\")\n",
    "plt.xlim([-1, len(top_indices)])\n",
    "plt.ylabel('% Variance Described')\n",
    "plt.show()"
   ]
  },
  {
   "cell_type": "code",
   "execution_count": 18,
   "metadata": {},
   "outputs": [
    {
     "name": "stdout",
     "output_type": "stream",
     "text": [
      "Variance explained with 100 features: 0.3451704622233908\n",
      "Variance explained with 200 features: 0.4483153456646762\n",
      "Variance explained with 500 features: 0.5938357380135506\n",
      "Variance explained with 1000 features: 0.7082263301316596\n",
      "Variance explained with 2000 features: 0.817091303543621\n",
      "Variance explained with 5000 features: 0.9297856799180464\n",
      "Variance explained with 10000 features: 0.9883416559939221\n",
      "Variance explained with 14500 features: 1.0000000000000002\n",
      "Total Features: 36499\n"
     ]
    }
   ],
   "source": [
    "for n_idx in [100, 200, 500, 1000, 2000, 5000, 10000, 14500]:\n",
    "    print('Variance explained with {} features: {}'.format(n_idx, importances[indices[:n_idx]].sum()))\n",
    "print('Total Features: ' + str(len(indices)))"
   ]
  },
  {
   "cell_type": "markdown",
   "metadata": {},
   "source": [
    "Feature importance appears to drop off dramatically after the first 200 features, but the tail is long enough that lower importances still play a large role in the variance of the model. But remember -- we started with 36,000 features, so even dropping down to 5,000 is a significant reduction. All features after 14,500 have zero importance."
   ]
  },
  {
   "cell_type": "code",
   "execution_count": 19,
   "metadata": {},
   "outputs": [
    {
     "name": "stdout",
     "output_type": "stream",
     "text": [
      "(72906, 5000) (19412, 5000)\n",
      "(72906, 14500) (19412, 14500)\n"
     ]
    }
   ],
   "source": [
    "n_indices = 5000\n",
    "X_train_rfc = X_train[:, indices[:n_indices]]\n",
    "X_test_rfc = X_test[:, indices[:n_indices]]\n",
    "print(X_train_rfc.shape, X_test_rfc.shape)\n",
    "\n",
    "n_indices = 14500\n",
    "X_train_full = X_train[:, indices[:n_indices]]\n",
    "X_test_full = X_test[:, indices[:n_indices]]\n",
    "print(X_train_full.shape, X_test_full.shape)"
   ]
  },
  {
   "cell_type": "code",
   "execution_count": 54,
   "metadata": {},
   "outputs": [
    {
     "name": "stdout",
     "output_type": "stream",
     "text": [
      "[[ 2148  1601]\n",
      " [ 1751 13912]]\n",
      "AUPRC: 0.130730987486\n"
     ]
    }
   ],
   "source": [
    "rfc = RandomForestClassifier(n_estimators=64, max_depth=32, min_samples_split=8)\n",
    "rfc.fit(X_train_rfc, Y_train)\n",
    "Y_pred = rfc.predict(X_test_rfc)\n",
    "print(confusion_matrix(Y_test, Y_pred))\n",
    "print('AUPRC: ' + str(auprc(Y_test, Y_pred)))"
   ]
  },
  {
   "cell_type": "code",
   "execution_count": 70,
   "metadata": {},
   "outputs": [
    {
     "name": "stdout",
     "output_type": "stream",
     "text": [
      "[ 0.86174736  0.86737073  0.86236456  0.86591221  0.86769547]\n",
      "[[ 2797   952]\n",
      " [ 2157 13506]]\n",
      "AUPRC: 0.146906889434\n"
     ]
    }
   ],
   "source": [
    "lgr = LogisticRegression(penalty='l2', C=.65, fit_intercept=True)\n",
    "lgr.fit(X_train, Y_train)\n",
    "print(cross_val_score(lgr, X_train, Y_train, cv=5))\n",
    "Y_pred = lgr.predict(X_test)\n",
    "print(confusion_matrix(Y_test, Y_pred))\n",
    "print('AUPRC: ' + str(auprc(Y_test, Y_pred)))"
   ]
  },
  {
   "cell_type": "markdown",
   "metadata": {},
   "source": [
    "Even with all that RFC tuning, logistic regression runs better than random forest."
   ]
  },
  {
   "cell_type": "code",
   "execution_count": null,
   "metadata": {
    "collapsed": true
   },
   "outputs": [],
   "source": [
    "# Beware -- slow to run. Use fewer features.\n",
    "knc = KNeighborsClassifier(n_neighbors=3)\n",
    "knc.fit(X_train_rfc, Y_train)\n",
    "Y_pred = knc.predict(X_test_rfc)\n",
    "print(confusion_matrix(Y_test, Y_pred))\n",
    "print('AUPRC: ' + str(auprc(Y_test, Y_pred)))"
   ]
  },
  {
   "cell_type": "code",
   "execution_count": 19,
   "metadata": {},
   "outputs": [
    {
     "name": "stdout",
     "output_type": "stream",
     "text": [
      "[ 0.7420107   0.73899328  0.73412426  0.73820302  0.73209877]\n",
      "[[2795  954]\n",
      " [5879 9784]]\n",
      "AUPRC: 0.11246165176\n"
     ]
    }
   ],
   "source": [
    "bnb = BernoulliNB()\n",
    "bnb.fit(X_train, Y_train)\n",
    "Y_pred = bnb.predict(X_test)\n",
    "print(cross_val_score(bnb, X_train, Y_train, cv=5))\n",
    "print(confusion_matrix(Y_test, Y_pred))\n",
    "print('AUPRC: ' + str(auprc(Y_test, Y_pred)))"
   ]
  },
  {
   "cell_type": "code",
   "execution_count": 24,
   "metadata": {},
   "outputs": [
    {
     "name": "stdout",
     "output_type": "stream",
     "text": [
      "[[ 356   16]\n",
      " [1899  808]]\n",
      "AUPRC: 0.0687317577271\n"
     ]
    }
   ],
   "source": [
    "svc = SVC()\n",
    "svc.fit(X_train, Y_train)\n",
    "Y_pred = svc.predict(X_test)\n",
    "print(confusion_matrix(Y_test, Y_pred))\n",
    "print('AUPRC: ' + str(auprc(Y_test, Y_pred)))"
   ]
  },
  {
   "cell_type": "code",
   "execution_count": 20,
   "metadata": {},
   "outputs": [
    {
     "name": "stdout",
     "output_type": "stream",
     "text": [
      "[[ 2724  1025]\n",
      " [ 3683 11980]]\n",
      "AUPRC: 0.131013974112\n"
     ]
    }
   ],
   "source": [
    "gbc = GradientBoostingClassifier(n_estimators=100, max_depth=4)\n",
    "gbc.fit(X_train_full, Y_train)\n",
    "Y_pred = gbc.predict(X_test_full)\n",
    "print(confusion_matrix(Y_test, Y_pred))\n",
    "print('AUPRC: ' + str(auprc(Y_test, Y_pred)))"
   ]
  },
  {
   "cell_type": "code",
   "execution_count": 24,
   "metadata": {},
   "outputs": [
    {
     "data": {
      "text/plain": [
       "GridSearchCV(cv=None, error_score='raise',\n",
       "       estimator=GradientBoostingClassifier(criterion='friedman_mse', init=None,\n",
       "              learning_rate=0.1, loss='deviance', max_depth=3,\n",
       "              max_features=None, max_leaf_nodes=None,\n",
       "              min_impurity_decrease=0.0, min_impurity_split=None,\n",
       "              min_samples_leaf=1, min_samples_split=2,\n",
       "              min_weight_fraction_leaf=0.0, n_estimators=100,\n",
       "              presort='auto', random_state=None, subsample=1.0, verbose=0,\n",
       "              warm_start=False),\n",
       "       fit_params=None, iid=True, n_jobs=1,\n",
       "       param_grid={'max_depth': [12, 24], 'n_estimators': [50, 100], 'learning_rate': [0.1, 0.3]},\n",
       "       pre_dispatch='2*n_jobs', refit=True, return_train_score=True,\n",
       "       scoring='average_precision', verbose=0)"
      ]
     },
     "execution_count": 24,
     "metadata": {},
     "output_type": "execute_result"
    }
   ],
   "source": [
    "gbc_params = {'max_depth':[12, 24],\n",
    "              'n_estimators':[50, 100],\n",
    "              'learning_rate':[0.1, 0.3]}\n",
    "gbc_grid = GridSearchCV(GradientBoostingClassifier(), param_grid=gbc_params, scoring='average_precision')\n",
    "gbc_grid.fit(X_train_rfc, Y_train)"
   ]
  },
  {
   "cell_type": "code",
   "execution_count": 23,
   "metadata": {},
   "outputs": [
    {
     "name": "stdout",
     "output_type": "stream",
     "text": [
      "0.937523619882\n",
      "{'learning_rate': 0.1, 'max_depth': 12, 'n_estimators': 50}\n"
     ]
    }
   ],
   "source": [
    "print(gbc_grid.best_score_)\n",
    "print(gbc_grid.best_params_)"
   ]
  },
  {
   "cell_type": "code",
   "execution_count": null,
   "metadata": {
    "collapsed": true
   },
   "outputs": [],
   "source": []
  }
 ],
 "metadata": {
  "kernelspec": {
   "display_name": "Python 3",
   "language": "python",
   "name": "python3"
  },
  "language_info": {
   "codemirror_mode": {
    "name": "ipython",
    "version": 3
   },
   "file_extension": ".py",
   "mimetype": "text/x-python",
   "name": "python",
   "nbconvert_exporter": "python",
   "pygments_lexer": "ipython3",
   "version": "3.6.2"
  }
 },
 "nbformat": 4,
 "nbformat_minor": 2
}
