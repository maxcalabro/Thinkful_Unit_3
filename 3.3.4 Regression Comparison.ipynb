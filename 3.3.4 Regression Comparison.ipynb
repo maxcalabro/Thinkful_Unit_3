{
 "cells": [
  {
   "cell_type": "markdown",
   "metadata": {},
   "source": [
    "## Regression Comparison\n",
    "\n",
    "Let's look at standard logistic regression, Ridge Regression, and Lasso Regression and see how they compare when examining breast cancer diagnosis."
   ]
  },
  {
   "cell_type": "code",
   "execution_count": 3,
   "metadata": {
    "collapsed": true
   },
   "outputs": [],
   "source": [
    "import pandas as pd\n",
    "from matplotlib import pyplot as plt\n",
    "import numpy as np\n",
    "import math\n",
    "import seaborn as sns\n",
    "import sklearn\n",
    "from sklearn import linear_model\n",
    "from sklearn import preprocessing\n",
    "from sklearn.model_selection import cross_val_score\n",
    "from sklearn.utils import resample\n",
    "\n",
    "%matplotlib inline\n",
    "sns.set_style('white')"
   ]
  },
  {
   "cell_type": "code",
   "execution_count": 2,
   "metadata": {},
   "outputs": [
    {
     "data": {
      "text/plain": [
       "(683, 11)"
      ]
     },
     "execution_count": 2,
     "metadata": {},
     "output_type": "execute_result"
    }
   ],
   "source": [
    "full_df = pd.read_csv('Breast Cancer Diagnosis/breast-cancer-wisconsin.data', \n",
    "                      names=['id','clumpthickness','cellsize','cellshape','adhesion','epithelialsize',\n",
    "                             'barenuclei','chromatin','nucleoli','mitosis','class']\n",
    "                     ) \n",
    "full_df['class'] = full_df['class'].replace({2:0, 4:1})\n",
    "full_df['barenuclei'] = pd.to_numeric(full_df['barenuclei'], errors='coerce')\n",
    "full_df = full_df.dropna()\n",
    "full_df.shape"
   ]
  },
  {
   "cell_type": "markdown",
   "metadata": {},
   "source": [
    "Let's resample the positives to deal with class imbalance."
   ]
  },
  {
   "cell_type": "code",
   "execution_count": 4,
   "metadata": {},
   "outputs": [
    {
     "name": "stdout",
     "output_type": "stream",
     "text": [
      "444 239\n",
      "(444, 11)\n"
     ]
    }
   ],
   "source": [
    "neg_df = full_df[full_df['class']==0]\n",
    "pos_df = full_df[full_df['class']==1]\n",
    "print(len(neg_df), len(pos_df))\n",
    "\n",
    "pos_df_upsampled = resample(pos_df, n_samples=444)\n",
    "print(pos_df_upsampled.shape)\n",
    "\n",
    "full_df = pd.concat([pos_df_upsampled, neg_df])"
   ]
  },
  {
   "cell_type": "code",
   "execution_count": 5,
   "metadata": {},
   "outputs": [
    {
     "data": {
      "text/html": [
       "<div>\n",
       "<style>\n",
       "    .dataframe thead tr:only-child th {\n",
       "        text-align: right;\n",
       "    }\n",
       "\n",
       "    .dataframe thead th {\n",
       "        text-align: left;\n",
       "    }\n",
       "\n",
       "    .dataframe tbody tr th {\n",
       "        vertical-align: top;\n",
       "    }\n",
       "</style>\n",
       "<table border=\"1\" class=\"dataframe\">\n",
       "  <thead>\n",
       "    <tr style=\"text-align: right;\">\n",
       "      <th></th>\n",
       "      <th>id</th>\n",
       "      <th>clumpthickness</th>\n",
       "      <th>cellsize</th>\n",
       "      <th>cellshape</th>\n",
       "      <th>adhesion</th>\n",
       "      <th>epithelialsize</th>\n",
       "      <th>barenuclei</th>\n",
       "      <th>chromatin</th>\n",
       "      <th>nucleoli</th>\n",
       "      <th>mitosis</th>\n",
       "      <th>class</th>\n",
       "    </tr>\n",
       "  </thead>\n",
       "  <tbody>\n",
       "    <tr>\n",
       "      <th>282</th>\n",
       "      <td>488173</td>\n",
       "      <td>1</td>\n",
       "      <td>4</td>\n",
       "      <td>3</td>\n",
       "      <td>10</td>\n",
       "      <td>4</td>\n",
       "      <td>10.0</td>\n",
       "      <td>5</td>\n",
       "      <td>6</td>\n",
       "      <td>1</td>\n",
       "      <td>1</td>\n",
       "    </tr>\n",
       "    <tr>\n",
       "      <th>103</th>\n",
       "      <td>1168359</td>\n",
       "      <td>8</td>\n",
       "      <td>2</td>\n",
       "      <td>3</td>\n",
       "      <td>1</td>\n",
       "      <td>6</td>\n",
       "      <td>3.0</td>\n",
       "      <td>7</td>\n",
       "      <td>1</td>\n",
       "      <td>1</td>\n",
       "      <td>1</td>\n",
       "    </tr>\n",
       "    <tr>\n",
       "      <th>261</th>\n",
       "      <td>263538</td>\n",
       "      <td>5</td>\n",
       "      <td>10</td>\n",
       "      <td>10</td>\n",
       "      <td>6</td>\n",
       "      <td>10</td>\n",
       "      <td>10.0</td>\n",
       "      <td>10</td>\n",
       "      <td>6</td>\n",
       "      <td>5</td>\n",
       "      <td>1</td>\n",
       "    </tr>\n",
       "    <tr>\n",
       "      <th>457</th>\n",
       "      <td>1259008</td>\n",
       "      <td>8</td>\n",
       "      <td>8</td>\n",
       "      <td>9</td>\n",
       "      <td>6</td>\n",
       "      <td>6</td>\n",
       "      <td>3.0</td>\n",
       "      <td>10</td>\n",
       "      <td>10</td>\n",
       "      <td>1</td>\n",
       "      <td>1</td>\n",
       "    </tr>\n",
       "    <tr>\n",
       "      <th>226</th>\n",
       "      <td>1227481</td>\n",
       "      <td>10</td>\n",
       "      <td>5</td>\n",
       "      <td>7</td>\n",
       "      <td>4</td>\n",
       "      <td>4</td>\n",
       "      <td>10.0</td>\n",
       "      <td>8</td>\n",
       "      <td>9</td>\n",
       "      <td>1</td>\n",
       "      <td>1</td>\n",
       "    </tr>\n",
       "  </tbody>\n",
       "</table>\n",
       "</div>"
      ],
      "text/plain": [
       "          id  clumpthickness  cellsize  cellshape  adhesion  epithelialsize  \\\n",
       "282   488173               1         4          3        10               4   \n",
       "103  1168359               8         2          3         1               6   \n",
       "261   263538               5        10         10         6              10   \n",
       "457  1259008               8         8          9         6               6   \n",
       "226  1227481              10         5          7         4               4   \n",
       "\n",
       "     barenuclei  chromatin  nucleoli  mitosis  class  \n",
       "282        10.0          5         6        1      1  \n",
       "103         3.0          7         1        1      1  \n",
       "261        10.0         10         6        5      1  \n",
       "457         3.0         10        10        1      1  \n",
       "226        10.0          8         9        1      1  "
      ]
     },
     "execution_count": 5,
     "metadata": {},
     "output_type": "execute_result"
    }
   ],
   "source": [
    "full_df.head()"
   ]
  },
  {
   "cell_type": "code",
   "execution_count": 6,
   "metadata": {
    "collapsed": true
   },
   "outputs": [],
   "source": [
    "Y = full_df['class'].values.reshape(-1, 1).ravel()\n",
    "X = full_df.loc[:, 'clumpthickness':'mitosis']"
   ]
  },
  {
   "cell_type": "code",
   "execution_count": 7,
   "metadata": {},
   "outputs": [
    {
     "data": {
      "text/plain": [
       "(888, 9)"
      ]
     },
     "execution_count": 7,
     "metadata": {},
     "output_type": "execute_result"
    }
   ],
   "source": [
    "X.shape"
   ]
  },
  {
   "cell_type": "markdown",
   "metadata": {},
   "source": [
    "Let's create some new features to broaden the analysis."
   ]
  },
  {
   "cell_type": "code",
   "execution_count": 8,
   "metadata": {
    "collapsed": true
   },
   "outputs": [],
   "source": [
    "X['cell_epithelial'] = X['cellsize'] * X['epithelialsize']\n",
    "X['bare_nucleoli'] = X['barenuclei'] * X['nucleoli']\n",
    "X['clump_shape'] = X['clumpthickness'] * X['cellshape']\n",
    "X['chromatin_adhesion'] = X['chromatin'] * X['adhesion']\n",
    "X['mitosis_shape'] = X['mitosis'] * X['cellshape']\n",
    "X['clump_bare'] = X['clumpthickness'] * X['barenuclei']\n",
    "X['size_2'] = X['cellsize'] * X['cellsize']\n",
    "X['nucleoli_2'] = X['nucleoli'] * X['nucleoli']"
   ]
  },
  {
   "cell_type": "code",
   "execution_count": 16,
   "metadata": {},
   "outputs": [
    {
     "data": {
      "text/plain": [
       "<matplotlib.axes._subplots.AxesSubplot at 0x1109c9e10>"
      ]
     },
     "execution_count": 16,
     "metadata": {},
     "output_type": "execute_result"
    },
    {
     "data": {
      "image/png": "[encoded data removed]",
      "text/plain": [
       "<matplotlib.figure.Figure at 0x1109f86d8>"
      ]
     },
     "metadata": {},
     "output_type": "display_data"
    }
   ],
   "source": [
    "corrmat = X.corr()\n",
    "sns.heatmap(corrmat)"
   ]
  },
  {
   "cell_type": "code",
   "execution_count": 10,
   "metadata": {},
   "outputs": [
    {
     "name": "stdout",
     "output_type": "stream",
     "text": [
      "0.970720720721\n",
      "0.96509009009\n",
      "0.970720720721\n"
     ]
    }
   ],
   "source": [
    "# To negate the automatic regularization in the LogisticRegression() model, we can set C to be large.\n",
    "\n",
    "regr = linear_model.LogisticRegression(penalty='l2', C=1e9, fit_intercept=False)\n",
    "ridg = linear_model.LogisticRegression(penalty='l2', C=0.05, fit_intercept=False)\n",
    "lass = linear_model.LogisticRegression(penalty='l1', C=0.05, fit_intercept=False)\n",
    "\n",
    "regr.fit(X,Y)\n",
    "ridg.fit(X,Y)\n",
    "lass.fit(X,Y)\n",
    "\n",
    "print(regr.score(X,Y))\n",
    "print(ridg.score(X,Y))\n",
    "print(lass.score(X,Y))"
   ]
  },
  {
   "cell_type": "code",
   "execution_count": 11,
   "metadata": {},
   "outputs": [
    {
     "name": "stdout",
     "output_type": "stream",
     "text": [
      "Vanilla Regression: 0.97 +/- 0.02\n",
      "Ridge Regression: 0.96 +/- 0.03\n",
      "Lasso Regression: 0.96 +/- 0.03\n"
     ]
    }
   ],
   "source": [
    "n_folds = 6\n",
    "# With 6 folds, the training set will have about 750 data points, and the test set will have about 150.\n",
    "# Changing this parameter changed the variance in the accuracy, but not by much.\n",
    "\n",
    "regr_score = cross_val_score(regr, X, Y, cv=n_folds)\n",
    "ridg_score = cross_val_score(ridg, X, Y, cv=n_folds)\n",
    "lass_score = cross_val_score(lass, X, Y, cv=n_folds)\n",
    "\n",
    "print('Vanilla Regression: %.2f +/- %.2f' % (regr_score.mean(), 2*regr_score.std()))\n",
    "print('Ridge Regression: %.2f +/- %.2f' % (ridg_score.mean(), 2*ridg_score.std()))\n",
    "print('Lasso Regression: %.2f +/- %.2f' % (lass_score.mean(), 2*lass_score.std()))"
   ]
  },
  {
   "cell_type": "markdown",
   "metadata": {},
   "source": [
    "Accuracy for these models on this data set are are about equal. Let's see if anything interesting happened with the coefficients."
   ]
  },
  {
   "cell_type": "code",
   "execution_count": 12,
   "metadata": {},
   "outputs": [
    {
     "data": {
      "text/plain": [
       "array([[ 0.30065154,  0.07821219, -2.69773601,  0.4990903 , -1.03566606,\n",
       "         0.51635194,  0.4717478 , -0.89065945, -5.76585694,  0.23464884,\n",
       "        -0.06950369,  0.02702092,  0.02399313,  2.9917443 ,  0.03147798,\n",
       "        -0.11167854,  0.15034265]])"
      ]
     },
     "execution_count": 12,
     "metadata": {},
     "output_type": "execute_result"
    }
   ],
   "source": [
    "regr.coef_"
   ]
  },
  {
   "cell_type": "code",
   "execution_count": 13,
   "metadata": {},
   "outputs": [
    {
     "data": {
      "text/plain": [
       "array([[-0.45526822, -0.27814842, -0.45572328, -0.30928379, -0.72799466,\n",
       "        -0.07824774, -0.25826088, -0.43431281, -0.34963554,  0.20381757,\n",
       "        -0.07334886,  0.12551156,  0.24980427,  0.37801734,  0.17011643,\n",
       "        -0.08820459,  0.09596346]])"
      ]
     },
     "execution_count": 13,
     "metadata": {},
     "output_type": "execute_result"
    }
   ],
   "source": [
    "ridg.coef_"
   ]
  },
  {
   "cell_type": "code",
   "execution_count": 14,
   "metadata": {},
   "outputs": [
    {
     "data": {
      "text/plain": [
       "array([[-0.52747011, -0.01227926, -0.3170529 ,  0.        , -1.12578442,\n",
       "         0.        , -0.00135007, -0.03732087,  0.        ,  0.25345672,\n",
       "        -0.03007674,  0.14177325,  0.09366335,  0.11918975,  0.11378914,\n",
       "        -0.10466345,  0.03716208]])"
      ]
     },
     "execution_count": 14,
     "metadata": {},
     "output_type": "execute_result"
    }
   ],
   "source": [
    "lass.coef_"
   ]
  },
  {
   "cell_type": "markdown",
   "metadata": {},
   "source": [
    "Nothing too crazy -- these values are all reasonable. Lasso did eliminate some of the features, which is nice. I suspect this data set is too small to really see substantial differences between the models. I played with C values (1/lambda), and I can increase the L1 regularization to the point where only 5-6 features remain and still get 94-95% accuracy. For a larger dataset, this could be a powerful tool. The L2 regularization doesn't prove to be so necessary for this particular model -- none of the coefficients in the Vanilla Regression are getting out of control, and Vanilla still performs slightly better on the cross validation set. \n",
    "\n",
    "These accuracy values are also very similar to that I was able to achieve with a simple Random Forest model. "
   ]
  },
  {
   "cell_type": "markdown",
   "metadata": {},
   "source": [
    "## Various Feature Selection Options\n",
    "\n",
    "Let's try: selectKbest, RFE, PCA."
   ]
  },
  {
   "cell_type": "code",
   "execution_count": 18,
   "metadata": {},
   "outputs": [],
   "source": [
    "from sklearn.feature_selection import SelectKBest\n",
    "from sklearn.feature_selection import RFE\n",
    "from sklearn.decomposition import PCA"
   ]
  },
  {
   "cell_type": "code",
   "execution_count": 20,
   "metadata": {},
   "outputs": [],
   "source": [
    "skb = SelectKBest(k=5)\n",
    "rfe = RFE(regr, 5)\n",
    "pca = PCA(n_components=5)"
   ]
  },
  {
   "cell_type": "code",
   "execution_count": 34,
   "metadata": {},
   "outputs": [
    {
     "name": "stdout",
     "output_type": "stream",
     "text": [
      "[ 1 11  1  2  6  1  3  4  1  7  9 12 13  1 10  8  5]\n"
     ]
    }
   ],
   "source": [
    "rfe.fit(X,Y)\n",
    "print(rfe.ranking_)\n",
    "X_rfe = rfe.transform(X)"
   ]
  },
  {
   "cell_type": "code",
   "execution_count": 35,
   "metadata": {},
   "outputs": [
    {
     "name": "stdout",
     "output_type": "stream",
     "text": [
      "RFE Vanilla Regression: 0.96 +/- 0.03\n",
      "RFE Ridge Regression: 0.94 +/- 0.04\n",
      "RFE Lasso Regression: 0.95 +/- 0.04\n"
     ]
    }
   ],
   "source": [
    "n_folds = 6\n",
    "# With 6 folds, the training set will have about 750 data points, and the test set will have about 150.\n",
    "# Changing this parameter changed the variance in the accuracy, but not by much.\n",
    "\n",
    "regr_score = cross_val_score(regr, X_rfe, Y, cv=n_folds)\n",
    "ridg_score = cross_val_score(ridg, X_rfe, Y, cv=n_folds)\n",
    "lass_score = cross_val_score(lass, X_rfe, Y, cv=n_folds)\n",
    "\n",
    "print('RFE Vanilla Regression: %.2f +/- %.2f' % (regr_score.mean(), 2*regr_score.std()))\n",
    "print('RFE Ridge Regression: %.2f +/- %.2f' % (ridg_score.mean(), 2*ridg_score.std()))\n",
    "print('RFE Lasso Regression: %.2f +/- %.2f' % (lass_score.mean(), 2*lass_score.std()))"
   ]
  },
  {
   "cell_type": "code",
   "execution_count": 30,
   "metadata": {},
   "outputs": [],
   "source": [
    "skb.fit(X,Y)\n",
    "X_skb = skb.transform(X)"
   ]
  },
  {
   "cell_type": "code",
   "execution_count": 36,
   "metadata": {},
   "outputs": [
    {
     "name": "stdout",
     "output_type": "stream",
     "text": [
      "RFE Vanilla Regression: 0.76 +/- 0.13\n",
      "RFE Ridge Regression: 0.76 +/- 0.13\n",
      "RFE Lasso Regression: 0.78 +/- 0.15\n"
     ]
    }
   ],
   "source": [
    "n_folds = 6\n",
    "# With 6 folds, the training set will have about 750 data points, and the test set will have about 150.\n",
    "# Changing this parameter changed the variance in the accuracy, but not by much.\n",
    "\n",
    "regr_score = cross_val_score(regr, X_skb, Y, cv=n_folds)\n",
    "ridg_score = cross_val_score(ridg, X_skb, Y, cv=n_folds)\n",
    "lass_score = cross_val_score(lass, X_skb, Y, cv=n_folds)\n",
    "\n",
    "print('RFE Vanilla Regression: %.2f +/- %.2f' % (regr_score.mean(), 2*regr_score.std()))\n",
    "print('RFE Ridge Regression: %.2f +/- %.2f' % (ridg_score.mean(), 2*ridg_score.std()))\n",
    "print('RFE Lasso Regression: %.2f +/- %.2f' % (lass_score.mean(), 2*lass_score.std()))"
   ]
  },
  {
   "cell_type": "markdown",
   "metadata": {},
   "source": [
    "That did poorly for the same number of features!"
   ]
  },
  {
   "cell_type": "code",
   "execution_count": 37,
   "metadata": {
    "collapsed": true
   },
   "outputs": [],
   "source": [
    "pca.fit(X)\n",
    "X_pca = pca.transform(X)"
   ]
  },
  {
   "cell_type": "code",
   "execution_count": 38,
   "metadata": {},
   "outputs": [
    {
     "name": "stdout",
     "output_type": "stream",
     "text": [
      "RFE Vanilla Regression: 0.92 +/- 0.04\n",
      "RFE Ridge Regression: 0.92 +/- 0.04\n",
      "RFE Lasso Regression: 0.92 +/- 0.04\n"
     ]
    }
   ],
   "source": [
    "n_folds = 6\n",
    "# With 6 folds, the training set will have about 750 data points, and the test set will have about 150.\n",
    "# Changing this parameter changed the variance in the accuracy, but not by much.\n",
    "\n",
    "regr_score = cross_val_score(regr, X_pca, Y, cv=n_folds)\n",
    "ridg_score = cross_val_score(ridg, X_pca, Y, cv=n_folds)\n",
    "lass_score = cross_val_score(lass, X_pca, Y, cv=n_folds)\n",
    "\n",
    "print('RFE Vanilla Regression: %.2f +/- %.2f' % (regr_score.mean(), 2*regr_score.std()))\n",
    "print('RFE Ridge Regression: %.2f +/- %.2f' % (ridg_score.mean(), 2*ridg_score.std()))\n",
    "print('RFE Lasso Regression: %.2f +/- %.2f' % (lass_score.mean(), 2*lass_score.std()))"
   ]
  },
  {
   "cell_type": "markdown",
   "metadata": {},
   "source": [
    "I'm surprised this isn't as good as RFE -- it seems like it should have captured more information from the dataset. I suppose it isn't sensitive to which values are correlated to the output Y, though, while RFE is specifically trained to choose those. "
   ]
  },
  {
   "cell_type": "code",
   "execution_count": null,
   "metadata": {
    "collapsed": true
   },
   "outputs": [],
   "source": []
  }
 ],
 "metadata": {
  "kernelspec": {
   "display_name": "Python 3",
   "language": "python",
   "name": "python3"
  },
  "language_info": {
   "codemirror_mode": {
    "name": "ipython",
    "version": 3
   },
   "file_extension": ".py",
   "mimetype": "text/x-python",
   "name": "python",
   "nbconvert_exporter": "python",
   "pygments_lexer": "ipython3",
   "version": "3.6.2"
  }
 },
 "nbformat": 4,
 "nbformat_minor": 2
}
