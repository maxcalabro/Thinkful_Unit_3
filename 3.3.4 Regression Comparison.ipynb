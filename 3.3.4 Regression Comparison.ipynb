{
 "cells": [
  {
   "cell_type": "markdown",
   "metadata": {},
   "source": [
    "## Regression Comparison\n",
    "\n",
    "Let's look at standard logistic regression, Ridge Regression, and Lasso Regression and see how they compare when examining breast cancer diagnosis."
   ]
  },
  {
   "cell_type": "code",
   "execution_count": 1,
   "metadata": {},
   "outputs": [],
   "source": [
    "import pandas as pd\n",
    "from matplotlib import pyplot as plt\n",
    "import numpy as np\n",
    "import math\n",
    "import seaborn as sns\n",
    "import sklearn\n",
    "from sklearn import linear_model\n",
    "from sklearn import preprocessing\n",
    "from sklearn.model_selection import cross_val_score\n",
    "\n",
    "%matplotlib inline\n",
    "sns.set_style('white')"
   ]
  },
  {
   "cell_type": "code",
   "execution_count": 2,
   "metadata": {},
   "outputs": [
    {
     "data": {
      "text/plain": [
       "(683, 11)"
      ]
     },
     "execution_count": 2,
     "metadata": {},
     "output_type": "execute_result"
    }
   ],
   "source": [
    "full_df = pd.read_csv('Breast Cancer Diagnosis/breast-cancer-wisconsin.data', \n",
    "                      names=['id','clumpthickness','cellsize','cellshape','adhesion','epithelialsize',\n",
    "                             'barenuclei','chromatin','nucleoli','mitosis','class']\n",
    "                     ) \n",
    "full_df['class'] = full_df['class'].replace({2:0, 4:1})\n",
    "full_df['barenuclei'] = pd.to_numeric(full_df['barenuclei'], errors='coerce')\n",
    "full_df = full_df.dropna()\n",
    "full_df.shape"
   ]
  },
  {
   "cell_type": "code",
   "execution_count": 3,
   "metadata": {},
   "outputs": [
    {
     "data": {
      "text/html": [
       "<div>\n",
       "<style>\n",
       "    .dataframe thead tr:only-child th {\n",
       "        text-align: right;\n",
       "    }\n",
       "\n",
       "    .dataframe thead th {\n",
       "        text-align: left;\n",
       "    }\n",
       "\n",
       "    .dataframe tbody tr th {\n",
       "        vertical-align: top;\n",
       "    }\n",
       "</style>\n",
       "<table border=\"1\" class=\"dataframe\">\n",
       "  <thead>\n",
       "    <tr style=\"text-align: right;\">\n",
       "      <th></th>\n",
       "      <th>id</th>\n",
       "      <th>clumpthickness</th>\n",
       "      <th>cellsize</th>\n",
       "      <th>cellshape</th>\n",
       "      <th>adhesion</th>\n",
       "      <th>epithelialsize</th>\n",
       "      <th>barenuclei</th>\n",
       "      <th>chromatin</th>\n",
       "      <th>nucleoli</th>\n",
       "      <th>mitosis</th>\n",
       "      <th>class</th>\n",
       "    </tr>\n",
       "  </thead>\n",
       "  <tbody>\n",
       "    <tr>\n",
       "      <th>0</th>\n",
       "      <td>1000025</td>\n",
       "      <td>5</td>\n",
       "      <td>1</td>\n",
       "      <td>1</td>\n",
       "      <td>1</td>\n",
       "      <td>2</td>\n",
       "      <td>1.0</td>\n",
       "      <td>3</td>\n",
       "      <td>1</td>\n",
       "      <td>1</td>\n",
       "      <td>0</td>\n",
       "    </tr>\n",
       "    <tr>\n",
       "      <th>1</th>\n",
       "      <td>1002945</td>\n",
       "      <td>5</td>\n",
       "      <td>4</td>\n",
       "      <td>4</td>\n",
       "      <td>5</td>\n",
       "      <td>7</td>\n",
       "      <td>10.0</td>\n",
       "      <td>3</td>\n",
       "      <td>2</td>\n",
       "      <td>1</td>\n",
       "      <td>0</td>\n",
       "    </tr>\n",
       "    <tr>\n",
       "      <th>2</th>\n",
       "      <td>1015425</td>\n",
       "      <td>3</td>\n",
       "      <td>1</td>\n",
       "      <td>1</td>\n",
       "      <td>1</td>\n",
       "      <td>2</td>\n",
       "      <td>2.0</td>\n",
       "      <td>3</td>\n",
       "      <td>1</td>\n",
       "      <td>1</td>\n",
       "      <td>0</td>\n",
       "    </tr>\n",
       "    <tr>\n",
       "      <th>3</th>\n",
       "      <td>1016277</td>\n",
       "      <td>6</td>\n",
       "      <td>8</td>\n",
       "      <td>8</td>\n",
       "      <td>1</td>\n",
       "      <td>3</td>\n",
       "      <td>4.0</td>\n",
       "      <td>3</td>\n",
       "      <td>7</td>\n",
       "      <td>1</td>\n",
       "      <td>0</td>\n",
       "    </tr>\n",
       "    <tr>\n",
       "      <th>4</th>\n",
       "      <td>1017023</td>\n",
       "      <td>4</td>\n",
       "      <td>1</td>\n",
       "      <td>1</td>\n",
       "      <td>3</td>\n",
       "      <td>2</td>\n",
       "      <td>1.0</td>\n",
       "      <td>3</td>\n",
       "      <td>1</td>\n",
       "      <td>1</td>\n",
       "      <td>0</td>\n",
       "    </tr>\n",
       "  </tbody>\n",
       "</table>\n",
       "</div>"
      ],
      "text/plain": [
       "        id  clumpthickness  cellsize  cellshape  adhesion  epithelialsize  \\\n",
       "0  1000025               5         1          1         1               2   \n",
       "1  1002945               5         4          4         5               7   \n",
       "2  1015425               3         1          1         1               2   \n",
       "3  1016277               6         8          8         1               3   \n",
       "4  1017023               4         1          1         3               2   \n",
       "\n",
       "   barenuclei  chromatin  nucleoli  mitosis  class  \n",
       "0         1.0          3         1        1      0  \n",
       "1        10.0          3         2        1      0  \n",
       "2         2.0          3         1        1      0  \n",
       "3         4.0          3         7        1      0  \n",
       "4         1.0          3         1        1      0  "
      ]
     },
     "execution_count": 3,
     "metadata": {},
     "output_type": "execute_result"
    }
   ],
   "source": [
    "full_df.head()"
   ]
  },
  {
   "cell_type": "code",
   "execution_count": 4,
   "metadata": {
    "collapsed": true
   },
   "outputs": [],
   "source": [
    "Y = full_df['class'].values.reshape(-1, 1).ravel()\n",
    "X = full_df.loc[:, 'clumpthickness':'mitosis']"
   ]
  },
  {
   "cell_type": "code",
   "execution_count": 5,
   "metadata": {},
   "outputs": [
    {
     "data": {
      "text/plain": [
       "(683, 9)"
      ]
     },
     "execution_count": 5,
     "metadata": {},
     "output_type": "execute_result"
    }
   ],
   "source": [
    "X.shape"
   ]
  },
  {
   "cell_type": "markdown",
   "metadata": {},
   "source": [
    "Let's create some new features to broaden the analysis."
   ]
  },
  {
   "cell_type": "code",
   "execution_count": 6,
   "metadata": {
    "collapsed": true
   },
   "outputs": [],
   "source": [
    "X['cell_epithelial'] = X['cellsize'] * X['epithelialsize']\n",
    "X['bare_nucleoli'] = X['barenuclei'] * X['nucleoli']\n",
    "X['clump_shape'] = X['clumpthickness'] * X['cellshape']\n",
    "X['chromatin_adhesion'] = X['chromatin'] * X['adhesion']\n",
    "X['mitosis_shape'] = X['mitosis'] * X['cellshape']\n",
    "X['clump_bare'] = X['clumpthickness'] * X['barenuclei']\n",
    "X['size_2'] = X['cellsize'] * X['cellsize']\n",
    "X['nucleoli_2'] = X['nucleoli'] * X['nucleoli']"
   ]
  },
  {
   "cell_type": "code",
   "execution_count": 31,
   "metadata": {},
   "outputs": [
    {
     "name": "stdout",
     "output_type": "stream",
     "text": [
      "0.972181551977\n",
      "0.96486090776\n",
      "0.96486090776\n"
     ]
    }
   ],
   "source": [
    "# To negate the automatic regularization in the LogisticRegression() model, we can set C to be large.\n",
    "\n",
    "regr = linear_model.LogisticRegression(penalty='l2', C=1e5, fit_intercept=False)\n",
    "ridg = linear_model.LogisticRegression(penalty='l2', C=0.05, fit_intercept=False)\n",
    "lass = linear_model.LogisticRegression(penalty='l1', C=0.05, fit_intercept=False)\n",
    "\n",
    "regr.fit(X,Y)\n",
    "ridg.fit(X,Y)\n",
    "lass.fit(X,Y)\n",
    "\n",
    "print(regr.score(X,Y))\n",
    "print(ridg.score(X,Y))\n",
    "print(lass.score(X,Y))"
   ]
  },
  {
   "cell_type": "code",
   "execution_count": 42,
   "metadata": {},
   "outputs": [
    {
     "name": "stdout",
     "output_type": "stream",
     "text": [
      "Vanilla Regression: 0.95 +/- 0.05\n",
      "Ridge Regression: 0.95 +/- 0.08\n",
      "Lasso Regression: 0.95 +/- 0.07\n"
     ]
    }
   ],
   "source": [
    "n_folds = 6\n",
    "# With 6 folds, the training set will have about 550 data points, and the test set will have about 110.\n",
    "# Changing this parameter changed the variance in the accuracy, but not by much.\n",
    "\n",
    "regr_score = cross_val_score(regr, X, Y, cv=n_folds)\n",
    "ridg_score = cross_val_score(ridg, X, Y, cv=n_folds)\n",
    "lass_score = cross_val_score(lass, X, Y, cv=n_folds)\n",
    "\n",
    "print('Vanilla Regression: %.2f +/- %.2f' % (regr_score.mean(), 2*regr_score.std()))\n",
    "print('Ridge Regression: %.2f +/- %.2f' % (ridg_score.mean(), 2*ridg_score.std()))\n",
    "print('Lasso Regression: %.2f +/- %.2f' % (lass_score.mean(), 2*lass_score.std()))"
   ]
  },
  {
   "cell_type": "markdown",
   "metadata": {},
   "source": [
    "Accuracy for these models on this data set are are about equal. Let's see if anything interesting happened with the coefficients."
   ]
  },
  {
   "cell_type": "code",
   "execution_count": 33,
   "metadata": {},
   "outputs": [
    {
     "data": {
      "text/plain": [
       "array([[ 0.20466653, -0.03989445, -2.43359885,  0.21604814, -0.88656952,\n",
       "         0.46797946,  0.32484814, -0.45764693, -5.52135748,  0.2023485 ,\n",
       "        -0.05425013,  0.01879739,  0.04341705,  2.85696572,  0.02113579,\n",
       "        -0.08781763,  0.09922987]])"
      ]
     },
     "execution_count": 33,
     "metadata": {},
     "output_type": "execute_result"
    }
   ],
   "source": [
    "regr.coef_"
   ]
  },
  {
   "cell_type": "code",
   "execution_count": 34,
   "metadata": {},
   "outputs": [
    {
     "data": {
      "text/plain": [
       "array([[-0.48879288, -0.26684986, -0.38816821, -0.34472689, -0.68488374,\n",
       "        -0.03299346, -0.2810587 , -0.35349209, -0.32446246,  0.18337765,\n",
       "        -0.03666279,  0.12499736,  0.20809154,  0.33215703,  0.11419692,\n",
       "        -0.06864741,  0.08153829]])"
      ]
     },
     "execution_count": 34,
     "metadata": {},
     "output_type": "execute_result"
    }
   ],
   "source": [
    "ridg.coef_"
   ]
  },
  {
   "cell_type": "code",
   "execution_count": 35,
   "metadata": {},
   "outputs": [
    {
     "data": {
      "text/plain": [
       "array([[-0.51919287,  0.        , -0.04181794,  0.        , -1.18056651,\n",
       "         0.        , -0.0612637 ,  0.        ,  0.        ,  0.23576338,\n",
       "        -0.00638086,  0.10505863,  0.05079747,  0.02403591,  0.09561895,\n",
       "        -0.07905688,  0.03139293]])"
      ]
     },
     "execution_count": 35,
     "metadata": {},
     "output_type": "execute_result"
    }
   ],
   "source": [
    "lass.coef_"
   ]
  },
  {
   "cell_type": "markdown",
   "metadata": {},
   "source": [
    "Nothing too crazy -- these values are all reasonable. Lasso did eliminate 5 of the features, which is nice. I suspect this data set is too small to really see substantial differences between the models. I played with C values (1/lambda), and I can increase the L1 regularization to the point where only 5-6 features remain and still get 94-95% accuracy. For a larger dataset, this could be a powerful tool. The L2 regularization doesn't prove to be so necessary for this particular model -- none of the coefficients in the Vanilla Regression are getting out of control, and Vanilla still performs slightly better on the cross validation set. \n",
    "\n",
    "These accuracy values are also very similar to that I was able to achieve with a simple Random Forest model. "
   ]
  },
  {
   "cell_type": "code",
   "execution_count": null,
   "metadata": {
    "collapsed": true
   },
   "outputs": [],
   "source": []
  }
 ],
 "metadata": {
  "kernelspec": {
   "display_name": "Python 3",
   "language": "python",
   "name": "python3"
  },
  "language_info": {
   "codemirror_mode": {
    "name": "ipython",
    "version": 3
   },
   "file_extension": ".py",
   "mimetype": "text/x-python",
   "name": "python",
   "nbconvert_exporter": "python",
   "pygments_lexer": "ipython3",
   "version": "3.6.2"
  }
 },
 "nbformat": 4,
 "nbformat_minor": 2
}
